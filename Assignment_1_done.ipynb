{
 "cells": [
  {
   "cell_type": "markdown",
   "id": "526cf307",
   "metadata": {},
   "source": [
    "1. In the below elements which of them are values or an expression? eg:- values can be integer or string and expressions will be mathematical operators.\n",
    "\n",
    "1. *\n",
    "2. 'hello'\n",
    "3. -87.8\n",
    "4. -\n",
    "5. /\n",
    "6. +\n",
    "7. 6\n",
    "\n",
    "\n",
    "Ans. Values are 'hello', -87.8, 6 and \n",
    "Expressions are *, -, /, +\n"
   ]
  },
  {
   "cell_type": "markdown",
   "id": "c179e4b2",
   "metadata": {},
   "source": [
    "2. What is the difference between string and variable?\n",
    "\n",
    "A string is a value but a variable is the one that refers to the string.\n",
    "String is immutable i.e. if we try to change any character in a string, it will throw an error {‘str’ object does not support item assignment}. But, a variable’s value can be changed. Example -"
   ]
  },
  {
   "cell_type": "code",
   "execution_count": 2,
   "id": "59711732",
   "metadata": {},
   "outputs": [],
   "source": [
    "firstName = 'Himanshu'"
   ]
  },
  {
   "cell_type": "code",
   "execution_count": 4,
   "id": "d804d624",
   "metadata": {},
   "outputs": [
    {
     "data": {
      "text/plain": [
       "'H'"
      ]
     },
     "execution_count": 4,
     "metadata": {},
     "output_type": "execute_result"
    }
   ],
   "source": [
    "firstName[0]"
   ]
  },
  {
   "cell_type": "code",
   "execution_count": 5,
   "id": "777bcab1",
   "metadata": {},
   "outputs": [
    {
     "ename": "TypeError",
     "evalue": "'str' object does not support item assignment",
     "output_type": "error",
     "traceback": [
      "\u001b[1;31m---------------------------------------------------------------------------\u001b[0m",
      "\u001b[1;31mTypeError\u001b[0m                                 Traceback (most recent call last)",
      "\u001b[1;32m~\\AppData\\Local\\Temp\\ipykernel_18732\\207124262.py\u001b[0m in \u001b[0;36m<module>\u001b[1;34m\u001b[0m\n\u001b[0;32m      1\u001b[0m \u001b[1;31m#but if we try to change the value at any index, it will throw the below error --\u001b[0m\u001b[1;33m\u001b[0m\u001b[1;33m\u001b[0m\u001b[0m\n\u001b[1;32m----> 2\u001b[1;33m \u001b[0mfirstName\u001b[0m\u001b[1;33m[\u001b[0m\u001b[1;36m0\u001b[0m\u001b[1;33m]\u001b[0m \u001b[1;33m=\u001b[0m \u001b[1;34m'J'\u001b[0m\u001b[1;33m\u001b[0m\u001b[1;33m\u001b[0m\u001b[0m\n\u001b[0m",
      "\u001b[1;31mTypeError\u001b[0m: 'str' object does not support item assignment"
     ]
    }
   ],
   "source": [
    "#but if we try to change the value at any index, it will throw the below error --\n",
    "firstName[0] = 'J'"
   ]
  },
  {
   "cell_type": "markdown",
   "id": "046ab9cb",
   "metadata": {},
   "source": [
    "3. Describe three different data types.\n",
    "\n",
    "List - Indentation is []. A list is mutable and the elements stay in the pre-defined ordered way. A list can contain duplicate and multiple data type values.\n",
    "\n",
    "Tuple - Indentation is (). A tuple is immutable and the elements stay in the pre-defined ordered way. A tuple can contain duplicate and multiple data type values. Can be used for storing passwords or any type of data that should be constant.\n",
    "\n",
    "Dictionary - Indentation is {k1: V1, K2: V2}. A dictionary is mutable and ordered(after 3.7 version). Keys can not be duplicated. If we put duplicate keys then the only last one (key-value pair) will be counted in the created dict\n"
   ]
  },
  {
   "cell_type": "code",
   "execution_count": 10,
   "id": "d95ea944",
   "metadata": {},
   "outputs": [
    {
     "data": {
      "text/plain": [
       "[1, 32, 2, 'himanshu', (23, 322, 45)]"
      ]
     },
     "execution_count": 10,
     "metadata": {},
     "output_type": "execute_result"
    }
   ],
   "source": [
    "#list\n",
    "l = [1, 32, 2, 'himanshu', (23, 322, 45)]\n",
    "l"
   ]
  },
  {
   "cell_type": "code",
   "execution_count": 12,
   "id": "750708ed",
   "metadata": {},
   "outputs": [
    {
     "data": {
      "text/plain": [
       "(12, 34, 53, 'kumar', [323, 43, 234])"
      ]
     },
     "execution_count": 12,
     "metadata": {},
     "output_type": "execute_result"
    }
   ],
   "source": [
    "#tuple\n",
    "t = (12, 34, 53, 'kumar', [323, 43, 234])\n",
    "t"
   ]
  },
  {
   "cell_type": "code",
   "execution_count": 13,
   "id": "4eba46f0",
   "metadata": {},
   "outputs": [
    {
     "data": {
      "text/plain": [
       "{'firstName': 'Himanshu', 'lastName': 'Kumar', 'age': 25}"
      ]
     },
     "execution_count": 13,
     "metadata": {},
     "output_type": "execute_result"
    }
   ],
   "source": [
    "#dictionary\n",
    "d = {'firstName': 'Himanshu', 'lastName': 'Kumar', 'age': 25}\n",
    "d"
   ]
  },
  {
   "cell_type": "code",
   "execution_count": 16,
   "id": "5175b52d",
   "metadata": {},
   "outputs": [
    {
     "data": {
      "text/plain": [
       "{'name': 'kumar', 'age': 25}"
      ]
     },
     "execution_count": 16,
     "metadata": {},
     "output_type": "execute_result"
    }
   ],
   "source": [
    "d1 = {'name': 'Himanshu', 'name': 'kumar', 'age': 25}\n",
    "d1"
   ]
  },
  {
   "cell_type": "markdown",
   "id": "8c2a790f",
   "metadata": {},
   "source": [
    "4. What is an expression made up of? What do all expressions do?\n",
    "\n",
    "An expression is made up of operands, operators, and sometimes function calls, which are combined in a specific syntax to represent an evaluation."
   ]
  },
  {
   "cell_type": "markdown",
   "id": "0ed76fcd",
   "metadata": {},
   "source": [
    "5. This assignment statements, like spam = 10. What is the difference between an expression and a statement?\n",
    "\n",
    "An expression is a combination of values, variables, and operators that can be evaluated to produce a single value. Expressions can be as simple as a single variable or constant, or they can be more complex, involving multiple variables and operators.\n",
    "\n",
    "A statement, on the other hand, is an instruction. It performs an action or controls the flow of the program. Unlike expressions, statements do not produce a value. A statement can include expressions.\n",
    "Statements consists of loops, conditionals, or function/method calls. They determine the sequence of actions that the program should take."
   ]
  },
  {
   "cell_type": "code",
   "execution_count": 20,
   "id": "cb506edf",
   "metadata": {},
   "outputs": [],
   "source": [
    "spam = 10  #this is a statement as value 10 is being assigned to a variable 'spam'"
   ]
  },
  {
   "cell_type": "code",
   "execution_count": 21,
   "id": "b50a8b05",
   "metadata": {},
   "outputs": [
    {
     "data": {
      "text/plain": [
       "11"
      ]
     },
     "execution_count": 21,
     "metadata": {},
     "output_type": "execute_result"
    }
   ],
   "source": [
    "#if we do some certain operations with this variable, this will be an expression as it will evaluate some value like below\n",
    "spam + 1"
   ]
  },
  {
   "cell_type": "markdown",
   "id": "8b40fc2b",
   "metadata": {},
   "source": [
    "6. After running the following code, what does the variable bacon contain?\n",
    "bacon = 22\n",
    "bacon + 1\n",
    "\n",
    "value of bacon will be 22 itself because we are not reassigning the evaluated value to the variable 'bacon'"
   ]
  },
  {
   "cell_type": "code",
   "execution_count": 22,
   "id": "da3ec926",
   "metadata": {},
   "outputs": [
    {
     "data": {
      "text/plain": [
       "23"
      ]
     },
     "execution_count": 22,
     "metadata": {},
     "output_type": "execute_result"
    }
   ],
   "source": [
    "bacon = 22\n",
    "bacon + 1 #reassignment not happening. Its just a temporary evaluation"
   ]
  },
  {
   "cell_type": "code",
   "execution_count": 23,
   "id": "c76afbd3",
   "metadata": {},
   "outputs": [
    {
     "data": {
      "text/plain": [
       "22"
      ]
     },
     "execution_count": 23,
     "metadata": {},
     "output_type": "execute_result"
    }
   ],
   "source": [
    "bacon #value of bacon is still 22"
   ]
  },
  {
   "cell_type": "code",
   "execution_count": 26,
   "id": "91d04a9a",
   "metadata": {},
   "outputs": [
    {
     "data": {
      "text/plain": [
       "23"
      ]
     },
     "execution_count": 26,
     "metadata": {},
     "output_type": "execute_result"
    }
   ],
   "source": [
    "#If we do bacon = bacon + 1 then the value of the variable 'bacon' will be 23\n",
    "bacon = bacon + 1\n",
    "bacon #value of bacon is 23 now"
   ]
  },
  {
   "cell_type": "markdown",
   "id": "072c2e04",
   "metadata": {},
   "source": [
    "7. What should the values of the following two terms be?\n",
    "'spam' + 'spamspam'\n",
    "'spam' * 3\n",
    "\n",
    "They are strings so they will be concatenated\n",
    "For 'spam' * 3 results will be the same as this expression means to concatenate 'spam' 3 times"
   ]
  },
  {
   "cell_type": "code",
   "execution_count": 29,
   "id": "52f86c8b",
   "metadata": {},
   "outputs": [
    {
     "data": {
      "text/plain": [
       "'spamspamspam'"
      ]
     },
     "execution_count": 29,
     "metadata": {},
     "output_type": "execute_result"
    }
   ],
   "source": [
    "'spam' + 'spamspam'"
   ]
  },
  {
   "cell_type": "code",
   "execution_count": 32,
   "id": "383fc102",
   "metadata": {},
   "outputs": [
    {
     "data": {
      "text/plain": [
       "'spamspamspam'"
      ]
     },
     "execution_count": 32,
     "metadata": {},
     "output_type": "execute_result"
    }
   ],
   "source": [
    "'spam' * 3"
   ]
  },
  {
   "cell_type": "markdown",
   "id": "a6be4dee",
   "metadata": {},
   "source": [
    "8. Why is eggs a valid variable name while 100 is invalid?\n",
    "\n",
    "Variable names need to follow certain rules and conventions in any programming language. Also, eggs variable name is valid because it is starting with a letter and not a number. However, 100 starts with a number which is not supported in python.\n",
    "\n",
    "Apart from this, a naming convention should be followed for better understanding of the code."
   ]
  },
  {
   "cell_type": "code",
   "execution_count": 37,
   "id": "ec87beb5",
   "metadata": {},
   "outputs": [
    {
     "data": {
      "text/plain": [
       "10"
      ]
     },
     "execution_count": 37,
     "metadata": {},
     "output_type": "execute_result"
    }
   ],
   "source": [
    "a100 = 10 #this is valid\n",
    "a100"
   ]
  },
  {
   "cell_type": "code",
   "execution_count": 38,
   "id": "fa94c225",
   "metadata": {},
   "outputs": [
    {
     "ename": "SyntaxError",
     "evalue": "cannot assign to literal (4254712056.py, line 1)",
     "output_type": "error",
     "traceback": [
      "\u001b[1;36m  File \u001b[1;32m\"C:\\Users\\write\\AppData\\Local\\Temp\\ipykernel_18732\\4254712056.py\"\u001b[1;36m, line \u001b[1;32m1\u001b[0m\n\u001b[1;33m    100 = 10 #even after having a look, this seems to be a complete disaster and also assignment of a number into a number is not possible in any programming language\u001b[0m\n\u001b[1;37m    ^\u001b[0m\n\u001b[1;31mSyntaxError\u001b[0m\u001b[1;31m:\u001b[0m cannot assign to literal\n"
     ]
    }
   ],
   "source": [
    "100 = 10 #even after having a look, this seems to be a complete disaster and also assignment of a number into a number is not possible in any programming language"
   ]
  },
  {
   "cell_type": "code",
   "execution_count": 39,
   "id": "ce5dd037",
   "metadata": {},
   "outputs": [],
   "source": [
    "eggs = 100 #valid and working"
   ]
  },
  {
   "cell_type": "markdown",
   "id": "abf5b1e1",
   "metadata": {},
   "source": [
    "9. What three functions can be used to get the integer, floating-point number, or string version of a value?\n",
    "\n",
    "There are 3 functions that can be used to convert values in integer, floating-point number, or string.\n",
    "The functions are - int(), float(), str()"
   ]
  },
  {
   "cell_type": "code",
   "execution_count": 47,
   "id": "811b6caa",
   "metadata": {},
   "outputs": [
    {
     "name": "stdout",
     "output_type": "stream",
     "text": [
      "10\n",
      "<class 'int'>\n"
     ]
    }
   ],
   "source": [
    "v1 = 10.5\n",
    "integer_value = int(v1)\n",
    "print(integer_value)  # Output: 10\n",
    "print(type(integer_value)) # type is integer"
   ]
  },
  {
   "cell_type": "code",
   "execution_count": 46,
   "id": "ab8db8f3",
   "metadata": {},
   "outputs": [
    {
     "name": "stdout",
     "output_type": "stream",
     "text": [
      "3.14\n",
      "<class 'float'>\n"
     ]
    }
   ],
   "source": [
    "v2 = \"3.14\"\n",
    "float_value = float(v2)\n",
    "print(float_value)  # Output: 3.14\n",
    "print(type(float_value)) # type is float"
   ]
  },
  {
   "cell_type": "code",
   "execution_count": 45,
   "id": "5cdce5f8",
   "metadata": {},
   "outputs": [
    {
     "name": "stdout",
     "output_type": "stream",
     "text": [
      "42\n",
      "<class 'str'>\n"
     ]
    }
   ],
   "source": [
    "v3 = 42\n",
    "string_value = str(v3)\n",
    "print(string_value)  # Output: \"42\"\n",
    "print(type(string_value)) #type is string"
   ]
  },
  {
   "cell_type": "markdown",
   "id": "293226e3",
   "metadata": {},
   "source": [
    "10. Why does this expression cause an error? How can you fix it?\n",
    "'I have eaten ' + 99 + ' burritos.'\n",
    "\n",
    "In this expression, we are trying to concatenate a string to an integer which is not possible in python. To fix this, we can firstly convert the integer to a string and then the expression will work"
   ]
  },
  {
   "cell_type": "code",
   "execution_count": 50,
   "id": "0613ab21",
   "metadata": {},
   "outputs": [
    {
     "data": {
      "text/plain": [
       "'I have eaten 99 burritos.'"
      ]
     },
     "execution_count": 50,
     "metadata": {},
     "output_type": "execute_result"
    }
   ],
   "source": [
    "'I have eaten ' + str(99) + ' burritos.'"
   ]
  },
  {
   "cell_type": "markdown",
   "id": "4c1e6312",
   "metadata": {},
   "source": [
    "I hope all the questions are answered correctly. Thank You 😊"
   ]
  }
 ],
 "metadata": {
  "kernelspec": {
   "display_name": "Python 3 (ipykernel)",
   "language": "python",
   "name": "python3"
  },
  "language_info": {
   "codemirror_mode": {
    "name": "ipython",
    "version": 3
   },
   "file_extension": ".py",
   "mimetype": "text/x-python",
   "name": "python",
   "nbconvert_exporter": "python",
   "pygments_lexer": "ipython3",
   "version": "3.9.13"
  }
 },
 "nbformat": 4,
 "nbformat_minor": 5
}
