{
 "cells": [
  {
   "cell_type": "markdown",
   "id": "a06a2c51",
   "metadata": {},
   "source": [
    "# 1. What does an empty dictionary's code look like?\n",
    "\n",
    "An empty dictionary is represented by a pair of curly braces {} with no key-value pairs inside."
   ]
  },
  {
   "cell_type": "code",
   "execution_count": 1,
   "id": "9ba240bc",
   "metadata": {},
   "outputs": [
    {
     "data": {
      "text/plain": [
       "dict"
      ]
     },
     "execution_count": 1,
     "metadata": {},
     "output_type": "execute_result"
    }
   ],
   "source": [
    "empty_dict = {}\n",
    "type(empty_dict)"
   ]
  },
  {
   "cell_type": "markdown",
   "id": "e556f9f5",
   "metadata": {},
   "source": [
    "# 2. What is the value of a dictionary value with the key 'foo' and the value 42?"
   ]
  },
  {
   "cell_type": "code",
   "execution_count": 2,
   "id": "c3fc2fb1",
   "metadata": {},
   "outputs": [
    {
     "data": {
      "text/plain": [
       "42"
      ]
     },
     "execution_count": 2,
     "metadata": {},
     "output_type": "execute_result"
    }
   ],
   "source": [
    "d = {'foo': 42}\n",
    "d['foo']"
   ]
  },
  {
   "cell_type": "markdown",
   "id": "f2ae4e69",
   "metadata": {},
   "source": [
    "# 3. What is the most significant distinction between a dictionary and a list?\n",
    "\n",
    "The significant distionctions between a dictionary and a list are their Structure, Ordering, Usages, Accessing Elements etc\n",
    "\n",
    "A list is an ordered collection of elements where each element is assigned an index. Lists are mutable, contains duplicate values, and it can store multiple data type values.\n",
    "\n",
    "However, a dictionary is an unordered collection of key-value pairs (version 3.7). Each key is unique within the dictionary, and it is used to access its corresponding value. Dictionaries are also mutable and allows the addition, modification, and deletion of key-value pairs.\n",
    "\n",
    "In lists, elements are accessed by their index number, which starts from 0. Elements in a dictionary are accessed using their keys. We can retrieve values by specifying the key associated with them.\n",
    "\n",
    "Lists maintains the order of elements based on their position. The order of elements in a list remains the same unless modified. The order of elements in a dictionary is not fixed and may change during operations. Accessing ;the elements in a dictionary works on their keys.\n",
    "\n",
    "Lists are commonly used when the order of items is the priority, such as when working with sequences or performing operations like sorting or filtering. Dictionary is suitable for storing and accessing data in a key-value format. They are commonly used when we need to associate and retrieve values based on specific keys."
   ]
  },
  {
   "cell_type": "code",
   "execution_count": 3,
   "id": "4ee56ca8",
   "metadata": {},
   "outputs": [],
   "source": [
    "#List suitable example \n",
    "shopping_list = [\"apples\", \"bananas\", \"bread\", \"milk\"]\n",
    "student_grades = [78, 85, 92, 68, 90]\n",
    "\n",
    "#Dictionaries suitable example\n",
    "person = {\n",
    "    \"name\": \"John Doe\",\n",
    "    \"age\": 30,\n",
    "    \"city\": \"New York\",\n",
    "    \"occupation\": \"Software Engineer\"\n",
    "}\n",
    "\n",
    "movie_ratings = {\n",
    "    \"Inception\": 8.7,\n",
    "    \"The Shawshank Redemption\": 9.3,\n",
    "    \"Pulp Fiction\": 8.9,\n",
    "    \"The Godfather\": 9.2\n",
    "}\n"
   ]
  },
  {
   "cell_type": "code",
   "execution_count": 8,
   "id": "ac1b841a",
   "metadata": {},
   "outputs": [
    {
     "data": {
      "text/plain": [
       "'Software Engineer'"
      ]
     },
     "execution_count": 8,
     "metadata": {},
     "output_type": "execute_result"
    }
   ],
   "source": [
    "person['occupation']"
   ]
  },
  {
   "cell_type": "code",
   "execution_count": 9,
   "id": "3997417f",
   "metadata": {},
   "outputs": [
    {
     "data": {
      "text/plain": [
       "9.2"
      ]
     },
     "execution_count": 9,
     "metadata": {},
     "output_type": "execute_result"
    }
   ],
   "source": [
    "movie_ratings['The Godfather']"
   ]
  },
  {
   "cell_type": "markdown",
   "id": "dfc5f5e1",
   "metadata": {},
   "source": [
    "# 4. What happens if you try to access spam['foo'] if spam is {'bar': 100}?"
   ]
  },
  {
   "cell_type": "code",
   "execution_count": 10,
   "id": "8a379331",
   "metadata": {},
   "outputs": [],
   "source": [
    "spam = {'bar': 100}"
   ]
  },
  {
   "cell_type": "code",
   "execution_count": 11,
   "id": "3b44fd3e",
   "metadata": {},
   "outputs": [
    {
     "ename": "KeyError",
     "evalue": "'foo'",
     "output_type": "error",
     "traceback": [
      "\u001b[1;31m---------------------------------------------------------------------------\u001b[0m",
      "\u001b[1;31mKeyError\u001b[0m                                  Traceback (most recent call last)",
      "\u001b[1;32m~\\AppData\\Local\\Temp\\ipykernel_36272\\3999281786.py\u001b[0m in \u001b[0;36m<module>\u001b[1;34m\u001b[0m\n\u001b[1;32m----> 1\u001b[1;33m \u001b[0mspam\u001b[0m\u001b[1;33m[\u001b[0m\u001b[1;34m'foo'\u001b[0m\u001b[1;33m]\u001b[0m\u001b[1;33m\u001b[0m\u001b[1;33m\u001b[0m\u001b[0m\n\u001b[0m",
      "\u001b[1;31mKeyError\u001b[0m: 'foo'"
     ]
    }
   ],
   "source": [
    "# A KeyError will occur as we are trying \n",
    "spam['foo']"
   ]
  },
  {
   "cell_type": "markdown",
   "id": "a9559406",
   "metadata": {},
   "source": [
    "# 5. If a dictionary is stored in spam, what is the difference between the expressions 'cat' in spam and 'cat' in spam.keys()?\n",
    "\n",
    "They both will return the same output"
   ]
  },
  {
   "cell_type": "code",
   "execution_count": 14,
   "id": "ee1aa98d",
   "metadata": {},
   "outputs": [
    {
     "name": "stdout",
     "output_type": "stream",
     "text": [
      "'cat' is a key in spam\n",
      "'cat' is a key in spam.keys()\n"
     ]
    }
   ],
   "source": [
    "spam = {'cat': 'meow', 'dog': 'woof'}\n",
    "\n",
    "# Checking if 'cat' exists as a key in the dictionary 'spam'. This by default searches only for the keys in the dictionary 'spam'\n",
    "if 'cat' in spam:\n",
    "    print(\"'cat' is a key in spam\")\n",
    "\n",
    "# Checking if 'cat' exists within the keys of the dictionary 'spam'. This only searches for the keys()\n",
    "if 'cat' in spam.keys():\n",
    "    print(\"'cat' is a key in spam.keys()\")"
   ]
  },
  {
   "cell_type": "code",
   "execution_count": 15,
   "id": "2c52813c",
   "metadata": {},
   "outputs": [
    {
     "data": {
      "text/plain": [
       "dict_keys(['cat', 'dog'])"
      ]
     },
     "execution_count": 15,
     "metadata": {},
     "output_type": "execute_result"
    }
   ],
   "source": [
    "spam.keys()"
   ]
  },
  {
   "cell_type": "code",
   "execution_count": 20,
   "id": "f24dafe9",
   "metadata": {},
   "outputs": [
    {
     "data": {
      "text/plain": [
       "{'cat': 'meow', 'dog': 'woof'}"
      ]
     },
     "execution_count": 20,
     "metadata": {},
     "output_type": "execute_result"
    }
   ],
   "source": [
    "spam"
   ]
  },
  {
   "cell_type": "markdown",
   "id": "400f72c9",
   "metadata": {},
   "source": [
    "# 6. If a dictionary is stored in spam, what is the difference between the expressions 'cat' in spam and 'cat' in spam.values()?"
   ]
  },
  {
   "cell_type": "code",
   "execution_count": 21,
   "id": "2e651685",
   "metadata": {},
   "outputs": [
    {
     "name": "stdout",
     "output_type": "stream",
     "text": [
      "Cat found in spam!\n"
     ]
    }
   ],
   "source": [
    "if 'cat' in spam:\n",
    "    print('Cat found in spam!')\n",
    "    \n",
    "    \n",
    "# spam.values() only returns the values in the dictionary\n",
    "if 'cat' in spam.values():\n",
    "    print('Cat found in spam.values()')"
   ]
  },
  {
   "cell_type": "code",
   "execution_count": 22,
   "id": "70b6af8e",
   "metadata": {},
   "outputs": [
    {
     "data": {
      "text/plain": [
       "dict_values(['meow', 'woof'])"
      ]
     },
     "execution_count": 22,
     "metadata": {},
     "output_type": "execute_result"
    }
   ],
   "source": [
    "spam.values()"
   ]
  },
  {
   "cell_type": "markdown",
   "id": "286379a7",
   "metadata": {},
   "source": [
    "# 7. What is a shortcut for the following code?\n",
    "\n",
    "if 'color' not in spam:\n",
    "\n",
    "    spam['color'] = 'black'\n",
    "    \n",
    "    \n",
    "This line of code checks if the key 'color' exists in the dictionary spam. If the key is not present, it adds the key-value pair 'color': 'black' to the dictionary. If the key already exists, it does not modify the value associated with it."
   ]
  },
  {
   "cell_type": "code",
   "execution_count": 27,
   "id": "c4ad8af1",
   "metadata": {},
   "outputs": [
    {
     "data": {
      "text/plain": [
       "'red'"
      ]
     },
     "execution_count": 27,
     "metadata": {},
     "output_type": "execute_result"
    }
   ],
   "source": [
    "spam.setdefault('color', 'black')"
   ]
  },
  {
   "cell_type": "code",
   "execution_count": 29,
   "id": "e2935e1b",
   "metadata": {},
   "outputs": [
    {
     "data": {
      "text/plain": [
       "{'cat': 'meow', 'dog': 'woof', 'color': 'red'}"
      ]
     },
     "execution_count": 29,
     "metadata": {},
     "output_type": "execute_result"
    }
   ],
   "source": [
    "spam"
   ]
  },
  {
   "cell_type": "markdown",
   "id": "2aa700ca",
   "metadata": {},
   "source": [
    "# 8. How do you \"pretty print\" dictionary values using which module and function?\n",
    "\n",
    "The pprint.pprint() function will take the dictionary as an argument and prints it in a formatted way.\n",
    "We can also see the difference between pprint() and print()"
   ]
  },
  {
   "cell_type": "code",
   "execution_count": 30,
   "id": "4e0f58b2",
   "metadata": {},
   "outputs": [
    {
     "name": "stdout",
     "output_type": "stream",
     "text": [
      "{'age': 26, 'city': 'Noida', 'name': 'Himanshu'}\n"
     ]
    }
   ],
   "source": [
    "import pprint\n",
    "\n",
    "d5 = {'name': 'Himanshu', 'age': 26, 'city': 'Noida'}\n",
    "\n",
    "pprint.pprint(d5)"
   ]
  },
  {
   "cell_type": "code",
   "execution_count": 31,
   "id": "ce7b97b8",
   "metadata": {},
   "outputs": [
    {
     "name": "stdout",
     "output_type": "stream",
     "text": [
      "{'name': 'Himanshu', 'age': 26, 'city': 'Noida'}\n"
     ]
    }
   ],
   "source": [
    "print(d5)"
   ]
  }
 ],
 "metadata": {
  "kernelspec": {
   "display_name": "Python 3 (ipykernel)",
   "language": "python",
   "name": "python3"
  },
  "language_info": {
   "codemirror_mode": {
    "name": "ipython",
    "version": 3
   },
   "file_extension": ".py",
   "mimetype": "text/x-python",
   "name": "python",
   "nbconvert_exporter": "python",
   "pygments_lexer": "ipython3",
   "version": "3.9.13"
  }
 },
 "nbformat": 4,
 "nbformat_minor": 5
}
