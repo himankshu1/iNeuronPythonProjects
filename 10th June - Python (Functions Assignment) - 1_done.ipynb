{
 "cells": [
  {
   "cell_type": "markdown",
   "id": "f997a972",
   "metadata": {},
   "source": [
    "# 1. In Python, what is the difference between a built-in function and a user-defined function? Provide an example of each.\n",
    "\n",
    "A built-in function is a function that is pre-defined in the Python language itself. These functions are pre-build and doesn't require additonal coding.\n",
    "\n",
    "A user-defined function (manually designed function) is a function that is created by the user to perform a specific task."
   ]
  },
  {
   "cell_type": "code",
   "execution_count": 1,
   "id": "e5bd2004",
   "metadata": {},
   "outputs": [
    {
     "name": "stdout",
     "output_type": "stream",
     "text": [
      "13\n"
     ]
    }
   ],
   "source": [
    "# Using the len() built-in function\n",
    "string = \"Hello, world!\"\n",
    "length = len(string)\n",
    "print(length)"
   ]
  },
  {
   "cell_type": "code",
   "execution_count": 2,
   "id": "7d934b54",
   "metadata": {},
   "outputs": [
    {
     "name": "stdout",
     "output_type": "stream",
     "text": [
      "7\n"
     ]
    }
   ],
   "source": [
    "# User-defined function (created manually)\n",
    "def add(number):\n",
    "    return number + 2\n",
    "\n",
    "result = add(5)\n",
    "print(result)\n"
   ]
  },
  {
   "cell_type": "markdown",
   "id": "fa01851e",
   "metadata": {},
   "source": [
    "# 2. How can you pass arguments to a function in Python? Explain the difference between positional arguments and keyword arguments.\n",
    "\n",
    "Positional arguments are passed to a function based on their position. The function receives the arguments in the same order they are passed when calling the function. The number and order of the arguments must match the function's parameter definition.\n",
    "\n",
    "Keyword arguments are passed to a function using the name of the argument and the corresponding value. This allows you to pass arguments out of order and explicitly specify which argument corresponds to which parameter in the function definition."
   ]
  },
  {
   "cell_type": "code",
   "execution_count": 3,
   "id": "1c11fa29",
   "metadata": {},
   "outputs": [
    {
     "name": "stdout",
     "output_type": "stream",
     "text": [
      "Hello, Alice! You are 25 years old.\n"
     ]
    }
   ],
   "source": [
    "#positional arguments\n",
    "def greet(name, age):\n",
    "    print(f\"Hello, {name}! You are {age} years old.\")\n",
    "\n",
    "greet(\"Alice\", 25)"
   ]
  },
  {
   "cell_type": "code",
   "execution_count": 4,
   "id": "dfe666e2",
   "metadata": {},
   "outputs": [
    {
     "name": "stdout",
     "output_type": "stream",
     "text": [
      "Hello, Bob! You are 30 years old.\n"
     ]
    }
   ],
   "source": [
    "#keyword arguments\n",
    "def greet(name, age):\n",
    "    print(f\"Hello, {name}! You are {age} years old.\")\n",
    "\n",
    "greet(age=30, name=\"Bob\")"
   ]
  },
  {
   "cell_type": "markdown",
   "id": "585ce104",
   "metadata": {},
   "source": [
    "# 3. What is the purpose of the return statement in a function? Can a function have multiple return statements? Explain with an example.\n",
    "\n",
    "The return statement in a function is used to specify the value that the function should output or return when it is called. It allows the function to provide a result or pass information back to the caller.\n",
    "\n",
    "The return statement can be used to return a single value, a tuple, a list, or even an object, or multiple values at a time.\n",
    "\n",
    "When the return statement is executed, the function immediately exits, and the specified value is sent back to the caller."
   ]
  },
  {
   "cell_type": "code",
   "execution_count": 5,
   "id": "1ddfa8d6",
   "metadata": {},
   "outputs": [
    {
     "name": "stdout",
     "output_type": "stream",
     "text": [
      "B\n"
     ]
    }
   ],
   "source": [
    "def get_grade(score):\n",
    "    if score >= 90:\n",
    "        return \"A\"\n",
    "    elif score >= 80:\n",
    "        return \"B\"\n",
    "    elif score >= 70:\n",
    "        return \"C\"\n",
    "    elif score >= 60:\n",
    "        return \"D\"\n",
    "    else:\n",
    "        return \"F\"\n",
    "\n",
    "result = get_grade(85)\n",
    "print(result)"
   ]
  },
  {
   "cell_type": "markdown",
   "id": "ce7fd5ce",
   "metadata": {},
   "source": [
    "# 4. What are lambda functions in Python? How are they different from regular functions? Provide an example where a lambda function can be useful.\n",
    "\n",
    "Lambda functions are also known as anonymous functions. They are small, one-line functions that don't require a def statement and are defined using the lambda keyword. They are mostly used for simple, short tasks and are not intended for complex logic."
   ]
  },
  {
   "cell_type": "code",
   "execution_count": 6,
   "id": "5ffe2f8c",
   "metadata": {},
   "outputs": [
    {
     "name": "stdout",
     "output_type": "stream",
     "text": [
      "25\n"
     ]
    }
   ],
   "source": [
    "# Squaring numbers using a lambda function\n",
    "square = lambda x: x ** 2\n",
    "\n",
    "result = square(5)\n",
    "print(result)"
   ]
  },
  {
   "cell_type": "markdown",
   "id": "6eeebba2",
   "metadata": {},
   "source": [
    "# 5. How does the concept of \"scope\" apply to functions in Python? Explain the difference between local scope and global scope.\n",
    "\n",
    "\"scope\" refers to the context in which a variable or name can be accessed. The concept of scope also applies to functions.\n",
    "\n",
    "Local Scope -- Variables defined within a function have local scope. They are accessible only within the function in which they are defined. Once the function finishes executing, the local variables are destroyed, and their values are no longer available. Local variables cannot be accessed outside the function.\n",
    "\n",
    "Global Scope -- Variables defined outside any function or at the top level of a module have global scope. They are accessible from anywhere in the program, including within functions. Global variables retain their value throughout the execution of the program."
   ]
  },
  {
   "cell_type": "code",
   "execution_count": 7,
   "id": "83350398",
   "metadata": {},
   "outputs": [
    {
     "name": "stdout",
     "output_type": "stream",
     "text": [
      "10\n"
     ]
    },
    {
     "ename": "NameError",
     "evalue": "name 'x' is not defined",
     "output_type": "error",
     "traceback": [
      "\u001b[1;31m---------------------------------------------------------------------------\u001b[0m",
      "\u001b[1;31mNameError\u001b[0m                                 Traceback (most recent call last)",
      "\u001b[1;32m~\\AppData\\Local\\Temp\\ipykernel_24916\\136655758.py\u001b[0m in \u001b[0;36m<module>\u001b[1;34m\u001b[0m\n\u001b[0;32m      4\u001b[0m \u001b[1;33m\u001b[0m\u001b[0m\n\u001b[0;32m      5\u001b[0m \u001b[0mmy_function\u001b[0m\u001b[1;33m(\u001b[0m\u001b[1;33m)\u001b[0m\u001b[1;33m\u001b[0m\u001b[1;33m\u001b[0m\u001b[0m\n\u001b[1;32m----> 6\u001b[1;33m \u001b[0mprint\u001b[0m\u001b[1;33m(\u001b[0m\u001b[0mx\u001b[0m\u001b[1;33m)\u001b[0m\u001b[1;33m\u001b[0m\u001b[1;33m\u001b[0m\u001b[0m\n\u001b[0m",
      "\u001b[1;31mNameError\u001b[0m: name 'x' is not defined"
     ]
    }
   ],
   "source": [
    "def my_function():\n",
    "    x = 10  # Local variable\n",
    "    print(x)  # Output: 10\n",
    "\n",
    "my_function()\n",
    "print(x)  # NameError: name 'x' is not defined"
   ]
  },
  {
   "cell_type": "code",
   "execution_count": 8,
   "id": "36e4cdef",
   "metadata": {},
   "outputs": [
    {
     "name": "stdout",
     "output_type": "stream",
     "text": [
      "10\n",
      "10\n"
     ]
    }
   ],
   "source": [
    "x = 10  # Global variable\n",
    "\n",
    "def my_function():\n",
    "    print(x)  # Output: 10\n",
    "\n",
    "my_function()\n",
    "print(x)  # Output: 10"
   ]
  },
  {
   "cell_type": "markdown",
   "id": "8c39dcea",
   "metadata": {},
   "source": [
    "# 6. How can you use the \"return\" statement in a Python function to return multiple values?"
   ]
  },
  {
   "cell_type": "code",
   "execution_count": 9,
   "id": "bdd715ab",
   "metadata": {},
   "outputs": [
    {
     "name": "stdout",
     "output_type": "stream",
     "text": [
      "('Alice', 25, 'Engineer')\n",
      "Alice\n",
      "25\n",
      "Engineer\n"
     ]
    }
   ],
   "source": [
    "def get_person_details():\n",
    "    name = \"Alice\"\n",
    "    age = 25\n",
    "    occupation = \"Engineer\"\n",
    "    return name, age, occupation\n",
    "\n",
    "person = get_person_details()\n",
    "print(person)\n",
    "print(person[0])\n",
    "print(person[1])\n",
    "print(person[2])"
   ]
  },
  {
   "cell_type": "code",
   "execution_count": 11,
   "id": "64cae025",
   "metadata": {},
   "outputs": [
    {
     "data": {
      "text/plain": [
       "tuple"
      ]
     },
     "execution_count": 11,
     "metadata": {},
     "output_type": "execute_result"
    }
   ],
   "source": [
    "type(person)"
   ]
  },
  {
   "cell_type": "markdown",
   "id": "b79b4fcb",
   "metadata": {},
   "source": [
    "# 7. What is the difference between the \"pass by value\" and \"pass by reference\" concepts when it comes to function arguments in Python?\n",
    "\n",
    "Pass by Value -- A copy of the value of the variable is passed to the function. Any changes made to the parameter within the function do not affect the original variable outside the function.\n",
    "\n",
    "Pass by Reference -- A reference to the original variable is passed to the function. Any modifications made to the parameter within the function directly affect the original variable outside the function."
   ]
  },
  {
   "cell_type": "code",
   "execution_count": 12,
   "id": "8cb28fd2",
   "metadata": {},
   "outputs": [
    {
     "name": "stdout",
     "output_type": "stream",
     "text": [
      "[1, 2, 3, 4]\n",
      "10\n"
     ]
    }
   ],
   "source": [
    "def modify_list(my_list, my_number):\n",
    "    my_list.append(4)\n",
    "    my_number = 100\n",
    "\n",
    "numbers = [1, 2, 3]\n",
    "value = 10\n",
    "\n",
    "modify_list(numbers, value)\n",
    "\n",
    "print(numbers)\n",
    "print(value)"
   ]
  },
  {
   "cell_type": "markdown",
   "id": "d3fe66e7",
   "metadata": {},
   "source": [
    "# 8. Create a function that can intake integer or decimal value and do following operations:\n",
    "    \n",
    "    \n",
    "a. Logarithmic function (log x)\n",
    "\n",
    "b. Exponential function (exp(x))\n",
    "\n",
    "c. Power function with base 2 (2*)\n",
    "\n",
    "d. Square root"
   ]
  },
  {
   "cell_type": "code",
   "execution_count": 14,
   "id": "e2270a0a",
   "metadata": {},
   "outputs": [
    {
     "name": "stdout",
     "output_type": "stream",
     "text": [
      "(1.5040773967762742, 90.01713130052181, 22.627416997969522, 2.1213203435596424)\n"
     ]
    }
   ],
   "source": [
    "import math\n",
    "\n",
    "def math_operations(value):\n",
    "    log_result = math.log(value)\n",
    "    exp_result = math.exp(value)\n",
    "    power_result = math.pow(2, value)\n",
    "    sqrt_result = math.sqrt(value)\n",
    "\n",
    "    return log_result, exp_result, power_result, sqrt_result\n",
    "\n",
    "\n",
    "result = math_operations(4.5)\n",
    "print(result)"
   ]
  },
  {
   "cell_type": "markdown",
   "id": "3e79343e",
   "metadata": {},
   "source": [
    "# 9. Create a function that takes a full name as an argument and returns first name and last name."
   ]
  },
  {
   "cell_type": "code",
   "execution_count": 15,
   "id": "b630254d",
   "metadata": {},
   "outputs": [
    {
     "name": "stdout",
     "output_type": "stream",
     "text": [
      "First Name is:  Himanshu\n",
      "Last Name is:  Kumar\n"
     ]
    }
   ],
   "source": [
    "def first_last_name(full_name):\n",
    "    name_parts = full_name.split()\n",
    "    first_name = name_parts[0]\n",
    "    last_name = name_parts[-1]\n",
    "    return first_name, last_name\n",
    "\n",
    "\n",
    "full_name = \"Himanshu Kumar\"\n",
    "first_name, last_name = first_last_name(full_name)\n",
    "print(\"First Name is: \", first_name)\n",
    "print(\"Last Name is: \", last_name)"
   ]
  }
 ],
 "metadata": {
  "kernelspec": {
   "display_name": "Python 3 (ipykernel)",
   "language": "python",
   "name": "python3"
  },
  "language_info": {
   "codemirror_mode": {
    "name": "ipython",
    "version": 3
   },
   "file_extension": ".py",
   "mimetype": "text/x-python",
   "name": "python",
   "nbconvert_exporter": "python",
   "pygments_lexer": "ipython3",
   "version": "3.9.13"
  }
 },
 "nbformat": 4,
 "nbformat_minor": 5
}
