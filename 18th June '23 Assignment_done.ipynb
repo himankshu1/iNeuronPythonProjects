{
 "cells": [
  {
   "cell_type": "markdown",
   "id": "fcd6c4b0",
   "metadata": {},
   "source": [
    "# 1. What is the role of the 'else' block in a try-except statement? Provide an example scenario where it would be useful.\n",
    "\n",
    "\n",
    "In a try-except statement, the 'else' block is executed only if no exceptions occur in the corresponding 'try' block. 'else' block is optional to add in a try-except block. It allows to specify a block of code that should run when the 'try' block completes successfully, without any exceptions being raised."
   ]
  },
  {
   "cell_type": "code",
   "execution_count": 3,
   "id": "6f2568e3",
   "metadata": {},
   "outputs": [
    {
     "name": "stdout",
     "output_type": "stream",
     "text": [
      "Enter a number: 2\n",
      "Enter another number: 3\n",
      "Division successful!\n",
      "Result: 0.6666666666666666\n"
     ]
    }
   ],
   "source": [
    "try:\n",
    "    num1 = int(input(\"Enter a number: \"))\n",
    "    num2 = int(input(\"Enter another number: \"))\n",
    "    result = num1 / num2\n",
    "except ValueError:\n",
    "    print(\"Invalid input! Please enter a valid number\")\n",
    "except ZeroDivisionError:\n",
    "    print(\"Error: Division by zero is not allowed\")\n",
    "else:\n",
    "    print(\"Division successful!\")\n",
    "    print(\"Result:\", result)"
   ]
  },
  {
   "cell_type": "markdown",
   "id": "e46bf404",
   "metadata": {},
   "source": [
    "# 2. Can a try-except block be nested inside another try-except block? Explain with an example."
   ]
  },
  {
   "cell_type": "code",
   "execution_count": 7,
   "id": "c372c5b2",
   "metadata": {},
   "outputs": [
    {
     "name": "stdout",
     "output_type": "stream",
     "text": [
      "Enter a number: 2\n",
      "Enter another numner: 0\n",
      "Error: Division by zero is not allowed\n"
     ]
    }
   ],
   "source": [
    "try:\n",
    "    a = int(input(\"Enter a number: \"))\n",
    "    b = int(input(\"Enter another numner: \"))\n",
    "    \n",
    "    try:\n",
    "        division = a / b\n",
    "        print(f\"The division of {a} and {b} is: {division}\")\n",
    "        \n",
    "    except ZeroDivisionError:\n",
    "        print(\"Error: Division by zero is not allowed\")\n",
    "        \n",
    "except ValueError:\n",
    "    print(\"Invalid input! Please enter a valid number\")"
   ]
  },
  {
   "cell_type": "markdown",
   "id": "35e8f872",
   "metadata": {},
   "source": [
    "# 3. How can you create a custom exception class in Python? Provide an example that demonstrates its usage."
   ]
  },
  {
   "cell_type": "code",
   "execution_count": 12,
   "id": "859cb9f1",
   "metadata": {},
   "outputs": [
    {
     "name": "stdout",
     "output_type": "stream",
     "text": [
      "Enter your age: -45\n",
      "Error: Age cannot be negative!\n"
     ]
    }
   ],
   "source": [
    "class NegativeAgeError(Exception):\n",
    "    def __init__(self, message):\n",
    "        self.message = message\n",
    "\n",
    "try:\n",
    "    age = int(input(\"Enter your age: \"))\n",
    "    if age < 0:\n",
    "        raise NegativeAgeError(\"Age cannot be negative!\")\n",
    "    else:\n",
    "        print(\"Valid age:\", age)\n",
    "except NegativeAgeError as e:\n",
    "    print(\"Error:\", e.message)\n",
    "except ValueError:\n",
    "    print(\"Invalid input! Please enter a valid age\")\n"
   ]
  },
  {
   "cell_type": "markdown",
   "id": "a89e49ac",
   "metadata": {},
   "source": [
    "# 4. What are some common exceptions that are built-in to Python?\n",
    "\n",
    "\n",
    "\n",
    "SyntaxError: Raised when there is a syntax error in the code.\n",
    "\n",
    "IndentationError: Raised when there is an incorrect indentation in the code.\n",
    "\n",
    "NameError: Raised when a local or global name is not found.\n",
    "\n",
    "TypeError: Raised when an operation or function is applied to an object of an inappropriate type.\n",
    "\n",
    "ValueError: Raised when a built-in operation or function receives an argument of the correct type but an inappropriate value.\n",
    "\n",
    "IndexError: Raised when a sequence subscript is out of range.\n",
    "\n",
    "KeyError: Raised when a dictionary key is not found.\n",
    "\n",
    "FileNotFoundError: Raised when a file or directory is not found.\n",
    "\n",
    "IOError: Raised when an input/output operation fails.\n",
    "\n",
    "ZeroDivisionError: Raised when division or modulo operation is performed with a divisor of zero.\n",
    "\n",
    "AttributeError: Raised when an attribute reference or assignment fails.\n",
    "\n",
    "RuntimeError: Raised when a generic runtime error occurs that doesn't fall into any specific category.\n",
    "\n",
    "KeyboardInterrupt: Raised when the user interrupts the execution by pressing Ctrl+C.\n",
    "\n",
    "Exception: The base class for all built-in exceptions."
   ]
  },
  {
   "cell_type": "markdown",
   "id": "be05cc68",
   "metadata": {},
   "source": [
    "# 5. What is logging in Python, and why is it important in software development?\n",
    "\n",
    "\n",
    "Logging in Python is a built-in module that provides a flexible and powerful way to record events, errors, and informational messages during the execution of a program. It allows developers to generate log messages at various levels of severity and store them in a designated log file or output them to the console.\n",
    "\n",
    "By logging relevant information, such as variable values, function calls, and error messages, developers can analyze the log output to understand the flow of execution and identify the root cause of unexpected behavior.\n",
    "\n",
    "It also helps to maintain a detailed record of system activities for auditing purposes. Logging provides a means to capture and store relevant information about user actions, system changes, and security events. Logging can serve as a valuable source of historical data that can be analyzed to gain insights into system behavior over time.\n",
    "\n",
    "Logs serve as a communication channel between different components of a software system. Developers can use log messages to communicate important information between modules, services, or distributed systems. Logs can also be shared with team members or external stakeholders to facilitate collaboration and provide visibility into the application's behavior."
   ]
  },
  {
   "cell_type": "markdown",
   "id": "ecc6bde4",
   "metadata": {},
   "source": [
    "# 6. Explain the purpose of log levels in Python logging and provide examples of when each log level would be appropriate.\n",
    "\n",
    "n Python logging, log levels are used to categorize log messages based on their severity or importance or priority. The logging module provides several predefined log levels, each serving a specific purpose.\n",
    "\n",
    "These log levels are with their specific priority DEBUG, INFO, WARNING, ERROR, CRITICAL"
   ]
  },
  {
   "cell_type": "code",
   "execution_count": 1,
   "id": "e7b7ccc3",
   "metadata": {},
   "outputs": [
    {
     "name": "stderr",
     "output_type": "stream",
     "text": [
      "DEBUG:root:This is a debug message\n",
      "INFO:root:Application started successfully\n",
      "WARNING:root:File not found: example.txt\n",
      "ERROR:root:Failed to connect to the database\n",
      "CRITICAL:root:System is out of memory. Shutting down.\n"
     ]
    }
   ],
   "source": [
    "import logging\n",
    "\n",
    "logging.basicConfig(level=logging.DEBUG)\n",
    "logging.debug(\"This is a debug message\")\n",
    "\n",
    "\n",
    "logging.basicConfig(level=logging.INFO)\n",
    "logging.info(\"Records added to the database succssfully\")\n",
    "\n",
    "\n",
    "logging.basicConfig(level=logging.WARNING)\n",
    "logging.warning(\"File not found\")\n",
    "\n",
    "\n",
    "logging.basicConfig(level=logging.ERROR)\n",
    "logging.error(\"Failed to connect to the database\")\n",
    "\n",
    "\n",
    "logging.basicConfig(level=logging.CRITICAL)\n",
    "logging.critical(\"System is out of memory. Shutting down.\")"
   ]
  },
  {
   "cell_type": "markdown",
   "id": "b4fe1c0b",
   "metadata": {},
   "source": [
    "# 7. What are log formatters in Python logging, and how can you customise the log message format using formatters?\n",
    "\n",
    "In Python logging, log formatters are used to define the format of log messages. They allow developers to customize how log records are displayed or stored, including the structure, content, and styling of the log output. The logging module provides the Formatter class, which can be used to create and configure log formatters."
   ]
  },
  {
   "cell_type": "code",
   "execution_count": 2,
   "id": "b2e11264",
   "metadata": {},
   "outputs": [
    {
     "name": "stderr",
     "output_type": "stream",
     "text": [
      "DEBUG:root:This is a debug message.\n",
      "INFO:root:This is an info message.\n",
      "WARNING:root:This is a warning message.\n"
     ]
    }
   ],
   "source": [
    "import logging\n",
    "\n",
    "# Configuring the root logger\n",
    "logging.basicConfig(format='%(asctime)s - %(levelname)s - %(message)s', level=logging.INFO)\n",
    "\n",
    "# Logging some messages\n",
    "logging.debug(\"This is a debug message.\")\n",
    "logging.info(\"This is an info message.\")\n",
    "logging.warning(\"This is a warning message.\")"
   ]
  },
  {
   "cell_type": "markdown",
   "id": "0fba81f9",
   "metadata": {},
   "source": [
    "# 8. How can you set up logging to capture log messages from multiple modules or classes in a Python application?\n",
    "\n",
    "\n",
    "The module needs two lines to set up logging, and then use the named logger:\n",
    "\n",
    "                import logging\n",
    "                log = logging.getLogger(__name__)\n",
    "                def do_something():\n",
    "                        log.debug(\"Doing something!\")"
   ]
  },
  {
   "cell_type": "code",
   "execution_count": 3,
   "id": "23a77606",
   "metadata": {},
   "outputs": [
    {
     "name": "stderr",
     "output_type": "stream",
     "text": [
      "DEBUG:root:A DEBUG Message\n",
      "INFO:root:An INFO\n",
      "WARNING:root:A WARNING\n",
      "ERROR:root:An ERROR\n",
      "CRITICAL:root:A message of CRITICAL severity\n"
     ]
    }
   ],
   "source": [
    "import logging\n",
    "\n",
    "logging.basicConfig(filename=\"py_log.log\",\n",
    "                    level=logging.INFO, \n",
    "                    filemode=\"w\",\n",
    "                    format=\"%(asctime)s %(levelname)s %(message)s\")\n",
    "logging.debug(\"A DEBUG Message\")\n",
    "logging.info(\"An INFO\")\n",
    "logging.warning(\"A WARNING\")\n",
    "logging.error(\"An ERROR\")\n",
    "logging.critical(\"A message of CRITICAL severity\")"
   ]
  },
  {
   "cell_type": "markdown",
   "id": "e73f3e40",
   "metadata": {},
   "source": [
    "# 9. What is the difference between the logging and print statements in Python? When should you use logging over print statements in a real-world application?\n",
    "\n",
    "Print statements output messages to the standard output (console), while logging allows to direct messages to various destinations, such as the console, files, or even external logging services.\n",
    "\n",
    "Logging provides a more flexible and customizable framework compared to print statements. With logging, we can control the log levels, format the log messages, attach additional contextual information, filter messages based on severity, and configure different log handlers for different parts of your application. Print statements, have limited formatting options and lack the ability to customize output.\n",
    "\n",
    "Logging supports log levels, such as DEBUG, INFO, WARNING, ERROR, and CRITICAL, which allow to differentiate the severity of messages. This allows to differtiate between the log messages based on their importance. Print statements, on the other hand, do not have built-in levels of severity.\n",
    "\n",
    "Logging provides a more structured and comprehensive approach to debugging and troubleshooting compared to ad-hoc print statements. With logging, we can include detailed information, stack traces, and contextual data in log messages, making it easier to trace the flow of execution and identify the root cause of issues."
   ]
  },
  {
   "cell_type": "markdown",
   "id": "08d638f1",
   "metadata": {},
   "source": [
    "# 10. Write a Python program that logs a message to a file named \"app.log\" with the following requirements:\n",
    "    \n",
    "● The log message should be \"Hello, World!\"\n",
    "\n",
    "● The log level should be set to \"INFO.\"\n",
    "\n",
    "● The log file should append new log entries without overwriting previous ones."
   ]
  },
  {
   "cell_type": "code",
   "execution_count": 4,
   "id": "3b5b83cb",
   "metadata": {},
   "outputs": [
    {
     "name": "stderr",
     "output_type": "stream",
     "text": [
      "INFO:root:Hello, World!\n"
     ]
    }
   ],
   "source": [
    "import logging\n",
    "\n",
    "# Configuring the logger\n",
    "logging.basicConfig(\n",
    "    filename=\"app.log\",\n",
    "    level=logging.INFO,\n",
    "    format=\"%(asctime)s - %(levelname)s - %(message)s\",\n",
    "    filemode=\"a\"  # Append mode to append new log entries\n",
    ")\n",
    "\n",
    "# Logging the message\n",
    "logging.info(\"Hello, World!\")"
   ]
  },
  {
   "cell_type": "markdown",
   "id": "4fbf37cf",
   "metadata": {},
   "source": [
    "# 11. Create a Python program that logs an error message to the console and a file named \"errors.log\" if an exception occurs during the program's execution. The error message should include the exception type and a timestamp.\n",
    "\n"
   ]
  },
  {
   "cell_type": "code",
   "execution_count": 7,
   "id": "d1158fd3",
   "metadata": {},
   "outputs": [
    {
     "name": "stderr",
     "output_type": "stream",
     "text": [
      "ERROR:root:Exception: ZeroDivisionError - Timestamp: 2023-07-15 08:45:27.343998\n"
     ]
    },
    {
     "ename": "ZeroDivisionError",
     "evalue": "division by zero",
     "output_type": "error",
     "traceback": [
      "\u001b[1;31m---------------------------------------------------------------------------\u001b[0m",
      "\u001b[1;31mZeroDivisionError\u001b[0m                         Traceback (most recent call last)",
      "\u001b[1;32m~\\AppData\\Local\\Temp\\ipykernel_23920\\2979820831.py\u001b[0m in \u001b[0;36m<module>\u001b[1;34m\u001b[0m\n\u001b[0;32m     21\u001b[0m     \u001b[0mlogging\u001b[0m\u001b[1;33m.\u001b[0m\u001b[0merror\u001b[0m\u001b[1;33m(\u001b[0m\u001b[1;34mf\"Exception: {type(e).__name__} - Timestamp: {datetime.datetime.now()}\"\u001b[0m\u001b[1;33m)\u001b[0m\u001b[1;33m\u001b[0m\u001b[1;33m\u001b[0m\u001b[0m\n\u001b[0;32m     22\u001b[0m     \u001b[1;31m# Optionally, re-raise the exception\u001b[0m\u001b[1;33m\u001b[0m\u001b[1;33m\u001b[0m\u001b[0m\n\u001b[1;32m---> 23\u001b[1;33m     \u001b[1;32mraise\u001b[0m \u001b[0me\u001b[0m\u001b[1;33m\u001b[0m\u001b[1;33m\u001b[0m\u001b[0m\n\u001b[0m",
      "\u001b[1;32m~\\AppData\\Local\\Temp\\ipykernel_23920\\2979820831.py\u001b[0m in \u001b[0;36m<module>\u001b[1;34m\u001b[0m\n\u001b[0;32m     16\u001b[0m \u001b[1;32mtry\u001b[0m\u001b[1;33m:\u001b[0m\u001b[1;33m\u001b[0m\u001b[1;33m\u001b[0m\u001b[0m\n\u001b[0;32m     17\u001b[0m     \u001b[1;31m# Code that may raise an exception\u001b[0m\u001b[1;33m\u001b[0m\u001b[1;33m\u001b[0m\u001b[0m\n\u001b[1;32m---> 18\u001b[1;33m     \u001b[0mresult\u001b[0m \u001b[1;33m=\u001b[0m \u001b[1;36m10\u001b[0m \u001b[1;33m/\u001b[0m \u001b[1;36m0\u001b[0m\u001b[1;33m\u001b[0m\u001b[1;33m\u001b[0m\u001b[0m\n\u001b[0m\u001b[0;32m     19\u001b[0m \u001b[1;32mexcept\u001b[0m \u001b[0mException\u001b[0m \u001b[1;32mas\u001b[0m \u001b[0me\u001b[0m\u001b[1;33m:\u001b[0m\u001b[1;33m\u001b[0m\u001b[1;33m\u001b[0m\u001b[0m\n\u001b[0;32m     20\u001b[0m     \u001b[1;31m# Logging the exception\u001b[0m\u001b[1;33m\u001b[0m\u001b[1;33m\u001b[0m\u001b[0m\n",
      "\u001b[1;31mZeroDivisionError\u001b[0m: division by zero"
     ]
    }
   ],
   "source": [
    "import logging\n",
    "import datetime\n",
    "\n",
    "# Configuring the logger\n",
    "logging.basicConfig(\n",
    "    level=logging.ERROR,\n",
    "    format=\"%(asctime)s - %(levelname)s - %(message)s\"\n",
    ")\n",
    "\n",
    "# Creating a file handler to log errors to a file\n",
    "file_handler = logging.FileHandler(\"errors.log\")\n",
    "file_handler.setLevel(logging.ERROR)\n",
    "file_handler.setFormatter(logging.Formatter(\"%(asctime)s - %(levelname)s - %(message)s\"))\n",
    "logging.getLogger().addHandler(file_handler)\n",
    "\n",
    "try:\n",
    "    # Code that may raise an exception\n",
    "    result = 10 / 0\n",
    "except Exception as e:\n",
    "    # Logging the exception\n",
    "    logging.error(f\"Exception: {type(e).__name__} - Timestamp: {datetime.datetime.now()}\")\n",
    "    # Optionally, re-raise the exception\n",
    "    raise e"
   ]
  }
 ],
 "metadata": {
  "kernelspec": {
   "display_name": "Python 3 (ipykernel)",
   "language": "python",
   "name": "python3"
  },
  "language_info": {
   "codemirror_mode": {
    "name": "ipython",
    "version": 3
   },
   "file_extension": ".py",
   "mimetype": "text/x-python",
   "name": "python",
   "nbconvert_exporter": "python",
   "pygments_lexer": "ipython3",
   "version": "3.9.13"
  }
 },
 "nbformat": 4,
 "nbformat_minor": 5
}
