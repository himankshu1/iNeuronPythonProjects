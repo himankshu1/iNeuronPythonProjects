{
 "cells": [
  {
   "cell_type": "markdown",
   "id": "4598a1cc",
   "metadata": {},
   "source": [
    "# 1.What are the two values of the Boolean data type? How do you write them?\n",
    "\n",
    "The two boolean values are 'True' and 'False' which is used for checking conditions. 'True' means 1 and 'False' means 0. These values are case sensitive and literally write like this 'True' and 'False'"
   ]
  },
  {
   "cell_type": "markdown",
   "id": "e308695b",
   "metadata": {},
   "source": [
    "# 2. What are the three different types of Boolean operators?\n",
    "\n",
    "Boolean operators are 'and', 'or', 'not'. Used for two or more operands or expressions.\n",
    "\n",
    "and - results in True only if all the conditions are true\n",
    "\n",
    "or - results in True if any of the condition is True. Results in False if all of the conditions are false\n",
    "\n",
    "not - results in the opposite of the operands value. If the operand is true, the NOT operator returns false, and if the operand is false, it returns true"
   ]
  },
  {
   "cell_type": "code",
   "execution_count": 13,
   "id": "4305746b",
   "metadata": {},
   "outputs": [
    {
     "name": "stdout",
     "output_type": "stream",
     "text": [
      "Evaluated in True\n"
     ]
    }
   ],
   "source": [
    "#Example of and ---\n",
    "\n",
    "if (1 == 1 and 2 == 2):\n",
    "    print('Evaluated in True')\n",
    "elif (1 == 1 and 2 == 3):\n",
    "    print('Evaluated in False')"
   ]
  },
  {
   "cell_type": "code",
   "execution_count": 15,
   "id": "004b0670",
   "metadata": {},
   "outputs": [
    {
     "name": "stdout",
     "output_type": "stream",
     "text": [
      "Evaluated in False\n"
     ]
    }
   ],
   "source": [
    "#Example of or ---\n",
    "\n",
    "if (1 == 1 or 2 == 3):\n",
    "    print('Evaluated in False')"
   ]
  },
  {
   "cell_type": "code",
   "execution_count": 17,
   "id": "93297bed",
   "metadata": {},
   "outputs": [
    {
     "name": "stdout",
     "output_type": "stream",
     "text": [
      "You are logged in\n"
     ]
    }
   ],
   "source": [
    "#Example of or ---\n",
    "\n",
    "logged_in = False\n",
    "\n",
    "if not logged_in:\n",
    "    print('You are logged in')"
   ]
  },
  {
   "cell_type": "markdown",
   "id": "36a309e0",
   "metadata": {},
   "source": [
    "# 3. Make a list of each Boolean operator&#39;s truth tables (i.e. every possible combination of Boolean\n",
    "values for the operator and what it evaluate ).\n",
    "\n",
    "'and' operator:\n",
    "\n",
    "|  Value 1 |  Value 2 |  Result  |\n",
    "|----------|----------|----------|\n",
    "| True  | True  | True  |\n",
    "| True  | False  | False  |\n",
    "| False | True | False |\n",
    "| False | False | False|\n",
    "\n",
    "\n",
    "'or' operator:\n",
    "\n",
    "|  Value 1 |  Value 2 |  Result  |\n",
    "|----------|----------|----------|\n",
    "| True  | True  | True  |\n",
    "| True  | False  | True  |\n",
    "| False | True | True |\n",
    "| False | False | False|\n",
    "\n",
    "\n",
    "'not' operator:\n",
    "\n",
    "| Value | Result |\n",
    "|-------|--------|\n",
    "| True | False |\n",
    "| False | True |"
   ]
  },
  {
   "cell_type": "markdown",
   "id": "08a40281",
   "metadata": {},
   "source": [
    "# 4. What are the values of the following expressions?\n",
    "\n",
    "(5 &gt; 4) and (3 == 5)\n",
    "\n",
    "not (5 &gt; 4)\n",
    "\n",
    "(5 &gt; 4) or (3 == 5)\n",
    "\n",
    "not ((5 &gt; 4) or (3 == 5))\n",
    "\n",
    "(True and True) and (True == False)\n",
    "\n",
    "(not False) or (not True)"
   ]
  },
  {
   "cell_type": "code",
   "execution_count": 21,
   "id": "2f726b52",
   "metadata": {},
   "outputs": [
    {
     "data": {
      "text/plain": [
       "False"
      ]
     },
     "execution_count": 21,
     "metadata": {},
     "output_type": "execute_result"
    }
   ],
   "source": [
    "(5 > 4) and (3 == 5)"
   ]
  },
  {
   "cell_type": "code",
   "execution_count": 23,
   "id": "49598c03",
   "metadata": {},
   "outputs": [
    {
     "data": {
      "text/plain": [
       "False"
      ]
     },
     "execution_count": 23,
     "metadata": {},
     "output_type": "execute_result"
    }
   ],
   "source": [
    "not (5 > 4)"
   ]
  },
  {
   "cell_type": "code",
   "execution_count": 24,
   "id": "1ed2bbd6",
   "metadata": {},
   "outputs": [
    {
     "data": {
      "text/plain": [
       "True"
      ]
     },
     "execution_count": 24,
     "metadata": {},
     "output_type": "execute_result"
    }
   ],
   "source": [
    "(5 > 4) or (3 == 5)"
   ]
  },
  {
   "cell_type": "code",
   "execution_count": 25,
   "id": "89c1f68c",
   "metadata": {},
   "outputs": [
    {
     "data": {
      "text/plain": [
       "False"
      ]
     },
     "execution_count": 25,
     "metadata": {},
     "output_type": "execute_result"
    }
   ],
   "source": [
    "(True and True) and (True == False)"
   ]
  },
  {
   "cell_type": "code",
   "execution_count": 26,
   "id": "d6819901",
   "metadata": {},
   "outputs": [
    {
     "data": {
      "text/plain": [
       "True"
      ]
     },
     "execution_count": 26,
     "metadata": {},
     "output_type": "execute_result"
    }
   ],
   "source": [
    "(not False) or (not True)"
   ]
  },
  {
   "cell_type": "markdown",
   "id": "866be82e",
   "metadata": {},
   "source": [
    "# 5. What are the six comparison operators?\n",
    "\n",
    "i. Equal to (==): Checks if two values are equal and returns True if they are, and False if not equal.\n",
    "\n",
    "ii. Not equal to (!=): Checks if two values are not equal and returns True if they are not, and False if they are equal.\n",
    "\n",
    "iii. Greater than (>): Checks if the value on the left is greater than the value on the right and returns True if it is, and False if not.\n",
    "\n",
    "iv. Less than (<): Checks if the value on the left is less than the value on the right and returns True if it is, and False if not.\n",
    "\n",
    "v. Greater than or equal to (>=): Checks if the value on the left is greater than or equal to the value on the right and returns True if it is, and False if not.\n",
    "\n",
    "vi. Less than or equal to (<=): Checks if the value on the left is less than or equal to the value on the right and returns True if it is, and False if not."
   ]
  },
  {
   "cell_type": "markdown",
   "id": "d8cd71bc",
   "metadata": {},
   "source": [
    "# 6. How do you tell the difference between the equal to and assignment operators? Describe a condition and when you would use one.\n",
    "\n",
    "To differentiate between the two, equal to (==) operator is used for comparison, while the assignment (=) operator is used for variable assignment."
   ]
  },
  {
   "cell_type": "code",
   "execution_count": 27,
   "id": "6ed3f14e",
   "metadata": {},
   "outputs": [
    {
     "name": "stdout",
     "output_type": "stream",
     "text": [
      "You are 18 years old\n"
     ]
    }
   ],
   "source": [
    "age = 18\n",
    "\n",
    "if age == 18:\n",
    "    print(\"You are 18 years old\")\n",
    "else:\n",
    "    print(\"You are not 18 years old\")"
   ]
  },
  {
   "cell_type": "markdown",
   "id": "14e49636",
   "metadata": {},
   "source": [
    "# 7. Identify the three blocks in this code:\n",
    "    \n",
    "\n",
    "spam = 0\n",
    "\n",
    "if spam == 10:\n",
    "\n",
    "print('eggs')\n",
    "\n",
    "if spam > 5:\n",
    "\n",
    "print('bacon')\n",
    "\n",
    "else:\n",
    "\n",
    "print('ham')\n",
    "\n",
    "print('spam')\n",
    "\n",
    "print('spam')"
   ]
  },
  {
   "cell_type": "code",
   "execution_count": 28,
   "id": "0a4716f0",
   "metadata": {},
   "outputs": [
    {
     "name": "stdout",
     "output_type": "stream",
     "text": [
      "ham\n",
      "spam\n",
      "spam\n"
     ]
    }
   ],
   "source": [
    "#There are three identation of blocks in the above code. if, if, else:\n",
    "\n",
    "spam = 0\n",
    "\n",
    "#block1\n",
    "if spam == 10:\n",
    "    print('eggs')\n",
    "\n",
    "#block2\n",
    "if spam > 5:\n",
    "    print('bacon')\n",
    "else:\n",
    "    print('ham')\n",
    "\n",
    "#block3\n",
    "print('spam')\n",
    "print('spam')"
   ]
  },
  {
   "cell_type": "markdown",
   "id": "7873ac73",
   "metadata": {},
   "source": [
    "# 8. Write code that prints Hello if 1 is stored in spam, prints Howdy if 2 is stored in spam, and prints Greetings! if anything else is stored in spam."
   ]
  },
  {
   "cell_type": "code",
   "execution_count": 29,
   "id": "fdcafbbc",
   "metadata": {},
   "outputs": [
    {
     "name": "stdout",
     "output_type": "stream",
     "text": [
      "Hello\n"
     ]
    }
   ],
   "source": [
    "spam = 1\n",
    "\n",
    "if spam == 1:\n",
    "    print(\"Hello\")\n",
    "elif spam == 2:\n",
    "    print(\"Howdy\")\n",
    "else:\n",
    "    print(\"Greetings!\")"
   ]
  },
  {
   "cell_type": "markdown",
   "id": "5deaada3",
   "metadata": {},
   "source": [
    "# 9.If your programme is stuck in an endless loop, what keys you’ll press?\n",
    "\n",
    "ctrl+c is a method to interrupt a running programme"
   ]
  },
  {
   "cell_type": "markdown",
   "id": "1f766cde",
   "metadata": {},
   "source": [
    "# 10. How can you tell the difference between break and continue?\n",
    "\n",
    "break and continue are two control flow statements used to alter the flow of a loop\n",
    "\n",
    "break:\n",
    "\n",
    "The break statement immediately terminates the loop's execution and jumps to the next statement after the loop. It is typically used to exit a loop when a certain condition is met, even if the loop's iterations are not completed. Once the break statement is executed, the control flow exits the loop, and the loop is not continued.\n",
    "\n",
    "continue:\n",
    "\n",
    "The continue statement immediately ends the current iteration of the loop and jumps to the next iteration. It is typically used to skip the remaining code within the loop for a particular iteration, allowing the loop to continue with the next iteration. It just skips the remaining statements within the loop for the current iteration."
   ]
  },
  {
   "cell_type": "code",
   "execution_count": 1,
   "id": "ad811911",
   "metadata": {},
   "outputs": [
    {
     "name": "stdout",
     "output_type": "stream",
     "text": [
      "Enter a number: 0\n"
     ]
    }
   ],
   "source": [
    "#break statement: system will keep asking for input until 0\n",
    "\n",
    "while True:\n",
    "    value = int(input(\"Enter a number: \"))\n",
    "    if value == 0:\n",
    "        break\n",
    "    print(\"You entered:\", value)"
   ]
  },
  {
   "cell_type": "code",
   "execution_count": 3,
   "id": "3797d59d",
   "metadata": {},
   "outputs": [
    {
     "name": "stdout",
     "output_type": "stream",
     "text": [
      "1\n",
      "3\n",
      "5\n"
     ]
    }
   ],
   "source": [
    "#continue statement: printing the odd numbers\n",
    "\n",
    "numbers = [1, 2, 3, 4, 5]\n",
    "for i in numbers:\n",
    "    if i % 2 == 0:\n",
    "        continue\n",
    "    print(i)"
   ]
  },
  {
   "cell_type": "markdown",
   "id": "75b4cba1",
   "metadata": {},
   "source": [
    "# 11. In a for loop, what is the difference between range(10), range(0, 10), and range(0, 10, 1)?\n",
    "\n",
    "The expressions range(10), range(0, 10), and range(0, 10, 1) are all equivalent and produce the same result. They generate a sequence of numbers from 0 up to 10 but not including 10 (producing only 10 values starting from 0), incrementing by 1."
   ]
  },
  {
   "cell_type": "code",
   "execution_count": 4,
   "id": "cc5f00ad",
   "metadata": {},
   "outputs": [
    {
     "name": "stdout",
     "output_type": "stream",
     "text": [
      "0\n",
      "1\n",
      "2\n",
      "3\n",
      "4\n",
      "5\n",
      "6\n",
      "7\n",
      "8\n",
      "9\n"
     ]
    }
   ],
   "source": [
    "for i in range(10):\n",
    "    print(i)"
   ]
  },
  {
   "cell_type": "code",
   "execution_count": 5,
   "id": "97deb49a",
   "metadata": {},
   "outputs": [
    {
     "name": "stdout",
     "output_type": "stream",
     "text": [
      "0\n",
      "1\n",
      "2\n",
      "3\n",
      "4\n",
      "5\n",
      "6\n",
      "7\n",
      "8\n",
      "9\n"
     ]
    }
   ],
   "source": [
    "for i in range(0, 10):\n",
    "    print(i)"
   ]
  },
  {
   "cell_type": "code",
   "execution_count": 6,
   "id": "9ee7bc7f",
   "metadata": {},
   "outputs": [
    {
     "name": "stdout",
     "output_type": "stream",
     "text": [
      "0\n",
      "1\n",
      "2\n",
      "3\n",
      "4\n",
      "5\n",
      "6\n",
      "7\n",
      "8\n",
      "9\n"
     ]
    }
   ],
   "source": [
    "for i in range(0, 10, 1):\n",
    "    print(i)"
   ]
  },
  {
   "cell_type": "markdown",
   "id": "16183070",
   "metadata": {},
   "source": [
    "# 12. Write a short program that prints the numbers 1 to 10 using a for loop. Then write an equivalent program that prints the numbers 1 to 10 using a while loop."
   ]
  },
  {
   "cell_type": "code",
   "execution_count": 7,
   "id": "f2c8ce61",
   "metadata": {},
   "outputs": [
    {
     "name": "stdout",
     "output_type": "stream",
     "text": [
      "1\n",
      "2\n",
      "3\n",
      "4\n",
      "5\n",
      "6\n",
      "7\n",
      "8\n",
      "9\n",
      "10\n"
     ]
    }
   ],
   "source": [
    "for i in range(1, 11):\n",
    "    print(i)"
   ]
  },
  {
   "cell_type": "code",
   "execution_count": 2,
   "id": "1d92ce36",
   "metadata": {},
   "outputs": [
    {
     "name": "stdout",
     "output_type": "stream",
     "text": [
      "1\n",
      "2\n",
      "3\n",
      "4\n",
      "5\n",
      "6\n",
      "7\n",
      "8\n",
      "9\n",
      "10\n"
     ]
    }
   ],
   "source": [
    "i = 1\n",
    "while i < 11:\n",
    "    print(i)\n",
    "    i = i + 1"
   ]
  },
  {
   "cell_type": "markdown",
   "id": "a1070e6b",
   "metadata": {},
   "source": [
    "# 13. If you had a function named bacon() inside a module named spam, how would you call it after importing spam?\n",
    "\n",
    "import spam\n",
    "\n",
    "spam.bacon()\n"
   ]
  }
 ],
 "metadata": {
  "kernelspec": {
   "display_name": "Python 3 (ipykernel)",
   "language": "python",
   "name": "python3"
  },
  "language_info": {
   "codemirror_mode": {
    "name": "ipython",
    "version": 3
   },
   "file_extension": ".py",
   "mimetype": "text/x-python",
   "name": "python",
   "nbconvert_exporter": "python",
   "pygments_lexer": "ipython3",
   "version": "3.9.13"
  }
 },
 "nbformat": 4,
 "nbformat_minor": 5
}
