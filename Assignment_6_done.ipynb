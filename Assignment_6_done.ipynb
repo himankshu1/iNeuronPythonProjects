{
 "cells": [
  {
   "cell_type": "markdown",
   "id": "d91368e9",
   "metadata": {},
   "source": [
    "# Q.1. What are keywords in python? Using the keyword library, print all the python keywords.\n",
    "\n",
    "In Python, keywords are reserved words that have special functionalities within the language. These keywords cannot be used as variable names or any other identifiers because they are predefined attributes and have specific purposes in Python."
   ]
  },
  {
   "cell_type": "code",
   "execution_count": 1,
   "id": "f308f1e0",
   "metadata": {},
   "outputs": [
    {
     "name": "stdout",
     "output_type": "stream",
     "text": [
      "['False', 'None', 'True', '__peg_parser__', 'and', 'as', 'assert', 'async', 'await', 'break', 'class', 'continue', 'def', 'del', 'elif', 'else', 'except', 'finally', 'for', 'from', 'global', 'if', 'import', 'in', 'is', 'lambda', 'nonlocal', 'not', 'or', 'pass', 'raise', 'return', 'try', 'while', 'with', 'yield']\n"
     ]
    }
   ],
   "source": [
    "import keyword\n",
    "\n",
    "all_python_keywords = keyword.kwlist\n",
    "print(all_python_keywords)\n"
   ]
  },
  {
   "cell_type": "markdown",
   "id": "a474cb3c",
   "metadata": {},
   "source": [
    "# Q.2. What are the rules to create variables in python?\n",
    "\n",
    "Variable names in Python can consist of all alphabetical letters, digits, and underscores (_). They must start with a letter or an underscore. Python is case-sensitive, so variables like \"Variable\" and \"variable\" are considered different.\n",
    "\n",
    "We cannot use Python keywords, such as \"if,\" \"while,\" \"for,\" etc. as variable names since they have predefined and reserved.\n",
    "\n",
    "Variable names should not contain spaces or special characters like !, @, #, $, %, etc. However, underscores (_) are allowed to separate words in a variable name.\n",
    "\n",
    "We should choose variable names that are meaningful, so that the purpose of the variable is clear to all who may read the code. This helps with code readability and maintainability.\n",
    "\n",
    "Variable names should not start with a digit. They can have digits after the first character."
   ]
  },
  {
   "cell_type": "markdown",
   "id": "5f0a1491",
   "metadata": {},
   "source": [
    "# Q.3. What are the standards and conventions followed for the nomenclature of variables in python to improve code readability and maintainability?\n",
    "\n",
    "We should use lowercase letters for variable names. If a variable name contains multiple words, separate them with underscores. For variables that are meant to be constants, we should use uppercase letters with underscores separating words.\n",
    "\n",
    "We should also use descriptive names for variables instead. This helps in understanding the purpose and context of the variable\n",
    "Example, use count instead of c and name instead of n\n",
    "\n",
    "Choose variable names that are meaningful and describe the purpose of the variable. For example, we can use names like num_students or customer_address.\n",
    "\n",
    "We should be avoid using names that can be easily confused. For example, using list as a variable name can lead to confusion with the built-in list type.\n",
    "\n",
    "If working on an already created project that has established naming conventions, we should follow those conventions to maintain consistency."
   ]
  },
  {
   "cell_type": "markdown",
   "id": "91720184",
   "metadata": {},
   "source": [
    "# Q.4. What will happen if a keyword is used as a variable name?\n",
    "\n",
    "If a keyword is used as a variable name in Python, it will result in a syntax error. They cannot be used as variable names or any other identifiers."
   ]
  },
  {
   "cell_type": "code",
   "execution_count": 2,
   "id": "218ce15b",
   "metadata": {},
   "outputs": [
    {
     "ename": "SyntaxError",
     "evalue": "invalid syntax (3997871497.py, line 3)",
     "output_type": "error",
     "traceback": [
      "\u001b[1;36m  File \u001b[1;32m\"C:\\Users\\write\\AppData\\Local\\Temp\\ipykernel_28380\\3997871497.py\"\u001b[1;36m, line \u001b[1;32m3\u001b[0m\n\u001b[1;33m    if = 10\u001b[0m\n\u001b[1;37m       ^\u001b[0m\n\u001b[1;31mSyntaxError\u001b[0m\u001b[1;31m:\u001b[0m invalid syntax\n"
     ]
    }
   ],
   "source": [
    "#Example --\n",
    "\n",
    "if = 10"
   ]
  },
  {
   "cell_type": "markdown",
   "id": "f0e26a37",
   "metadata": {},
   "source": [
    "# Q.5. For what purpose def keyword is used?\n",
    "\n",
    "In Python, the def keyword is used to define a function."
   ]
  },
  {
   "cell_type": "code",
   "execution_count": 4,
   "id": "abfe0f22",
   "metadata": {},
   "outputs": [
    {
     "data": {
      "text/plain": [
       "{'Himanshu', 'Sudhanshu'}"
      ]
     },
     "execution_count": 4,
     "metadata": {},
     "output_type": "execute_result"
    }
   ],
   "source": [
    "def show_names(name1, name2):\n",
    "    return {\n",
    "        name1,\n",
    "        name2\n",
    "    }\n",
    "\n",
    "show_names('Himanshu', 'Sudhanshu')"
   ]
  },
  {
   "cell_type": "markdown",
   "id": "03c18d73",
   "metadata": {},
   "source": [
    "# Q.6. What is the operation of this special character ‘\\’?\n",
    "\n",
    "The special character '\\' in Python is known as the backslash or escape character. The backslash is used to represent special characters or escape sequences within string literals. Examples as below ---\n",
    "\n",
    "\\n newline character\n",
    "\n",
    "\\t tab character\n",
    "\n",
    "\\\" double quotation mark within a string\n",
    "\n",
    "\\\\ literal backslash character within a string"
   ]
  },
  {
   "cell_type": "markdown",
   "id": "2a651470",
   "metadata": {},
   "source": [
    "# Q.7. Give an example of the following conditions:\n",
    "    \n",
    "(i) Homogeneous list\n",
    "\n",
    "(ii) Heterogeneous set\n",
    "\n",
    "(iii) Homogeneous tuple\n",
    "\n",
    "A homogeneous list is a list in which all elements have the same data type.\n",
    "\n",
    "A heterogeneous set is a set that can contain elements of different data types.\n",
    "\n",
    "A homogeneous tuple is a tuple in which all elements have the same data type."
   ]
  },
  {
   "cell_type": "code",
   "execution_count": 6,
   "id": "e81967d1",
   "metadata": {},
   "outputs": [],
   "source": [
    "my_numbers = [1, 2, 3, 4, 5]\n",
    "my_set = {1, \"apple\", 3.14, True}\n",
    "my_fruits = (\"apple\", \"banana\", \"orange\", \"mango\")"
   ]
  },
  {
   "cell_type": "markdown",
   "id": "4529c54b",
   "metadata": {},
   "source": [
    "# Q.8. Explain the mutable and immutable data types with proper explanation & examples.\n",
    "\n",
    "Mutable data types are those whose values can be modified after they are created. This means you can change individual elements or properties of a mutable object without creating a new object.\n",
    "\n",
    "Example - List, Set, Dict\n",
    "\n",
    "\n",
    "Immutable data types are those whose values cannot be changed after they are created. If we need to modify an immutable object, we will have to create a new object with the desired changes.\n",
    "\n",
    "Example - Int, String, Tuple"
   ]
  },
  {
   "cell_type": "code",
   "execution_count": 11,
   "id": "9809d543",
   "metadata": {},
   "outputs": [
    {
     "data": {
      "text/plain": [
       "[4, 2, 3, 5]"
      ]
     },
     "execution_count": 11,
     "metadata": {},
     "output_type": "execute_result"
    }
   ],
   "source": [
    "#Mutable data types --- Examples --- As we change are changing the element of the list below \n",
    "\n",
    "my_list = [1, 2, 3]\n",
    "\n",
    "my_list[0] = 4\n",
    "\n",
    "my_list.append(5)\n",
    "\n",
    "my_list"
   ]
  },
  {
   "cell_type": "code",
   "execution_count": 10,
   "id": "f2ba040f",
   "metadata": {},
   "outputs": [
    {
     "data": {
      "text/plain": [
       "{1, 2, 3, 4}"
      ]
     },
     "execution_count": 10,
     "metadata": {},
     "output_type": "execute_result"
    }
   ],
   "source": [
    "my_set = {1, 2, 3}\n",
    "\n",
    "my_set.add(4)\n",
    "\n",
    "my_set"
   ]
  },
  {
   "cell_type": "code",
   "execution_count": 13,
   "id": "05c50fe2",
   "metadata": {},
   "outputs": [
    {
     "data": {
      "text/plain": [
       "{'a': 1, 'b': 5, 'c': 3}"
      ]
     },
     "execution_count": 13,
     "metadata": {},
     "output_type": "execute_result"
    }
   ],
   "source": [
    "my_dict = {'a': 1, 'b': 2, 'c': 3}\n",
    "\n",
    "my_dict['b'] = 5\n",
    "\n",
    "my_dict"
   ]
  },
  {
   "cell_type": "code",
   "execution_count": 16,
   "id": "88e32968",
   "metadata": {},
   "outputs": [
    {
     "data": {
      "text/plain": [
       "5"
      ]
     },
     "execution_count": 16,
     "metadata": {},
     "output_type": "execute_result"
    }
   ],
   "source": [
    "# Immutable data types ---- Examples --- \n",
    "\n",
    "# We cannot modify the value of my_int directly\n",
    "# Instead, we would need to create a new integer object with the desired value\n",
    "\n",
    "my_int = 5\n",
    "my_int"
   ]
  },
  {
   "cell_type": "markdown",
   "id": "7229c421",
   "metadata": {},
   "source": [
    "The below code works because even though int is an immutable data type, the code is not modifying the existing my_int object. Instead, it is creating a new int object with a different value and assigning it to the variable my_int."
   ]
  },
  {
   "cell_type": "code",
   "execution_count": 17,
   "id": "9ae66e1c",
   "metadata": {},
   "outputs": [
    {
     "data": {
      "text/plain": [
       "7"
      ]
     },
     "execution_count": 17,
     "metadata": {},
     "output_type": "execute_result"
    }
   ],
   "source": [
    "my_int = 5\n",
    "my_int = 7\n",
    "my_int"
   ]
  },
  {
   "cell_type": "code",
   "execution_count": 21,
   "id": "94100cfc",
   "metadata": {},
   "outputs": [
    {
     "data": {
      "text/plain": [
       "'Hello World'"
      ]
     },
     "execution_count": 21,
     "metadata": {},
     "output_type": "execute_result"
    }
   ],
   "source": [
    "my_str = \"Hello\"\n",
    "new_str = my_str + \" World\"\n",
    "new_str"
   ]
  },
  {
   "cell_type": "code",
   "execution_count": 20,
   "id": "15def6dd",
   "metadata": {},
   "outputs": [
    {
     "data": {
      "text/plain": [
       "'World'"
      ]
     },
     "execution_count": 20,
     "metadata": {},
     "output_type": "execute_result"
    }
   ],
   "source": [
    "# We cannot modify my_str directly, but we can create a new string. Logic will be the same as Int data type\n",
    "\n",
    "my_str = \"Hello\"\n",
    "my_str = \"World\"\n",
    "my_str"
   ]
  },
  {
   "cell_type": "code",
   "execution_count": 23,
   "id": "c475b1c7",
   "metadata": {},
   "outputs": [
    {
     "data": {
      "text/plain": [
       "(1, 2, 3, 4, 5)"
      ]
     },
     "execution_count": 23,
     "metadata": {},
     "output_type": "execute_result"
    }
   ],
   "source": [
    "my_tuple = (1, 2, 3)\n",
    "new_tuple = my_tuple + (4, 5)  ## as (4,5) is already defined as a tuple, it will be added to my_tuple\n",
    "new_tuple"
   ]
  },
  {
   "cell_type": "code",
   "execution_count": 26,
   "id": "fd46ecc0",
   "metadata": {},
   "outputs": [
    {
     "data": {
      "text/plain": [
       "(4, 5)"
      ]
     },
     "execution_count": 26,
     "metadata": {},
     "output_type": "execute_result"
    }
   ],
   "source": [
    "#Logic will be the same as Int data type\n",
    "\n",
    "my_tuple = (1, 2, 3)\n",
    "my_tuple = (4, 5)\n",
    "my_tuple"
   ]
  },
  {
   "cell_type": "raw",
   "id": "4ff37b97",
   "metadata": {},
   "source": [
    "# Q.9. Write a code to create the given structure using only for loop.\n",
    "\n",
    "    *\n",
    "   ***\n",
    "  *****\n",
    " *******\n",
    "*********"
   ]
  },
  {
   "cell_type": "code",
   "execution_count": 27,
   "id": "467aafc6",
   "metadata": {},
   "outputs": [
    {
     "name": "stdout",
     "output_type": "stream",
     "text": [
      "    *\n",
      "   ***\n",
      "  *****\n",
      " *******\n",
      "*********\n"
     ]
    }
   ],
   "source": [
    "for i in range(5):\n",
    "    for j in range(5 - i - 1):\n",
    "        print(\" \", end=\"\")\n",
    "    for k in range(2 * i + 1):\n",
    "        print(\"*\", end=\"\")\n",
    "    print()"
   ]
  },
  {
   "cell_type": "raw",
   "id": "51afff75",
   "metadata": {},
   "source": [
    "# Q.10. Write a code to create the given structure using while loop.\n",
    "\n",
    "|||||||||\n",
    "\n",
    " |||||||\n",
    " \n",
    "  |||||\n",
    "  \n",
    "   |||\n",
    "   \n",
    "    |"
   ]
  },
  {
   "cell_type": "code",
   "execution_count": 28,
   "id": "71034a3e",
   "metadata": {},
   "outputs": [
    {
     "name": "stdout",
     "output_type": "stream",
     "text": [
      "|||||||||\n",
      " |||||||\n",
      "  |||||\n",
      "   |||\n",
      "    |\n"
     ]
    }
   ],
   "source": [
    "row = 9\n",
    "spaces = 0\n",
    "\n",
    "while row > 0:\n",
    "    print(\" \" * spaces + \"|\" * row)\n",
    "    row -= 2\n",
    "    spaces += 1"
   ]
  },
  {
   "cell_type": "code",
   "execution_count": null,
   "id": "b2bf023f",
   "metadata": {},
   "outputs": [],
   "source": []
  }
 ],
 "metadata": {
  "kernelspec": {
   "display_name": "Python 3 (ipykernel)",
   "language": "python",
   "name": "python3"
  },
  "language_info": {
   "codemirror_mode": {
    "name": "ipython",
    "version": 3
   },
   "file_extension": ".py",
   "mimetype": "text/x-python",
   "name": "python",
   "nbconvert_exporter": "python",
   "pygments_lexer": "ipython3",
   "version": "3.9.13"
  }
 },
 "nbformat": 4,
 "nbformat_minor": 5
}
