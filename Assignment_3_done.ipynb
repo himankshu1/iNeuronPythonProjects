{
 "cells": [
  {
   "cell_type": "markdown",
   "id": "6e4302db",
   "metadata": {},
   "source": [
    "1. Why are functions advantageous to have in your programs?\n",
    "\n",
    "Functions allows us to break complex programs into smaller, manageable piece of code. Functions more organized and easier to understand. Additionally, functions can be reused in different parts of the program or even in other programs, saving time and effort.\n",
    "\n",
    "With functions, we can work on high-level logic without implementing logics for repetetive piece of code. We can use functions as many times as we want and this also helps in code debugging and bug fixes."
   ]
  },
  {
   "cell_type": "markdown",
   "id": "7e8c9457",
   "metadata": {},
   "source": [
    "2. When does the code in a function run: when it's specified or when it's called?\n",
    "\n",
    "The code inside a function runs when the function is called. When a function is called, the program transfers the control to the function, and the code inside the function is executed."
   ]
  },
  {
   "cell_type": "markdown",
   "id": "9afa9f03",
   "metadata": {},
   "source": [
    "3. What statement creates a function?\n",
    "\n",
    "The 'def' statement is used to create a function. The 'def' statement stands for \"define\" and is followed by the name of the function\n",
    "\n",
    "def function_name(parameters):\n",
    "    {Code to be executed when the function is called}"
   ]
  },
  {
   "cell_type": "markdown",
   "id": "3d2b3b55",
   "metadata": {},
   "source": [
    "4. What is the difference between a function and a function call?\n",
    "\n",
    "A function is a block of reusable code that performs a specific task. It is defined using the def statement in Python (different in different programming languages). A function has a name, a set of parameters (which is optional), and a body of code that executes when the function is called.\n",
    "\n",
    "\n",
    "A function call is an instruction that tells the program to execute the code inside a function at a specific point in the program. A function is called by invoking the function by using its name followed by parentheses. When a function call is encountered during program execution, control is transferred to the function, the code inside the function is executed."
   ]
  },
  {
   "cell_type": "code",
   "execution_count": 1,
   "id": "1365a18c",
   "metadata": {},
   "outputs": [
    {
     "name": "stdout",
     "output_type": "stream",
     "text": [
      "Himanshu Kumar\n"
     ]
    }
   ],
   "source": [
    "#Example\n",
    "\n",
    "def sayName():  #function definition\n",
    "    print(\"Himanshu Kumar\")\n",
    "    \n",
    "sayName()      #calling the function"
   ]
  },
  {
   "cell_type": "markdown",
   "id": "0ca57086",
   "metadata": {},
   "source": [
    "5. How many global scopes are there in a Python program? How many local scopes?\n",
    "\n",
    "The global scope is the outermost scope in a Python program. It represents the area where global variables and functions are defined. The global scope is accessible throughout the code that includes all functions and other nested scopes. Any variable or function defined outside of any function or class belongs to the global scope. Variables in the global scope can be accessed and modified from anywhere within the program.\n",
    "\n",
    "Local scopes are created whenever a function is called or a block is being executed, such as a loop or conditional statement. Each function call or block creates its own local scope. Variables defined within a local scope are only accessible within that specific scope. Local variables are active until and unless the scope of that function/block of code is not completed."
   ]
  },
  {
   "cell_type": "markdown",
   "id": "5bcd9ae8",
   "metadata": {},
   "source": [
    "6. What happens to variables in a local scope when the function call returns?\n",
    "\n",
    "\n",
    "When a function call completed its task, the local variables within that function's local scope are destroyed.\n",
    "\n",
    "Once the function call completes and the function's execution reaches its end or encounters a return statement, the local scope variables associated with that function is removed from the memory. As a result, the variables defined within the function's local scope doesn't exist anymore."
   ]
  },
  {
   "cell_type": "code",
   "execution_count": 2,
   "id": "74489131",
   "metadata": {},
   "outputs": [
    {
     "name": "stdout",
     "output_type": "stream",
     "text": [
      "Himanshu Kumar\n"
     ]
    },
    {
     "ename": "NameError",
     "evalue": "name 'name' is not defined",
     "output_type": "error",
     "traceback": [
      "\u001b[1;31m---------------------------------------------------------------------------\u001b[0m",
      "\u001b[1;31mNameError\u001b[0m                                 Traceback (most recent call last)",
      "\u001b[1;32m~\\AppData\\Local\\Temp\\ipykernel_11824\\1114812570.py\u001b[0m in \u001b[0;36m<module>\u001b[1;34m\u001b[0m\n\u001b[0;32m      6\u001b[0m \u001b[0mfullName\u001b[0m\u001b[1;33m(\u001b[0m\u001b[1;34m\"Himanshu Kumar\"\u001b[0m\u001b[1;33m)\u001b[0m\u001b[1;33m\u001b[0m\u001b[1;33m\u001b[0m\u001b[0m\n\u001b[0;32m      7\u001b[0m \u001b[1;33m\u001b[0m\u001b[0m\n\u001b[1;32m----> 8\u001b[1;33m \u001b[0mprint\u001b[0m\u001b[1;33m(\u001b[0m\u001b[0mname\u001b[0m\u001b[1;33m)\u001b[0m\u001b[1;33m\u001b[0m\u001b[1;33m\u001b[0m\u001b[0m\n\u001b[0m",
      "\u001b[1;31mNameError\u001b[0m: name 'name' is not defined"
     ]
    }
   ],
   "source": [
    "#example\n",
    "\n",
    "def fullName(name):\n",
    "    print(name)\n",
    "    \n",
    "fullName(\"Himanshu Kumar\")\n",
    "\n",
    "print(name)  #name variable doesn't exist because the function has already returned and the local variable 'name' is destroyed"
   ]
  },
  {
   "cell_type": "markdown",
   "id": "ca1ecb95",
   "metadata": {},
   "source": [
    "7. What is the concept of a return value? Is it possible to have a return value in an expression?\n",
    "\n",
    "The concept of a return value refers to the value that a function can send back to the caller after it has completed its execution. Once the return statement is encountered, the function immediately exits, and the specified return value is passed back to the caller.\n",
    "\n",
    "It is possible to have a return value in an expression. Example:"
   ]
  },
  {
   "cell_type": "code",
   "execution_count": 5,
   "id": "39721bca",
   "metadata": {},
   "outputs": [
    {
     "name": "stdout",
     "output_type": "stream",
     "text": [
      "35\n"
     ]
    }
   ],
   "source": [
    "#Example\n",
    "\n",
    "def do_square(x):\n",
    "    return x * x\n",
    "\n",
    "result = do_square(5) + 10\n",
    "print(result)"
   ]
  },
  {
   "cell_type": "markdown",
   "id": "7b8a3346",
   "metadata": {},
   "source": [
    "8. If a function does not have a return statement, what is the return value of a call to that function?\n",
    "\n",
    "If a function does not have a return statement, the return value of a call to that function is None. This ensures that every function call has a return value.\n",
    "\n",
    "Example:"
   ]
  },
  {
   "cell_type": "code",
   "execution_count": 9,
   "id": "5398f4f4",
   "metadata": {},
   "outputs": [
    {
     "name": "stdout",
     "output_type": "stream",
     "text": [
      "6\n",
      "None\n"
     ]
    }
   ],
   "source": [
    "#Example:\n",
    "\n",
    "def sumOf_two(a, b):\n",
    "    print(a+b)\n",
    "\n",
    "sum = sumOf_two(2, 4)\n",
    "print(sum)  #Output: None"
   ]
  },
  {
   "cell_type": "markdown",
   "id": "9084e0ce",
   "metadata": {},
   "source": [
    "9. How do you make a function variable refer to the global variable?\n",
    "\n",
    "By using the 'global' keyword for the same name of the variable inside a function, we can make the local variable refer to the global variable.\n",
    "\n",
    "Example:"
   ]
  },
  {
   "cell_type": "code",
   "execution_count": 13,
   "id": "15b2238e",
   "metadata": {},
   "outputs": [
    {
     "name": "stdout",
     "output_type": "stream",
     "text": [
      "Before function call: 10\n",
      "After function call: 20\n"
     ]
    }
   ],
   "source": [
    "x = 10  # global variable\n",
    "\n",
    "def local_variable():\n",
    "    global x\n",
    "    x = 20\n",
    "\n",
    "print(\"Before function call:\", x)\n",
    "\n",
    "local_variable()\n",
    "\n",
    "print(\"After function call:\", x)"
   ]
  },
  {
   "cell_type": "markdown",
   "id": "e7860063",
   "metadata": {},
   "source": [
    "10. What is the data type of None?\n",
    "\n",
    "The data type of None is NoneType"
   ]
  },
  {
   "cell_type": "code",
   "execution_count": 14,
   "id": "bcf3fc93",
   "metadata": {},
   "outputs": [
    {
     "name": "stdout",
     "output_type": "stream",
     "text": [
      "<class 'NoneType'>\n"
     ]
    }
   ],
   "source": [
    "#Example:\n",
    "\n",
    "print(type(None))"
   ]
  },
  {
   "cell_type": "markdown",
   "id": "42cb8b7c",
   "metadata": {},
   "source": [
    "11. What does the sentence import areallyourpetsnamederic do?\n",
    "\n",
    "The import keyword is used to import modules or packages, which are pre-defined libraries. The above sentence imports a library 'areallyourpetsnamederic' from Python modules or packages."
   ]
  },
  {
   "cell_type": "markdown",
   "id": "604da650",
   "metadata": {},
   "source": [
    "12. If you had a bacon() feature in a spam module, what would you call it after importing spam?\n",
    "\n",
    "After importing the spam module, we can call the bacon() function like below -\n",
    "\n",
    "import spam\n",
    "\n",
    "spam.bacon()"
   ]
  },
  {
   "cell_type": "markdown",
   "id": "e5ba1c17",
   "metadata": {},
   "source": [
    "13. What can you do to save a programme from crashing if it encounters an error?\n",
    "\n",
    "We can save a programme by implementing the error handling techniques using exception handling. Exception handling helps in catching and handling errors results in the execution of the programme even when any compile/run time error encounters.\n",
    "\n",
    "The methods we can use is try-except exception handling with the exception heirarchy."
   ]
  },
  {
   "cell_type": "markdown",
   "id": "69780974",
   "metadata": {},
   "source": [
    "14. What is the purpose of the try clause? What is the purpose of the except clause?\n",
    "\n",
    "Try clause runs the nested piece of code and when any error encounters in any compile time or the run time state, the code under except clause run.\n",
    "\n",
    "Except clause is used to handle the exception occurred in the try clause by using the exception hierarchy.\n",
    "\n",
    "Example:"
   ]
  },
  {
   "cell_type": "code",
   "execution_count": 2,
   "id": "b14731dd",
   "metadata": {},
   "outputs": [
    {
     "name": "stdout",
     "output_type": "stream",
     "text": [
      "Enter your first number: 23\n",
      "Enter your second number: -43\n",
      "Sum of provided two numbers is:  -20\n"
     ]
    }
   ],
   "source": [
    "#example:\n",
    "\n",
    "try:\n",
    "    first_number = int(input(\"Enter your first number: \"))\n",
    "    second_number = int(input(\"Enter your second number: \"))\n",
    "    \n",
    "    sum = first_number + second_number\n",
    "    print(\"Sum of provided two numbers is: \",sum)\n",
    "    \n",
    "except:\n",
    "    print(\"Enter a number!\")"
   ]
  }
 ],
 "metadata": {
  "kernelspec": {
   "display_name": "Python 3 (ipykernel)",
   "language": "python",
   "name": "python3"
  },
  "language_info": {
   "codemirror_mode": {
    "name": "ipython",
    "version": 3
   },
   "file_extension": ".py",
   "mimetype": "text/x-python",
   "name": "python",
   "nbconvert_exporter": "python",
   "pygments_lexer": "ipython3",
   "version": "3.9.13"
  }
 },
 "nbformat": 4,
 "nbformat_minor": 5
}
