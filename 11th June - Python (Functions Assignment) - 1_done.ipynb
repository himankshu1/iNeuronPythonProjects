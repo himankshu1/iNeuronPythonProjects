{
 "cells": [
  {
   "cell_type": "markdown",
   "id": "9806ad34",
   "metadata": {},
   "source": [
    "# 1. What is a lambda function in Python, and how does it differ from a regular function?\n",
    "\n",
    "A lambda function is an anonymous function that can be defined without a name. It is also known as a \"lambda expression\". Lambda functions are commonly used when we need a small, one-line function without the need for a complete function definition.\n",
    "\n",
    "The main difference between a lambda function and a regular function lies in their syntax and capabilities. Lambda functions are limited to a single expression, whereas a regular functions is defined with the def keyword and can have multiple statements and a more complex structure. Regular functions also have a name assigned to them, while lambda functions are anonymous."
   ]
  },
  {
   "cell_type": "code",
   "execution_count": 1,
   "id": "ccf443dc",
   "metadata": {},
   "outputs": [
    {
     "name": "stdout",
     "output_type": "stream",
     "text": [
      "6\n",
      "6\n"
     ]
    }
   ],
   "source": [
    "# Regular function\n",
    "def multiply(x, y):\n",
    "    return x * y\n",
    "\n",
    "# Lambda function\n",
    "multiply_lambda = lambda x, y: x * y\n",
    "\n",
    "# Using the functions\n",
    "print(multiply(2, 3))\n",
    "print(multiply_lambda(2, 3))"
   ]
  },
  {
   "cell_type": "markdown",
   "id": "ae1679c1",
   "metadata": {},
   "source": [
    "# 2. Can a lambda function in Python have multiple arguments? If yes, how can you define and use them?\n",
    "\n",
    "Yes, a lambda function in Python can have multiple arguments. The arguments are defined in the same way as in a regular function, separated by commas."
   ]
  },
  {
   "cell_type": "code",
   "execution_count": 2,
   "id": "5ba24718",
   "metadata": {},
   "outputs": [
    {
     "name": "stdout",
     "output_type": "stream",
     "text": [
      "6\n"
     ]
    }
   ],
   "source": [
    "# Lambda function\n",
    "multiply_lambda = lambda x, y: x * y\n",
    "\n",
    "print(multiply_lambda(2, 3))"
   ]
  },
  {
   "cell_type": "markdown",
   "id": "801fbc15",
   "metadata": {},
   "source": [
    "# 3. How are lambda functions typically used in Python? Provide an example use case.\n",
    "\n",
    "Lambda functions are commonly used where a small, one-line function is required, especially when we need to pass a function as an argument to another function or when we need a simple function as a callback."
   ]
  },
  {
   "cell_type": "code",
   "execution_count": 3,
   "id": "ce5394c5",
   "metadata": {},
   "outputs": [
    {
     "name": "stdout",
     "output_type": "stream",
     "text": [
      "[2, 4, 6, 8, 10]\n"
     ]
    }
   ],
   "source": [
    "#Example --\n",
    "\n",
    "# Filtering a list of numbers using a lambda function\n",
    "numbers = [1, 2, 3, 4, 5, 6, 7, 8, 9, 10]\n",
    "\n",
    "#filter method will return the values from the list 'numbers' that satisfies the condition (x % 2 == 0)\n",
    "even_numbers = list(filter(lambda x: x % 2 == 0, numbers))\n",
    "print(even_numbers)"
   ]
  },
  {
   "cell_type": "markdown",
   "id": "5f92caf5",
   "metadata": {},
   "source": [
    "# 4. What are the advantages and limitations of lambda functions compared to regular functions in Python?\n",
    "\n",
    "Lambda functions is simple, one-line functions without the need for a full function definition like regular functions. This makes the code more readable and compact.\n",
    "\n",
    "Lambda functions are anonymous, meaning they don't need a name to define a lambda function. 'lambda' keyword is require to define a lambda function.\n",
    "\n",
    "Lambda functions are commonly used as a function argument in higher order functions such as in 'map()', 'filter()', 'reduce()'. Using a lambda function with these functions is easier to deal with keeping the code compact and easier to read and understand.\n",
    "\n",
    "Lambda functions are limited to a single expression. They can't contain multiple statements or complex logic like loops or conditionals. Regular functions allow for more complex code structures.\n",
    "\n",
    "Lambda functions are anonymous, which can make debugging and understanding code more challenging. Regular functions have a name that helps in identifying and referencing them."
   ]
  },
  {
   "cell_type": "markdown",
   "id": "c27f1cef",
   "metadata": {},
   "source": [
    "# 5. Are lambda functions in Python able to access variables defined outside of their own scope? Explain with an example.\n",
    "\n",
    "Yes, the lambda functions are able to access variables defined outside of their own scope. They have access to variables from the surrounding lexical scope, just like regular functions. This behavior is known as \"closure.\""
   ]
  },
  {
   "cell_type": "code",
   "execution_count": 7,
   "id": "e817c2fc",
   "metadata": {},
   "outputs": [
    {
     "name": "stdout",
     "output_type": "stream",
     "text": [
      "Hello World\n"
     ]
    }
   ],
   "source": [
    "def outer_function():\n",
    "    message = 'Hello'\n",
    "\n",
    "    # Lambda function accessing the 'message' variable from the outer scope\n",
    "    inner_function = lambda: print(message + ' World')\n",
    "\n",
    "    return inner_function\n",
    "\n",
    "# Calling the outer function to get the lambda function\n",
    "func = outer_function()\n",
    "\n",
    "# Calling the lambda function\n",
    "func()"
   ]
  },
  {
   "cell_type": "markdown",
   "id": "263c014b",
   "metadata": {},
   "source": [
    "# 6. Write a lambda function to calculate the square of a given number."
   ]
  },
  {
   "cell_type": "code",
   "execution_count": 12,
   "id": "4b96385b",
   "metadata": {},
   "outputs": [
    {
     "name": "stdout",
     "output_type": "stream",
     "text": [
      "121\n"
     ]
    }
   ],
   "source": [
    "sq = lambda x: x ** 2\n",
    "\n",
    "print(sq(11))"
   ]
  },
  {
   "cell_type": "markdown",
   "id": "095167e5",
   "metadata": {},
   "source": [
    "# 7. Create a lambda function to find the maximum value in a list of integers."
   ]
  },
  {
   "cell_type": "code",
   "execution_count": 13,
   "id": "bce71dcb",
   "metadata": {},
   "outputs": [
    {
     "name": "stdout",
     "output_type": "stream",
     "text": [
      "76\n"
     ]
    }
   ],
   "source": [
    "l = [1,2,3,4,3,2,4,3,32,42,12,76,8]\n",
    "\n",
    "max_value = lambda num: max(num)\n",
    "result = max_value(l)\n",
    "print(result)"
   ]
  },
  {
   "cell_type": "markdown",
   "id": "9731505f",
   "metadata": {},
   "source": [
    "# 8. Implement a lambda function to filter out all the even numbers from a list of integers."
   ]
  },
  {
   "cell_type": "code",
   "execution_count": 14,
   "id": "eec10138",
   "metadata": {},
   "outputs": [
    {
     "name": "stdout",
     "output_type": "stream",
     "text": [
      "[2, 4, 2, 4, 32, 42, 12, 76, 8]\n"
     ]
    }
   ],
   "source": [
    "l = [1,2,3,4,3,2,4,3,32,42,12,76,8]\n",
    "\n",
    "even_nums = list(filter(lambda num: num % 2 == 0, l))\n",
    "print(even_nums)"
   ]
  },
  {
   "cell_type": "markdown",
   "id": "168d9d08",
   "metadata": {},
   "source": [
    "# 9. Write a lambda function to sort a list of strings in ascending order based on the length of each string."
   ]
  },
  {
   "cell_type": "code",
   "execution_count": 15,
   "id": "ceab4a4f",
   "metadata": {},
   "outputs": [
    {
     "name": "stdout",
     "output_type": "stream",
     "text": [
      "['date', 'apple', 'banana', 'cherry', 'elderberry']\n"
     ]
    }
   ],
   "source": [
    "fruits = ['apple', 'banana', 'cherry', 'date', 'elderberry']\n",
    "\n",
    "sorted_list = sorted(fruits, key=lambda s: len(s))\n",
    "\n",
    "print(sorted_list)"
   ]
  },
  {
   "cell_type": "markdown",
   "id": "d0d40870",
   "metadata": {},
   "source": [
    "# 10. Create a lambda function that takes two lists as input and returns a new list containing the common elements between the two lists.\n",
    "\n",
    "There can be two methods of doing this ---\n",
    "\n",
    "1. using filter method\n",
    "\n",
    "2. using set intersection"
   ]
  },
  {
   "cell_type": "code",
   "execution_count": 19,
   "id": "55f43a13",
   "metadata": {},
   "outputs": [
    {
     "name": "stdout",
     "output_type": "stream",
     "text": [
      "[1, 2, 3]\n"
     ]
    }
   ],
   "source": [
    "# Using filter() method\n",
    "l1 = [1,2,3,4,5]\n",
    "l2 = [1,2,3,6,7]\n",
    "\n",
    "\n",
    "common_list = list(filter(lambda x: x in l2, l1))\n",
    "print(common_list)"
   ]
  },
  {
   "cell_type": "code",
   "execution_count": 20,
   "id": "9c014d42",
   "metadata": {},
   "outputs": [
    {
     "name": "stdout",
     "output_type": "stream",
     "text": [
      "[1, 2, 3]\n"
     ]
    }
   ],
   "source": [
    "# Using the set intersection\n",
    "\n",
    "common_elements = list(set(l1) & set(l2))\n",
    "print(common_elements)"
   ]
  },
  {
   "cell_type": "markdown",
   "id": "0f13c80d",
   "metadata": {},
   "source": [
    "# 11. Write a recursive function to calculate the factorial of a given positive integer.\n",
    "\n",
    "Recursive function = When a function calls itself"
   ]
  },
  {
   "cell_type": "code",
   "execution_count": 25,
   "id": "ebae65fc",
   "metadata": {},
   "outputs": [
    {
     "name": "stdout",
     "output_type": "stream",
     "text": [
      "The factorial of 6 is: 720\n"
     ]
    }
   ],
   "source": [
    "def factorial(n):\n",
    "    if n == 0 or n == 1:\n",
    "        return 1\n",
    "    else:\n",
    "        return n * factorial(n - 1)\n",
    "\n",
    "\n",
    "number = 6\n",
    "result = factorial(number)\n",
    "print(f\"The factorial of {number} is: {result}\")"
   ]
  },
  {
   "cell_type": "markdown",
   "id": "5827c0b6",
   "metadata": {},
   "source": [
    "# 12. Implement a recursive function to compute the nth Fibonacci number."
   ]
  },
  {
   "cell_type": "code",
   "execution_count": 27,
   "id": "dc4de8cc",
   "metadata": {},
   "outputs": [
    {
     "name": "stdout",
     "output_type": "stream",
     "text": [
      "The 7th Fibonacci number is: 13\n"
     ]
    }
   ],
   "source": [
    "def fib(n):\n",
    "    if n <= 1:\n",
    "        return n\n",
    "    else:\n",
    "        return fib(n - 1) + fib(n - 2)\n",
    "\n",
    "\n",
    "number = 7\n",
    "result = fib(number)\n",
    "print(f\"The {number}th Fibonacci number is: {result}\")"
   ]
  },
  {
   "cell_type": "markdown",
   "id": "42076c54",
   "metadata": {},
   "source": [
    "# 13. Create a recursive function to find the sum of all the elements in a given list."
   ]
  },
  {
   "cell_type": "code",
   "execution_count": 35,
   "id": "93c594cd",
   "metadata": {},
   "outputs": [
    {
     "name": "stdout",
     "output_type": "stream",
     "text": [
      "28\n"
     ]
    }
   ],
   "source": [
    "def sum_list(l):\n",
    "    \n",
    "    if len(l) == 0:\n",
    "        return 0\n",
    "    else:\n",
    "        sum_total = l[0] + sum_list(l[1:])\n",
    "        return sum_total\n",
    "    \n",
    "list1 = [1,2,3,4,5,6,7]\n",
    "result = sum_list(list1)\n",
    "print(result)"
   ]
  },
  {
   "cell_type": "markdown",
   "id": "0f4ca74c",
   "metadata": {},
   "source": [
    "# 14. Write a recursive function to determine whether a given string is a palindrome."
   ]
  },
  {
   "cell_type": "code",
   "execution_count": 36,
   "id": "b0bb0abc",
   "metadata": {},
   "outputs": [
    {
     "name": "stdout",
     "output_type": "stream",
     "text": [
      "True\n",
      "False\n"
     ]
    }
   ],
   "source": [
    "def is_palindrome(s):\n",
    "    if len(s) <= 1:\n",
    "        return True\n",
    "    elif s[0] == s[-1]:\n",
    "        return is_palindrome(s[1:-1])\n",
    "    else:\n",
    "        return False\n",
    "\n",
    "\n",
    "string1 = \"racecar\"\n",
    "string2 = \"hello\"\n",
    "\n",
    "print(is_palindrome(string1))\n",
    "print(is_palindrome(string2))\n"
   ]
  },
  {
   "cell_type": "markdown",
   "id": "526aadda",
   "metadata": {},
   "source": [
    "# 15. Implement a recursive function to find the greatest common divisor (GCD) of two positive integers."
   ]
  },
  {
   "cell_type": "code",
   "execution_count": 39,
   "id": "20ad1b21",
   "metadata": {},
   "outputs": [
    {
     "name": "stdout",
     "output_type": "stream",
     "text": [
      "The GCD of 122 and 124 is: 2\n"
     ]
    }
   ],
   "source": [
    "def gcd(a, b):\n",
    "    if b == 0:\n",
    "        return a\n",
    "    else:\n",
    "        return gcd(b, a % b)\n",
    "\n",
    "\n",
    "num1 = 122\n",
    "num2 = 124\n",
    "\n",
    "result = gcd(num1, num2)\n",
    "print(f\"The GCD of {num1} and {num2} is: {result}\")\n"
   ]
  }
 ],
 "metadata": {
  "kernelspec": {
   "display_name": "Python 3 (ipykernel)",
   "language": "python",
   "name": "python3"
  },
  "language_info": {
   "codemirror_mode": {
    "name": "ipython",
    "version": 3
   },
   "file_extension": ".py",
   "mimetype": "text/x-python",
   "name": "python",
   "nbconvert_exporter": "python",
   "pygments_lexer": "ipython3",
   "version": "3.9.13"
  }
 },
 "nbformat": 4,
 "nbformat_minor": 5
}
