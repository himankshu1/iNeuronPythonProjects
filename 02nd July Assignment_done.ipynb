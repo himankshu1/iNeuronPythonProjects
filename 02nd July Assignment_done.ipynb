{
 "cells": [
  {
   "cell_type": "markdown",
   "id": "8ff5f53b",
   "metadata": {},
   "source": [
    "# 1. Explain what inheritance is in object-oriented programming and why it is used.\n",
    "\n",
    "Inheritance is a fundamental concept in object-oriented programming (OOP) that allows one class to inherit properties and behaviors from another class. Inheritance establishes a hierarchical relationship between classes, enabling the creation of a more specialized class (subclass or derived class) based on an existing class (superclass or base class).\n",
    "\n",
    "\n",
    "Inheritance usability --\n",
    "\n",
    "Code Reusability: Inheritance promotes code reusability by allowing classes to inherit and reuse the attributes and methods of existing classes. Instead of rewriting code from scratch, subclasses can inherit and extend the functionality of their superclass. This reduces code duplication and promotes a more modular and efficient development process.\n",
    "\n",
    "Abstraction and Modularity: Inheritance supports the principle of abstraction, which allows developers to create more generalized base classes that define common attributes and behaviors. Subclasses can then focus on extending or overriding specific parts of the base class as needed, resulting in modular and maintainable code.\n",
    "\n",
    "Polymorphism: Inheritance is a key component in achieving polymorphism, another important principle of OOP. Polymorphism allows objects of different classes to be treated as objects of a common superclass. By sharing a common interface, subclasses can be used interchangeably, allowing for more flexible and extensible code.\n",
    "\n",
    "Specialization and Hierarchy: Inheritance enables the creation of specialized classes that inherit and extend the properties and behaviors of a more general superclass. Subclasses can add new attributes, methods, or override existing ones to provide specific functionality or customization. This hierarchical organization of classes helps in modeling real-world relationships and hierarchies.\n",
    "\n",
    "Code Organization and Readability: Inheritance enhances code organization and readability by structuring classes into logical hierarchies. Inherited attributes and methods are logically grouped in the base class, making it easier to understand and maintain the code. Subclasses inherit these attributes and methods, allowing for a more intuitive and coherent code structure."
   ]
  },
  {
   "cell_type": "markdown",
   "id": "8f235e87",
   "metadata": {},
   "source": [
    "# 2. Discuss the concept of single inheritance and multiple inheritance, highlighting their differences and advantages.\n",
    "\n",
    "\n",
    "Single Inheritance:\n",
    "\n",
    "Single inheritance refers to the concept of a class inheriting from a single superclass or base class. In this approach, a subclass can have only one direct superclass. The subclass inherits all the attributes and behaviors of the superclass and can extend or override them as needed.\n",
    "\n",
    "Advantages of Single Inheritance:\n",
    "\n",
    "Simplicity: Single inheritance provides a simpler and straightforward class hierarchy compared to multiple inheritance. The relationship between classes is more linear, making it easier to understand and maintain the code.\n",
    "\n",
    "Code Organization: With single inheritance, code organization is more structured and less complex. The class hierarchy is typically more manageable, and the dependencies between classes are more explicit.\n",
    "\n",
    "Avoiding Diamond Problem: The diamond problem occurs in multiple inheritance when a class inherits from two or more classes that have a common superclass. It can lead to ambiguity in method resolution. Single inheritance avoids this problem altogether.\n",
    "\n",
    "\n",
    "\n",
    "Multiple Inheritance:\n",
    "\n",
    "Multiple inheritance refers to the concept of a class inheriting from multiple superclasses or base classes. In this approach, a subclass can have more than one direct superclass, and it inherits attributes and behaviors from all of them.\n",
    "\n",
    "\n",
    "Advantages of Multiple Inheritance:\n",
    "\n",
    "Code Reusability: Multiple inheritance allows for greater code reusability by inheriting attributes and behaviors from multiple superclasses. It enables a class to combine features from different classes, promoting code reuse and reducing code duplication.\n",
    "\n",
    "Expressive Power: Multiple inheritance provides a higher level of expressiveness by allowing classes to combine diverse characteristics from multiple sources. It offers more flexibility in creating complex class relationships and modeling real-world scenarios.\n",
    "\n",
    "Mixins and Interfaces: Multiple inheritance is often used to implement mixins or interfaces. Mixins are classes that provide a specific set of functionalities and can be mixed into other classes to extend their capabilities. Interfaces define a contract that classes can implement. Multiple inheritance allows a class to inherit from multiple mixins or implement multiple interfaces, enabling the composition of behavior from different sources."
   ]
  },
  {
   "cell_type": "markdown",
   "id": "81e50a54",
   "metadata": {},
   "source": [
    "# 3. Explain the terms \"base class\" and \"derived class\" in the context of inheritance.\n",
    "\n",
    "\n",
    "Base Class (Superclass/Parent class):\n",
    "\n",
    "A base class, also known as a superclass or parent class, is the class from which other classes inherit. It serves as the foundation or starting point for creating more specialized classes. The base class defines common attributes, behaviors, and methods that can be inherited and shared by its derived classes.\n",
    "\n",
    "\n",
    "Derived Class (Subclass/Child class):\n",
    "\n",
    "A derived class, also known as a subclass or child class, is a class that inherits attributes, behaviors, and methods from a base class. The derived class extends or specializes the functionality of the base class by adding new attributes or methods, overriding existing methods, or introducing additional functionality."
   ]
  },
  {
   "cell_type": "markdown",
   "id": "92ae2e3d",
   "metadata": {},
   "source": [
    "# 4. What is the significance of the \"protected\" access modifier in inheritance? How does it differ from \"private\" and \"public\" modifiers?\n",
    "\n",
    "\n",
    "Public Access Modifier:\n",
    "\n",
    "Public members have no access restrictions and can be accessed from anywhere within the program, including outside the class and its subclasses. By default, class members are considered public if no access modifier is specified explicitly.\n",
    "\n",
    "\n",
    "Private Access Modifier:\n",
    "\n",
    "Private members are denoted by a double leading underscore __ as a naming convention. They have the highest level of access restriction and are intended to be used within the class only. Private members are not accessible from outside the class, including its subclasses.\n",
    "\n",
    "\n",
    "Protected (a convention) Access Modifier:\n",
    "\n",
    "In Python, the \"protected\" access modifier is not enforced by the language itself, but it is a convention to indicate that an attribute or method is intended for internal use within the class and its subclasses. The convention is to prefix the name of the attribute or method with a single leading underscore _"
   ]
  },
  {
   "cell_type": "code",
   "execution_count": 1,
   "id": "1b6b88dc",
   "metadata": {},
   "outputs": [
    {
     "name": "stdout",
     "output_type": "stream",
     "text": [
      "This is a protected method\n"
     ]
    }
   ],
   "source": [
    "#Example ---\n",
    "\n",
    "class ParentClass:\n",
    "    def _protected_method(self):\n",
    "        print(\"This is a protected method\")\n",
    "\n",
    "class DerivedClass(ParentClass):\n",
    "    def some_method(self):\n",
    "        self._protected_method()  # Accessing the protected method from a derived class\n",
    "\n",
    "obj = DerivedClass()\n",
    "obj.some_method()\n"
   ]
  },
  {
   "cell_type": "markdown",
   "id": "d4fd75ce",
   "metadata": {},
   "source": [
    "# 5. What is the purpose of the \"super\" keyword in inheritance? Provide an example.\n",
    "\n",
    "\n",
    "The \"super\" keyword in inheritance is used to refer to the superclass (base class) and invoke its methods or access its attributes. It allows a subclass to call the methods of its superclass, enabling the subclass to inherit and extend the functionality of the superclass."
   ]
  },
  {
   "cell_type": "code",
   "execution_count": 3,
   "id": "059e9e59",
   "metadata": {},
   "outputs": [
    {
     "name": "stdout",
     "output_type": "stream",
     "text": [
      "Sedan is starting\n",
      "Sedan is running on Petrol fuel.\n"
     ]
    }
   ],
   "source": [
    "class Vehicle:\n",
    "    def __init__(self, name):\n",
    "        self.name = name\n",
    "\n",
    "    def start(self):\n",
    "        print(f\"{self.name} is starting\")\n",
    "\n",
    "class Car(Vehicle):\n",
    "    def __init__(self, name, fuel_type):\n",
    "        super().__init__(name)\n",
    "        self.fuel_type = fuel_type\n",
    "\n",
    "    def start(self):\n",
    "        super().start()\n",
    "        print(f\"{self.name} is running on {self.fuel_type} fuel.\")\n",
    "\n",
    "car1 = Car(\"Sedan\", \"Petrol\")\n",
    "car1.start()"
   ]
  },
  {
   "cell_type": "markdown",
   "id": "ca2c64b3",
   "metadata": {},
   "source": [
    "# 6. Create a base class called \"Vehicle\" with attributes like \"make\", \"model\", and \"year\". Then, create a derived class called \"Car\" that inherits from \"Vehicle\" and adds an attribute called \"fuel_type\". Implement appropriate methods in both classes."
   ]
  },
  {
   "cell_type": "code",
   "execution_count": 5,
   "id": "238dc3ac",
   "metadata": {},
   "outputs": [
    {
     "name": "stdout",
     "output_type": "stream",
     "text": [
      "Mercedes S-class (2023) is starting.\n",
      "Mercedes S-class (2023) is being refueled with Petrol fuel.\n",
      "Mercedes S-class (2023) is stopping.\n"
     ]
    }
   ],
   "source": [
    "class Vehicle:\n",
    "    def __init__(self, make, model, year):\n",
    "        self.make = make\n",
    "        self.model = model\n",
    "        self.year = year\n",
    "\n",
    "    def start(self):\n",
    "        print(f\"{self.make} {self.model} ({self.year}) is starting.\")\n",
    "\n",
    "    def stop(self):\n",
    "        print(f\"{self.make} {self.model} ({self.year}) is stopping.\")\n",
    "\n",
    "class Car(Vehicle):\n",
    "    def __init__(self, make, model, year, fuel_type):\n",
    "        super().__init__(make, model, year)\n",
    "        self.fuel_type = fuel_type\n",
    "\n",
    "    def refuel(self):\n",
    "        print(f\"{self.make} {self.model} ({self.year}) is being refueled with {self.fuel_type} fuel.\")\n",
    "\n",
    "car = Car(\"Mercedes\", \"S-class\", 2023, \"Petrol\")\n",
    "car.start()\n",
    "car.refuel()\n",
    "car.stop()"
   ]
  },
  {
   "cell_type": "markdown",
   "id": "2cd0df39",
   "metadata": {},
   "source": [
    "# 7. Create a base class called \"Employee\" with attributes like \"name\" and \"salary.\" Derive two classes, \"Manager\" and \"Developer,\" from \"Employee.\" Add an additional attribute called \"department\" for the \"Manager\" class and \"programming_language\" for the \"Developer\" class."
   ]
  },
  {
   "cell_type": "code",
   "execution_count": 9,
   "id": "96dc7cdd",
   "metadata": {},
   "outputs": [
    {
     "name": "stdout",
     "output_type": "stream",
     "text": [
      "Name: John Doe\n",
      "Salary: 50000\n",
      "Department: Human Resources\n",
      "Name: Jane Smith\n",
      "Salary: 60000\n",
      "Programming Language: Python\n"
     ]
    }
   ],
   "source": [
    "class Employee:\n",
    "    def __init__(self, name, salary):\n",
    "        self.name = name\n",
    "        self.salary = salary\n",
    "\n",
    "    def display_info(self):\n",
    "        print(f\"Name: {self.name}\")\n",
    "        print(f\"Salary: {self.salary}\")\n",
    "\n",
    "class Manager(Employee):\n",
    "    def __init__(self, name, salary, department):\n",
    "        super().__init__(name, salary)\n",
    "        self.department = department\n",
    "\n",
    "    def display_info(self):\n",
    "        super().display_info()\n",
    "        print(f\"Department: {self.department}\")\n",
    "\n",
    "class Developer(Employee):\n",
    "    def __init__(self, name, salary, programming_language):\n",
    "        super().__init__(name, salary)\n",
    "        self.programming_language = programming_language\n",
    "\n",
    "    def display_info(self):\n",
    "        super().display_info()\n",
    "        print(f\"Programming Language: {self.programming_language}\")\n",
    "\n",
    "        \n",
    "\n",
    "manager = Manager(\"John Doe\", 50000, \"Human Resources\")\n",
    "manager.display_info()\n",
    "\n",
    "developer = Developer(\"Jane Smith\", 60000, \"Python\")\n",
    "developer.display_info()"
   ]
  },
  {
   "cell_type": "markdown",
   "id": "c7e78d7d",
   "metadata": {},
   "source": [
    "# 8. Design a base class called \"Shape\" with attributes like \"colour\" and \"border_width.\" Create derived classes, \"Rectangle\" and \"Circle,\" that inherit from \"Shape\" and add specific attributes like \"length\" and \"width\" for the \"Rectangle\" class and \"radius\" for the \"Circle\" class."
   ]
  },
  {
   "cell_type": "code",
   "execution_count": 10,
   "id": "362319cb",
   "metadata": {},
   "outputs": [
    {
     "name": "stdout",
     "output_type": "stream",
     "text": [
      "Colour: Red\n",
      "Border Width: 2\n",
      "Length: 10\n",
      "Width: 5\n",
      "Colour: Blue\n",
      "Border Width: 1\n",
      "Radius: 7\n"
     ]
    }
   ],
   "source": [
    "class Shape:\n",
    "    def __init__(self, colour, border_width):\n",
    "        self.colour = colour\n",
    "        self.border_width = border_width\n",
    "\n",
    "    def display_info(self):\n",
    "        print(f\"Colour: {self.colour}\")\n",
    "        print(f\"Border Width: {self.border_width}\")\n",
    "\n",
    "\n",
    "class Rectangle(Shape):\n",
    "    def __init__(self, colour, border_width, length, width):\n",
    "        super().__init__(colour, border_width)\n",
    "        self.length = length\n",
    "        self.width = width\n",
    "\n",
    "    def display_info(self):\n",
    "        super().display_info()\n",
    "        print(f\"Length: {self.length}\")\n",
    "        print(f\"Width: {self.width}\")\n",
    "\n",
    "\n",
    "class Circle(Shape):\n",
    "    def __init__(self, colour, border_width, radius):\n",
    "        super().__init__(colour, border_width)\n",
    "        self.radius = radius\n",
    "\n",
    "    def display_info(self):\n",
    "        super().display_info()\n",
    "        print(f\"Radius: {self.radius}\")\n",
    "\n",
    "\n",
    "rectangle = Rectangle(\"Red\", 2, 10, 5)\n",
    "rectangle.display_info()\n",
    "\n",
    "\n",
    "circle = Circle(\"Blue\", 1, 7)\n",
    "circle.display_info()"
   ]
  },
  {
   "cell_type": "markdown",
   "id": "5c1a69a9",
   "metadata": {},
   "source": [
    "# 9. Create a base class called \"Device\" with attributes like \"brand\" and \"model.\" Derive two classes, \"Phone\" and \"Tablet,\" from \"Device.\" Add specific attributes like \"screen_size\" for the \"Phone\" class and \"battery_capacity\" for the \"Tablet\" class."
   ]
  },
  {
   "cell_type": "code",
   "execution_count": 22,
   "id": "f83d436f",
   "metadata": {},
   "outputs": [],
   "source": [
    "class Device:\n",
    "    def __init__(self, brand, model):\n",
    "        self.brand = brand\n",
    "        self.model = model\n",
    "        \n",
    "    def display_info(self):\n",
    "        print(f\"Brand: {self.brand}\")\n",
    "        print(f\"Model: {self.model}\")\n",
    "        \n",
    "        \n",
    "class Phone(Device):\n",
    "    def __init__(self, brand, model, screen_size):\n",
    "        super().__init__(brand, model)\n",
    "        self.screen_size = screen_size\n",
    "    \n",
    "    def display_info(self):\n",
    "        super().display_info()\n",
    "        print(f\"Screen size: {self.screen_size}\")\n",
    "    \n",
    "    \n",
    "class Tablet(Device):\n",
    "    def __init__(self, brand, model, battery):\n",
    "        super().__init__(brand, model)\n",
    "        self.battery = battery\n",
    "        \n",
    "    def display_info(self):\n",
    "        super().display_info()\n",
    "        print(f\"Battery: {self.battery}\")\n",
    "        "
   ]
  },
  {
   "cell_type": "code",
   "execution_count": 19,
   "id": "12857f6a",
   "metadata": {},
   "outputs": [
    {
     "name": "stdout",
     "output_type": "stream",
     "text": [
      "Brand: Apple\n",
      "Model: 13\n"
     ]
    }
   ],
   "source": [
    "device1 = Device(\"Apple\", \"13\")\n",
    "device1.display_info()"
   ]
  },
  {
   "cell_type": "code",
   "execution_count": 20,
   "id": "f9d9a9cb",
   "metadata": {},
   "outputs": [],
   "source": [
    "phone1 = Phone(\"Apple\", \"13\", \"6 inch\")"
   ]
  },
  {
   "cell_type": "code",
   "execution_count": 21,
   "id": "014ca7b1",
   "metadata": {},
   "outputs": [
    {
     "name": "stdout",
     "output_type": "stream",
     "text": [
      "Brand: Apple\n",
      "Model: 13\n",
      "Screen_size: 6 inch\n"
     ]
    }
   ],
   "source": [
    "phone1.display_info()"
   ]
  },
  {
   "cell_type": "markdown",
   "id": "62a24bdb",
   "metadata": {},
   "source": [
    "# 10. Create a base class called \"BankAccount\" with attributes like \"account_number\" and \"balance.\" Derive two classes, \"SavingsAccount\" and \"CheckingAccount,\" from \"BankAccount.\" Add specific methods like \"calculate_interest\" for the \"SavingsAccount\" class and \"deduct_fees\" for the \"CheckingAccount\" class."
   ]
  },
  {
   "cell_type": "code",
   "execution_count": 25,
   "id": "ca237cd3",
   "metadata": {},
   "outputs": [],
   "source": [
    "class BankAccount():\n",
    "    def __init__(self, account_number, balance):\n",
    "        self.account_number = account_number\n",
    "        self.balance = balance\n",
    "        \n",
    "    def display_info(self):\n",
    "        print(f\"Account number: {self.account_number}\")\n",
    "        print(f\"Available balance: {self.balance}\")\n",
    "        \n",
    "class SavingsAccount(BankAccount):\n",
    "    def __init__(self, account_number, balance):\n",
    "        super().__init__(account_number, balance)\n",
    "    \n",
    "    def calculate_interest(self, rate):\n",
    "        interest = (self.balance * rate) / 100\n",
    "        self.balance += interest\n",
    "        \n",
    "        print(f\"Final interest: {interest}\")\n",
    "        print(f\"Updated balance: {self.balance}\")\n",
    "    \n",
    "    \n",
    "class CheckingAccount(BankAccount):\n",
    "    def __init__(self, account_number, balance):\n",
    "        super().__init__(account_number, balance)\n",
    "    \n",
    "    def deduct_fees(self, fees):\n",
    "        self.balance -= fees\n",
    "        \n",
    "        print(f\"Fee deducted: {fees}\")\n",
    "        print(f\"Updated balance: {self.balance}\")"
   ]
  },
  {
   "cell_type": "code",
   "execution_count": 30,
   "id": "3d81b120",
   "metadata": {},
   "outputs": [],
   "source": [
    "savings_account1 = SavingsAccount(\"3947366284\", 50000)\n",
    "checking_account1 = CheckingAccount(\"573625345\", 2000)"
   ]
  },
  {
   "cell_type": "code",
   "execution_count": 28,
   "id": "4b109826",
   "metadata": {},
   "outputs": [
    {
     "name": "stdout",
     "output_type": "stream",
     "text": [
      "Final interest: 6000.0\n",
      "Updated balance: 56000.0\n"
     ]
    }
   ],
   "source": [
    "savings_account1.calculate_interest(12)"
   ]
  },
  {
   "cell_type": "code",
   "execution_count": 29,
   "id": "49031a6f",
   "metadata": {},
   "outputs": [
    {
     "name": "stdout",
     "output_type": "stream",
     "text": [
      "Account number: 3947366284\n",
      "Available balance: 56000.0\n"
     ]
    }
   ],
   "source": [
    "savings_account1.display_info()"
   ]
  },
  {
   "cell_type": "code",
   "execution_count": 31,
   "id": "4e2802e0",
   "metadata": {},
   "outputs": [
    {
     "name": "stdout",
     "output_type": "stream",
     "text": [
      "Fee deducted: 500\n",
      "Updated balance: 1500\n"
     ]
    }
   ],
   "source": [
    "checking_account1.deduct_fees(500)"
   ]
  }
 ],
 "metadata": {
  "kernelspec": {
   "display_name": "Python 3 (ipykernel)",
   "language": "python",
   "name": "python3"
  },
  "language_info": {
   "codemirror_mode": {
    "name": "ipython",
    "version": 3
   },
   "file_extension": ".py",
   "mimetype": "text/x-python",
   "name": "python",
   "nbconvert_exporter": "python",
   "pygments_lexer": "ipython3",
   "version": "3.9.13"
  }
 },
 "nbformat": 4,
 "nbformat_minor": 5
}
