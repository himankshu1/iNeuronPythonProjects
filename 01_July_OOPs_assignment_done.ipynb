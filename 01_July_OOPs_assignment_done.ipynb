{
 "cells": [
  {
   "cell_type": "markdown",
   "id": "7f2a89bc",
   "metadata": {},
   "source": [
    "# 1. What is the primary goal of Object-Oriented Programming (OOP)?\n",
    "\n",
    "The primary goal of Object-Oriented Programming (OOP) is to provide a programming paradigm that enables the organization of complex systems using objects, which are instances of classes.\n",
    "\n",
    "OOP method is used to improve code reusability, maintainability, and modularity by representing real-world entities or concepts as objects.\n",
    "\n",
    "Few properties of OOP --\n",
    "\n",
    "Modularity, Reusability, Encapsulation, Inheritence, Polymorphism"
   ]
  },
  {
   "cell_type": "markdown",
   "id": "a3fce158",
   "metadata": {},
   "source": [
    "# 2. What is an object in Python?\n",
    "\n",
    "An object is a fundamental concept in Object-Oriented Programming (OOP). An object is an instance of a class, and it encapsulates attributes and methods related to a specific entity or concept.\n",
    "\n",
    "An object is a container that holds both data and the operations that can be performed on that data.\n",
    "\n"
   ]
  },
  {
   "cell_type": "code",
   "execution_count": 1,
   "id": "54ddf0c7",
   "metadata": {},
   "outputs": [
    {
     "name": "stdout",
     "output_type": "stream",
     "text": [
      "Himanshu\n",
      "Hello, I am Himanshu\n"
     ]
    }
   ],
   "source": [
    "# To create an object in Python, we create a class and then call that class to a different variable that acts an as object\n",
    "\n",
    "# Defining a class\n",
    "class Person:\n",
    "    def __init__(self, name):\n",
    "        self.name = name\n",
    "\n",
    "    def greet(self):\n",
    "        print(\"Hello, I am\", self.name)\n",
    "\n",
    "# Creating an object\n",
    "person1 = Person(\"Himanshu\")\n",
    "\n",
    "# Access object's attributes and invoke its methods. 'name' is the object's attribute\n",
    "print(person1.name)\n",
    "person1.greet()"
   ]
  },
  {
   "cell_type": "markdown",
   "id": "810a86cb",
   "metadata": {},
   "source": [
    "# 3. What is a class in Python?\n",
    "\n",
    "A class is a template for creating objects. It defines the structure, behavior, and attributes that objects of that class will possess. A class acts as a blueprint from which we can create multiple instances (objects) that shares common characteristics and behaviors."
   ]
  },
  {
   "cell_type": "markdown",
   "id": "8d7372cc",
   "metadata": {},
   "source": [
    "# 4. What are attributes and methods in a class?\n",
    "\n",
    "Attributes and methods are the components that define the structure, behavior, and state of objects created from that class.\n",
    "\n",
    "Attributes ----\n",
    "\n",
    "Represents the properties of an object.\n",
    "\n",
    "Can be accessed and modified using dot notation (object.attribute).\n",
    "\n",
    "Defined in the class and are shared by all objects created from that class.\n",
    "\n",
    "Can have different values for each object.\n",
    "\n",
    "Can be instance attributes (unique to each object) or class attributes (shared among all objects).\n",
    "\n",
    "\n",
    "\n",
    "Methods -----\n",
    "\n",
    "Define the behaviors or actions that objects can perform.\n",
    "\n",
    "Are defined in the class and operate on the object's attributes.\n",
    "\n",
    "Can interact with other objects or modify the object's state.\n",
    "\n",
    "Can be called using dot notation (object.method()).\n",
    "\n",
    "Can take arguments (including self, which represents the object itself) and return values."
   ]
  },
  {
   "cell_type": "code",
   "execution_count": 5,
   "id": "a4016c6d",
   "metadata": {},
   "outputs": [
    {
     "name": "stdout",
     "output_type": "stream",
     "text": [
      "An employee Himanshu Kumar does the work in the best possible way\n"
     ]
    }
   ],
   "source": [
    "class Employee:\n",
    "    def __init__(self, name):\n",
    "        self.name = name  # Attribute\n",
    "\n",
    "    def display_name(self):  # Method\n",
    "        print(f'An employee {self.name} does the work in the best possible way')\n",
    "\n",
    "# Creating an object and access its attribute and invoke the method\n",
    "employee1 = Employee('Himanshu Kumar')\n",
    "employee1.display_name()\n"
   ]
  },
  {
   "cell_type": "markdown",
   "id": "7429daee",
   "metadata": {},
   "source": [
    "# 5. What is the difference between class variables and instance variables in Python?\n",
    "\n",
    "\n",
    "Class Variables ----\n",
    "\n",
    "Class variables are defined within the class but outside any methods.\n",
    "\n",
    "They are shared by all instances of the class.\n",
    "\n",
    "Class variables are accessed using the class name or any instance of the class.\n",
    "\n",
    "Modifying the value of a class variable affects all instances of the class.\n",
    "\n",
    "Class variables are typically used to store attributes or data that are common to all instances of the class.\n",
    "\n",
    "They are declared at the class level and are usually initialized in the class body or in a special method called the constructor (__init__).\n",
    "\n",
    "\n",
    "Instance Variables ----\n",
    "\n",
    "Instance variables are specific to each instance (object) of a class.\n",
    "\n",
    "They are declared and assigned values within methods or the constructor (__init__) using the self keyword.\n",
    "\n",
    "Instance variables are accessed using the specific instance/object they belong to.\n",
    "\n",
    "Each instance can have different values for instance variables.\n",
    "\n",
    "Instance variables are used to store unique data for each instance/object of the class."
   ]
  },
  {
   "cell_type": "code",
   "execution_count": 10,
   "id": "c9d3de1b",
   "metadata": {},
   "outputs": [
    {
     "name": "stdout",
     "output_type": "stream",
     "text": [
      "4\n",
      "4\n",
      "Toyota\n",
      "BMW\n",
      "The Green Toyota car is driving on 3 wheels.\n",
      "The Blue BMW car is driving on 3 wheels.\n"
     ]
    }
   ],
   "source": [
    "class Car:\n",
    "    # Class variable\n",
    "    wheels = 4\n",
    "\n",
    "    def __init__(self, brand, color):\n",
    "        # Instance variables\n",
    "        self.brand = brand\n",
    "        self.color = color\n",
    "\n",
    "    def drive(self):\n",
    "        print(f\"The {self.color} {self.brand} car is driving on {self.wheels} wheels.\")\n",
    "\n",
    "\n",
    "# Creating instances of the Car class\n",
    "car1 = Car(\"Toyota\", \"Red\")\n",
    "car2 = Car(\"BMW\", \"Blue\")\n",
    "\n",
    "# Accessing class variable\n",
    "print(car1.wheels)\n",
    "print(car2.wheels)\n",
    "\n",
    "# Accessing instance variables\n",
    "print(car1.brand)\n",
    "print(car2.brand)\n",
    "\n",
    "# Modifying class variable\n",
    "Car.wheels = 3\n",
    "\n",
    "# Modifying instance variable for car1\n",
    "car1.color = \"Green\"\n",
    "\n",
    "# Calling the drive method for each instance\n",
    "car1.drive()\n",
    "car2.drive()\n"
   ]
  },
  {
   "cell_type": "markdown",
   "id": "c36fff5f",
   "metadata": {},
   "source": [
    "# 6. What is the purpose of the self parameter in Python class methods?\n",
    "\n",
    "The self parameter is a convention used to refer to the instance/object itself within class methods. It represents the instance on which a method is being called. It is the first parameter in the methods.\n",
    "\n",
    "When a method is called on an instance, the instance itself is automatically passed as the self argument.\n",
    "\n",
    "self can be any name, as it is not a keyword in Python rather its a convention"
   ]
  },
  {
   "cell_type": "markdown",
   "id": "1063e82f",
   "metadata": {},
   "source": [
    "# 7. For a library management system, you have to design the \"Book\" class with OOP principles in mind. The “Book” class will have following attributes:\n",
    "\n",
    "a. title: Represents the title of the book.\n",
    "\n",
    "b. author: Represents the author(s) of the book.\n",
    "\n",
    "c. isbn: Represents the ISBN (International Standard Book Number) of the book.\n",
    "\n",
    "d. publication_year: Represents the year of publication of the book.\n",
    "\n",
    "e. available_copies: Represents the number of copies available for checkout.\n",
    "\n",
    "\n",
    "The class will also include the following methods:\n",
    "\n",
    "a. check_out(self): Decrements the available copies by one if there are copies\n",
    "available for checkout.\n",
    "\n",
    "b. return_book(self): Increments the available copies by one when a book is\n",
    "returned.\n",
    "\n",
    "c. display_book_info(self): Displays the information about the book, including its\n",
    "attributes and the number of available copies."
   ]
  },
  {
   "cell_type": "code",
   "execution_count": 28,
   "id": "e0c3b6e3",
   "metadata": {},
   "outputs": [],
   "source": [
    "class Book:\n",
    "    \n",
    "    def __init__(self, title, author, isbn, publication_year, available_copies):\n",
    "        self.title = title\n",
    "        self.author = author\n",
    "        self.isbn = isbn\n",
    "        self.publication_year = publication_year\n",
    "        self.available_copies = available_copies\n",
    "        \n",
    "    def check_out(self):\n",
    "        if self.available_copies >= 1:\n",
    "            self.available_copies = self.available_copies - 1\n",
    "            print(f\"Available copies are now {self.available_copies}\")\n",
    "        \n",
    "    def return_book(self):\n",
    "        self.available_copies = self.available_copies + 1\n",
    "        print(f\"Available copies are now {self.available_copies}\")\n",
    "        \n",
    "    def display_book_info(self):\n",
    "        print(f\"Book {self.title} is written by {self.author} - availability {self.available_copies}\\nISBN {self.isbn}\\nPublication year {self.publication_year}\")"
   ]
  },
  {
   "cell_type": "code",
   "execution_count": 29,
   "id": "ce60cfc9",
   "metadata": {},
   "outputs": [],
   "source": [
    "book1 = Book('The Honest Human', 'Himanshu Kumar', 'H9383BSHD233', '2023', 11)"
   ]
  },
  {
   "cell_type": "code",
   "execution_count": 30,
   "id": "0009e605",
   "metadata": {},
   "outputs": [
    {
     "name": "stdout",
     "output_type": "stream",
     "text": [
      "Book The Honest Human is written by Himanshu Kumar - availability 11\n",
      "ISBN H9383BSHD233\n",
      "Publication year 2023\n"
     ]
    }
   ],
   "source": [
    "book1.display_book_info()"
   ]
  },
  {
   "cell_type": "code",
   "execution_count": 31,
   "id": "5be02b8a",
   "metadata": {},
   "outputs": [
    {
     "name": "stdout",
     "output_type": "stream",
     "text": [
      "Available copies are now 10\n"
     ]
    }
   ],
   "source": [
    "book1.check_out()"
   ]
  },
  {
   "cell_type": "code",
   "execution_count": 32,
   "id": "072cc575",
   "metadata": {},
   "outputs": [
    {
     "name": "stdout",
     "output_type": "stream",
     "text": [
      "Available copies are now 11\n"
     ]
    }
   ],
   "source": [
    "book1.return_book()"
   ]
  },
  {
   "cell_type": "code",
   "execution_count": 37,
   "id": "bd260b03",
   "metadata": {},
   "outputs": [],
   "source": [
    "# If we want to checkout and return the books with the whatever count we want, then the updated code ---\n",
    "\n",
    "class Book:\n",
    "    \n",
    "    def __init__(self, title, author, isbn, publication_year, available_copies):\n",
    "        self.title = title\n",
    "        self.author = author\n",
    "        self.isbn = isbn\n",
    "        self.publication_year = publication_year\n",
    "        self.available_copies = available_copies\n",
    "        \n",
    "    def check_out(self, copies_bought):\n",
    "        self.copies_bought = copies_bought\n",
    "        if self.available_copies >= 1:\n",
    "            self.available_copies = self.available_copies - copies_bought\n",
    "            print(f\"Available copies are now {self.available_copies}\")\n",
    "        \n",
    "    def return_book(self, copies_returning):\n",
    "        self.copies_returning = copies_returning\n",
    "        self.available_copies = self.available_copies + copies_returning\n",
    "        print(f\"Available copies are now {self.available_copies}\")\n",
    "        \n",
    "    def display_book_info(self):\n",
    "        print(f\"Book {self.title} is written by {self.author} - availability {self.available_copies}\\nISBN {self.isbn}\\nPublication year {self.publication_year}\")"
   ]
  },
  {
   "cell_type": "code",
   "execution_count": 38,
   "id": "6accbc75",
   "metadata": {},
   "outputs": [],
   "source": [
    "book1 = Book('The Honest Human', 'Himanshu Kumar', 'H9383BSHD233', '2023', 11)"
   ]
  },
  {
   "cell_type": "code",
   "execution_count": 39,
   "id": "5377a2ea",
   "metadata": {},
   "outputs": [
    {
     "name": "stdout",
     "output_type": "stream",
     "text": [
      "Available copies are now 9\n"
     ]
    }
   ],
   "source": [
    "book1.check_out(2)"
   ]
  },
  {
   "cell_type": "code",
   "execution_count": 40,
   "id": "ec990356",
   "metadata": {},
   "outputs": [
    {
     "name": "stdout",
     "output_type": "stream",
     "text": [
      "Available copies are now 10\n"
     ]
    }
   ],
   "source": [
    "book1.return_book(1)"
   ]
  },
  {
   "cell_type": "markdown",
   "id": "8a9fc28b",
   "metadata": {},
   "source": [
    "# 8. For a ticket booking system, you have to design the \"Ticket\" class with OOP principles in mind. The “Ticket” class should have the following attributes:\n",
    "\n",
    "a. ticket_id: Represents the unique identifier for the ticket.\n",
    "\n",
    "b. event_name: Represents the name of the event.\n",
    "\n",
    "c. event_date: Represents the date of the event.\n",
    "\n",
    "d. venue: Represents the venue of the event.\n",
    "\n",
    "e. seat_number: Represents the seat number associated with the ticket.\n",
    "\n",
    "f. price: Represents the price of the ticket.\n",
    "\n",
    "g. is_reserved: Represents the reservation status of the ticket.\n",
    "\n",
    "\n",
    "The class also includes the following methods:\n",
    "\n",
    "a. reserve_ticket(self): Marks the ticket as reserved if it is not already reserved.\n",
    "\n",
    "b. cancel_reservation(self): Cancels the reservation of the ticket if it is already\n",
    "reserved.\n",
    "\n",
    "c. display_ticket_info(self): Displays the information about the ticket, including its\n",
    "attributes and reservation status."
   ]
  },
  {
   "cell_type": "code",
   "execution_count": 71,
   "id": "1e965c5c",
   "metadata": {},
   "outputs": [],
   "source": [
    "class Ticket:\n",
    "    \n",
    "    def __init__(self, ticket_id, event_name, event_date, venue, seat_number, price):\n",
    "        \n",
    "        self.ticket_id = ticket_id\n",
    "        self.event_name = event_name\n",
    "        self.event_date = event_date\n",
    "        self.event_venue = venue\n",
    "        self.seat_number = seat_number\n",
    "        self.ticket_price = price\n",
    "        self.is_reserved = False\n",
    "        \n",
    "    def reserve_ticket(self):\n",
    "        \n",
    "        if not self.is_reserved:\n",
    "            self.is_reserved = True\n",
    "        print(f\"Ticket Reserved! Your ticket number is {self.ticket_id + 1}\")\n",
    "            \n",
    "    def cancel_reservation(self):\n",
    "        \n",
    "        if self.is_reserved:\n",
    "            self.is_reserved = False\n",
    "        print(f\"Ticket Cancelled!\")\n",
    "        \n",
    "    def display_ticket_info(self):\n",
    "        print(f\"{self.ticket_id}\\n{self.event_name}\\n{self.event_date}\\n{self.event_venue}\\n{self.seat_number}\\n{self.ticket_price}\")"
   ]
  },
  {
   "cell_type": "code",
   "execution_count": 72,
   "id": "0a46da3a",
   "metadata": {},
   "outputs": [],
   "source": [
    "ticket1 = Ticket(123, 'Job Fair 2023', \"2023-07-09\", \"Noida\", \"12\", \"2000\")"
   ]
  },
  {
   "cell_type": "code",
   "execution_count": 73,
   "id": "795b6ca2",
   "metadata": {},
   "outputs": [
    {
     "name": "stdout",
     "output_type": "stream",
     "text": [
      "123\n",
      "Job Fair 2023\n",
      "2023-07-09\n",
      "Noida\n",
      "12\n",
      "2000\n"
     ]
    }
   ],
   "source": [
    "ticket1.display_ticket_info()"
   ]
  },
  {
   "cell_type": "code",
   "execution_count": 74,
   "id": "a49dd36c",
   "metadata": {},
   "outputs": [
    {
     "name": "stdout",
     "output_type": "stream",
     "text": [
      "Ticket Reserved! Your ticket number is 124\n"
     ]
    }
   ],
   "source": [
    "ticket1.reserve_ticket()"
   ]
  },
  {
   "cell_type": "code",
   "execution_count": 75,
   "id": "d19272a5",
   "metadata": {},
   "outputs": [
    {
     "name": "stdout",
     "output_type": "stream",
     "text": [
      "Ticket Cancelled!\n"
     ]
    }
   ],
   "source": [
    "ticket1.cancel_reservation()"
   ]
  },
  {
   "cell_type": "markdown",
   "id": "a34dafee",
   "metadata": {},
   "source": [
    "# 9. You are creating a shopping cart for an e-commerce website. Using OOP to model the \"ShoppingCart\" functionality the class should contain following attributes and methods:\n",
    "\n",
    "\n",
    "a. items: Represents the list of items in the shopping cart.\n",
    "\n",
    "\n",
    "The class also includes the following methods:\n",
    "\n",
    "a. add_item(self, item): Adds an item to the shopping cart by appending it to the list of items.\n",
    "\n",
    "b. remove_item(self, item): Removes an item from the shopping cart if it exists in the list.\n",
    "\n",
    "c. view_cart(self): Displays the items currently present in the shopping cart.\n",
    "\n",
    "d. clear_cart(self): Clears all items from the shopping cart by reassigning an empty list to the items attribute."
   ]
  },
  {
   "cell_type": "code",
   "execution_count": 110,
   "id": "798bb5c5",
   "metadata": {},
   "outputs": [],
   "source": [
    "class ShoppingCart:\n",
    "    \n",
    "    def __init__(self):\n",
    "        self.items = []\n",
    "        \n",
    "    def add_item(self, item):\n",
    "        self.item = item\n",
    "        self.items.append(item)\n",
    "        print(f\"Shopping Cart has these items: {self.items}\")\n",
    "        \n",
    "    def remove_item(self, item):\n",
    "        self.item = item\n",
    "        if item in self.items:\n",
    "            self.items.remove(item)\n",
    "            print(f\"{item} has been removed from the cart!\")\n",
    "            print(f\"Shopping Cart has these items: {self.items}\")\n",
    "            \n",
    "        else:\n",
    "            print(f\"{item} not found in the shipping cart!\")\n",
    "            \n",
    "    def view_cart(self):\n",
    "        print(f\"Shopping Cart has these items: {self.items}\")\n",
    "        \n",
    "    def clear_cart(self):\n",
    "        self.items = []\n",
    "        print(f\"Your shopping cart is empty!\")"
   ]
  },
  {
   "cell_type": "code",
   "execution_count": 111,
   "id": "c04d3f4a",
   "metadata": {},
   "outputs": [],
   "source": [
    "cart1 = ShoppingCart()"
   ]
  },
  {
   "cell_type": "code",
   "execution_count": 112,
   "id": "b0a552b1",
   "metadata": {},
   "outputs": [
    {
     "name": "stdout",
     "output_type": "stream",
     "text": [
      "Shopping Cart has these items: ['Reebok white sneaker']\n"
     ]
    }
   ],
   "source": [
    "cart1.add_item('Reebok white sneaker')"
   ]
  },
  {
   "cell_type": "code",
   "execution_count": 113,
   "id": "71f63417",
   "metadata": {},
   "outputs": [
    {
     "name": "stdout",
     "output_type": "stream",
     "text": [
      "Shopping Cart has these items: ['Reebok white sneaker', 'Adidas blue socks']\n"
     ]
    }
   ],
   "source": [
    "cart1.add_item('Adidas blue socks')"
   ]
  },
  {
   "cell_type": "code",
   "execution_count": 114,
   "id": "0906fc22",
   "metadata": {},
   "outputs": [
    {
     "name": "stdout",
     "output_type": "stream",
     "text": [
      "Adidas blue socks has been removed from the cart!\n",
      "Shopping Cart has these items: ['Reebok white sneaker']\n"
     ]
    }
   ],
   "source": [
    "cart1.remove_item('Adidas blue socks')"
   ]
  },
  {
   "cell_type": "code",
   "execution_count": 115,
   "id": "ae5d97d6",
   "metadata": {},
   "outputs": [
    {
     "name": "stdout",
     "output_type": "stream",
     "text": [
      "Shopping Cart has these items: ['Reebok white sneaker']\n"
     ]
    }
   ],
   "source": [
    "cart1.view_cart()"
   ]
  },
  {
   "cell_type": "code",
   "execution_count": 116,
   "id": "50e351b3",
   "metadata": {},
   "outputs": [
    {
     "name": "stdout",
     "output_type": "stream",
     "text": [
      "Your shopping cart is empty!\n"
     ]
    }
   ],
   "source": [
    "cart1.clear_cart()"
   ]
  },
  {
   "cell_type": "markdown",
   "id": "f864324f",
   "metadata": {},
   "source": [
    "# 10. Imagine a school management system. You have to design the \"Student\" class using OOP concepts.The “Student” class has the following attributes:\n",
    "\n",
    "a. name: Represents the name of the student.\n",
    "\n",
    "b. age: Represents the age of the student.\n",
    "\n",
    "c. grade: Represents the grade or class of the student.\n",
    "\n",
    "d. student_id: Represents the unique identifier for the student.\n",
    "\n",
    "e. attendance: Represents the attendance record of the student.\n",
    "\n",
    "\n",
    "\n",
    "The class should also include the following methods:\n",
    "\n",
    "a. update_attendance(self, date, status): Updates the attendance record of the student for a given date with the provided status (e.g., present or absent).\n",
    "\n",
    "b. get_attendance(self): Returns the attendance record of the student.\n",
    "\n",
    "c. get_average_attendance(self): Calculates and returns the average attendance percentage of the student based on their attendance record."
   ]
  },
  {
   "cell_type": "code",
   "execution_count": 188,
   "id": "5bf74113",
   "metadata": {},
   "outputs": [],
   "source": [
    "class Student:\n",
    "    \n",
    "    def __init__(self, student_id, name, age, grade):\n",
    "        self.student_id = student_id\n",
    "        self.student_name = name\n",
    "        self.student_age = age\n",
    "        self.student_grade = grade\n",
    "        self.attendance = {}\n",
    "        \n",
    "    def update_attendance(self, date, status):\n",
    "        self.attendance[date] = status\n",
    "        print(f\"{status} marked!\")\n",
    "        \n",
    "    def get_attendance(self):\n",
    "        return self.attendance\n",
    "        \n",
    "    def get_average_attendance(self):\n",
    "        total_days = len(self.attendance)\n",
    "        present_days = sum(status == 'present' for status in self.attendance.values())\n",
    "        average_attendance = (present_days/total_days) * 100\n",
    "        return average_attendance"
   ]
  },
  {
   "cell_type": "code",
   "execution_count": null,
   "id": "6944e127",
   "metadata": {},
   "outputs": [],
   "source": []
  },
  {
   "cell_type": "code",
   "execution_count": 189,
   "id": "bc99a567",
   "metadata": {},
   "outputs": [],
   "source": [
    "student1 = Student(1, 'Himanshu', 25, 'A+')"
   ]
  },
  {
   "cell_type": "code",
   "execution_count": 190,
   "id": "0f3bcb6e",
   "metadata": {},
   "outputs": [
    {
     "name": "stdout",
     "output_type": "stream",
     "text": [
      "present marked!\n"
     ]
    }
   ],
   "source": [
    "student1.update_attendance('2023-07-09', 'present')"
   ]
  },
  {
   "cell_type": "code",
   "execution_count": 191,
   "id": "3e8ead45",
   "metadata": {},
   "outputs": [
    {
     "data": {
      "text/plain": [
       "{'2023-07-09': 'present'}"
      ]
     },
     "execution_count": 191,
     "metadata": {},
     "output_type": "execute_result"
    }
   ],
   "source": [
    "student1.get_attendance()"
   ]
  },
  {
   "cell_type": "code",
   "execution_count": 192,
   "id": "15603ef6",
   "metadata": {},
   "outputs": [
    {
     "name": "stdout",
     "output_type": "stream",
     "text": [
      "present marked!\n"
     ]
    }
   ],
   "source": [
    "student1.update_attendance('2023-07-10', 'present')"
   ]
  },
  {
   "cell_type": "code",
   "execution_count": 193,
   "id": "6edb6cd2",
   "metadata": {},
   "outputs": [
    {
     "name": "stdout",
     "output_type": "stream",
     "text": [
      "present marked!\n"
     ]
    }
   ],
   "source": [
    "student1.update_attendance('2023-07-11', 'present')"
   ]
  },
  {
   "cell_type": "code",
   "execution_count": 194,
   "id": "6b5568e0",
   "metadata": {},
   "outputs": [
    {
     "name": "stdout",
     "output_type": "stream",
     "text": [
      "present marked!\n"
     ]
    }
   ],
   "source": [
    "student1.update_attendance('2023-07-12', 'present')"
   ]
  },
  {
   "cell_type": "code",
   "execution_count": 195,
   "id": "3aa93add",
   "metadata": {},
   "outputs": [
    {
     "name": "stdout",
     "output_type": "stream",
     "text": [
      "absent marked!\n"
     ]
    }
   ],
   "source": [
    "student1.update_attendance('2023-07-13', 'absent')"
   ]
  },
  {
   "cell_type": "code",
   "execution_count": 196,
   "id": "af1b7ac0",
   "metadata": {},
   "outputs": [
    {
     "name": "stdout",
     "output_type": "stream",
     "text": [
      "present marked!\n"
     ]
    }
   ],
   "source": [
    "student1.update_attendance('2023-07-14', 'present')"
   ]
  },
  {
   "cell_type": "code",
   "execution_count": 197,
   "id": "e632bb2b",
   "metadata": {},
   "outputs": [
    {
     "data": {
      "text/plain": [
       "83.33333333333334"
      ]
     },
     "execution_count": 197,
     "metadata": {},
     "output_type": "execute_result"
    }
   ],
   "source": [
    "student1.get_average_attendance()"
   ]
  }
 ],
 "metadata": {
  "kernelspec": {
   "display_name": "Python 3 (ipykernel)",
   "language": "python",
   "name": "python3"
  },
  "language_info": {
   "codemirror_mode": {
    "name": "ipython",
    "version": 3
   },
   "file_extension": ".py",
   "mimetype": "text/x-python",
   "name": "python",
   "nbconvert_exporter": "python",
   "pygments_lexer": "ipython3",
   "version": "3.9.13"
  }
 },
 "nbformat": 4,
 "nbformat_minor": 5
}
