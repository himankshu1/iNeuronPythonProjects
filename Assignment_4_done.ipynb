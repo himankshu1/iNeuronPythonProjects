{
 "cells": [
  {
   "cell_type": "markdown",
   "id": "b164dce2",
   "metadata": {},
   "source": [
    "# 1. What exactly is []?\n",
    "\n",
    "[] represents an empty list. A list is a data structure that can store multiple values. When the brackets are empty, it shows that the list does not contain any elements."
   ]
  },
  {
   "cell_type": "code",
   "execution_count": 1,
   "id": "27de06a7",
   "metadata": {},
   "outputs": [
    {
     "data": {
      "text/plain": [
       "list"
      ]
     },
     "execution_count": 1,
     "metadata": {},
     "output_type": "execute_result"
    }
   ],
   "source": [
    "l = []\n",
    "type(l)"
   ]
  },
  {
   "cell_type": "markdown",
   "id": "6df04a99",
   "metadata": {},
   "source": [
    "2. In a list of values stored in a variable called spam, how would you assign the value 'hello' as the\n",
    "third value? (Assume [2, 4, 6, 8, 10] are in spam.)"
   ]
  },
  {
   "cell_type": "code",
   "execution_count": 2,
   "id": "40b6219d",
   "metadata": {},
   "outputs": [],
   "source": [
    "spam = [2, 4, 6, 8, 10]"
   ]
  },
  {
   "cell_type": "code",
   "execution_count": 3,
   "id": "a63e7208",
   "metadata": {},
   "outputs": [],
   "source": [
    "#There can be two methods of doing this operation --\n",
    "\n",
    "spam.insert(2, 'hello')"
   ]
  },
  {
   "cell_type": "code",
   "execution_count": 4,
   "id": "5cc37e19",
   "metadata": {},
   "outputs": [
    {
     "data": {
      "text/plain": [
       "[2, 4, 'hello', 6, 8, 10]"
      ]
     },
     "execution_count": 4,
     "metadata": {},
     "output_type": "execute_result"
    }
   ],
   "source": [
    "spam"
   ]
  },
  {
   "cell_type": "code",
   "execution_count": 6,
   "id": "d8ca6ee6",
   "metadata": {},
   "outputs": [],
   "source": [
    "#to avoid the duplicity of the 'hello' as a list can contain duplicate values\n",
    "spam.remove('hello')"
   ]
  },
  {
   "cell_type": "code",
   "execution_count": 7,
   "id": "c982291f",
   "metadata": {},
   "outputs": [
    {
     "data": {
      "text/plain": [
       "[2, 4, 'hello', 8, 10]"
      ]
     },
     "execution_count": 7,
     "metadata": {},
     "output_type": "execute_result"
    }
   ],
   "source": [
    "spam[2] = 'hello'\n",
    "spam"
   ]
  },
  {
   "cell_type": "markdown",
   "id": "32f65649",
   "metadata": {},
   "source": [
    "# Let's pretend the spam includes the list ['a','b','c','d'] for the next three queries.\n",
    "\n",
    "3. What is the value of spam[int(int('3' * 2) / 11)]?\n",
    "\n",
    "4. What is the value of spam[-1]?\n",
    "\n",
    "5. What is the value of spam[:2]?"
   ]
  },
  {
   "cell_type": "code",
   "execution_count": 8,
   "id": "54bfbcc8",
   "metadata": {},
   "outputs": [],
   "source": [
    "spam = ['a','b','c','d']"
   ]
  },
  {
   "cell_type": "code",
   "execution_count": 14,
   "id": "b1f8ec2f",
   "metadata": {},
   "outputs": [
    {
     "data": {
      "text/plain": [
       "33"
      ]
     },
     "execution_count": 14,
     "metadata": {},
     "output_type": "execute_result"
    }
   ],
   "source": [
    "# What is the value of spam[int(int('3' * 2) / 11)]?\n",
    "\n",
    "a = int('3' * 2)\n",
    "a"
   ]
  },
  {
   "cell_type": "code",
   "execution_count": 15,
   "id": "43577a9e",
   "metadata": {},
   "outputs": [
    {
     "data": {
      "text/plain": [
       "3.0"
      ]
     },
     "execution_count": 15,
     "metadata": {},
     "output_type": "execute_result"
    }
   ],
   "source": [
    "b = int('3' * 2) / 11\n",
    "b"
   ]
  },
  {
   "cell_type": "code",
   "execution_count": 18,
   "id": "ca926521",
   "metadata": {},
   "outputs": [
    {
     "data": {
      "text/plain": [
       "3"
      ]
     },
     "execution_count": 18,
     "metadata": {},
     "output_type": "execute_result"
    }
   ],
   "source": [
    "c = int(int('3' * 2) / 11)\n",
    "c"
   ]
  },
  {
   "cell_type": "code",
   "execution_count": 19,
   "id": "90686a1c",
   "metadata": {},
   "outputs": [
    {
     "data": {
      "text/plain": [
       "'d'"
      ]
     },
     "execution_count": 19,
     "metadata": {},
     "output_type": "execute_result"
    }
   ],
   "source": [
    "# spam[int(int('3' * 2) / 11)] or spam[c] or spam[3] produces the same output\n",
    "spam[c]"
   ]
  },
  {
   "cell_type": "code",
   "execution_count": 20,
   "id": "bff85585",
   "metadata": {},
   "outputs": [
    {
     "data": {
      "text/plain": [
       "'d'"
      ]
     },
     "execution_count": 20,
     "metadata": {},
     "output_type": "execute_result"
    }
   ],
   "source": [
    "spam[int(int('3' * 2) / 11)]"
   ]
  },
  {
   "cell_type": "code",
   "execution_count": 21,
   "id": "37982983",
   "metadata": {},
   "outputs": [
    {
     "data": {
      "text/plain": [
       "'d'"
      ]
     },
     "execution_count": 21,
     "metadata": {},
     "output_type": "execute_result"
    }
   ],
   "source": [
    "# What is the value of spam[-1]?\n",
    "\n",
    "spam[-1]"
   ]
  },
  {
   "cell_type": "code",
   "execution_count": 22,
   "id": "eac38dae",
   "metadata": {},
   "outputs": [
    {
     "data": {
      "text/plain": [
       "['a', 'b']"
      ]
     },
     "execution_count": 22,
     "metadata": {},
     "output_type": "execute_result"
    }
   ],
   "source": [
    "# What is the value of spam[:2]?\n",
    "spam[:2]"
   ]
  },
  {
   "cell_type": "markdown",
   "id": "5c1b70ff",
   "metadata": {},
   "source": [
    "Let's pretend bacon has the list [3.14, 'cat'; 11, 'cat', True] for the next three questions.\n",
    "\n",
    "6. What is the value of bacon.index('cat')?\n",
    "\n",
    "7. How does bacon.append(99) change the look of the list value in bacon?\n",
    "\n",
    "8. How does bacon.remove('cat') change the look of the list in bacon?"
   ]
  },
  {
   "cell_type": "code",
   "execution_count": 24,
   "id": "1c1b128b",
   "metadata": {},
   "outputs": [],
   "source": [
    "bacon = [3.14, 'cat', 11, 'cat', True]"
   ]
  },
  {
   "cell_type": "code",
   "execution_count": 25,
   "id": "79143080",
   "metadata": {},
   "outputs": [
    {
     "data": {
      "text/plain": [
       "1"
      ]
     },
     "execution_count": 25,
     "metadata": {},
     "output_type": "execute_result"
    }
   ],
   "source": [
    "# What is the value of bacon.index('cat')?\n",
    "\n",
    "bacon.index('cat')"
   ]
  },
  {
   "cell_type": "code",
   "execution_count": 26,
   "id": "b855f578",
   "metadata": {},
   "outputs": [],
   "source": [
    "# How does bacon.append(99) change the look of the list value in bacon?\n",
    "\n",
    "bacon.append(99)"
   ]
  },
  {
   "cell_type": "code",
   "execution_count": 27,
   "id": "00e3185b",
   "metadata": {},
   "outputs": [
    {
     "data": {
      "text/plain": [
       "[3.14, 'cat', 11, 'cat', True, 99]"
      ]
     },
     "execution_count": 27,
     "metadata": {},
     "output_type": "execute_result"
    }
   ],
   "source": [
    "bacon"
   ]
  },
  {
   "cell_type": "code",
   "execution_count": 28,
   "id": "355cac5a",
   "metadata": {},
   "outputs": [],
   "source": [
    "# How does bacon.remove('cat') change the look of the list in bacon?\n",
    "#will remove the very first index from the list of the value 'cat'\n",
    "\n",
    "bacon.remove('cat')"
   ]
  },
  {
   "cell_type": "code",
   "execution_count": 29,
   "id": "493e9e61",
   "metadata": {},
   "outputs": [
    {
     "data": {
      "text/plain": [
       "[3.14, 11, 'cat', True, 99]"
      ]
     },
     "execution_count": 29,
     "metadata": {},
     "output_type": "execute_result"
    }
   ],
   "source": [
    "bacon"
   ]
  },
  {
   "cell_type": "markdown",
   "id": "0a17d2c4",
   "metadata": {},
   "source": [
    "# 9. What are the list concatenation and list replication operators?\n",
    "\n",
    "The list concatenation operator is the plus symbol (+), and it is used to combine two or more lists into a single list. When we add two or more lists, it results in a new list that contains all the elements from the added lists.\n",
    "\n",
    "The list replication operator is the asterisk symbol (*), and it can create a new list by repeating the existing list multiple times as we define by list * n"
   ]
  },
  {
   "cell_type": "code",
   "execution_count": 31,
   "id": "4e541986",
   "metadata": {},
   "outputs": [
    {
     "name": "stdout",
     "output_type": "stream",
     "text": [
      "[10, 'a', 3, 8, 'b', 'v']\n"
     ]
    }
   ],
   "source": [
    "list1 = [10, 'a', 3]\n",
    "list2 = [8, 'b', 'v']\n",
    "concatenated_list = list1 + list2\n",
    "print(concatenated_list)"
   ]
  },
  {
   "cell_type": "code",
   "execution_count": 33,
   "id": "512cb2dc",
   "metadata": {},
   "outputs": [
    {
     "name": "stdout",
     "output_type": "stream",
     "text": [
      "[1, 2, 3, 1, 2, 3, 1, 2, 3]\n"
     ]
    }
   ],
   "source": [
    "list3 = [1, 2, 3]\n",
    "replicated_list = list3 * 3\n",
    "print(replicated_list)"
   ]
  },
  {
   "cell_type": "markdown",
   "id": "5e7f5afa",
   "metadata": {},
   "source": [
    "# 10. What is difference between the list methods append() and insert()?\n",
    "\n",
    "The append() and insert() methods are both used to add elements to a list in Python.\n",
    "\n",
    "The append() method is used to add an element to the end of a list. It takes a single argument, which is the element you want to add. The append() method modifies the original list by adding the element as the last item.\n",
    "\n",
    "\n",
    "The insert() method is used to insert an element at a specific position in the list. It takes two arguments. The index where we want to insert the element, and the element we want to insert. The insert() method modifies the original list."
   ]
  },
  {
   "cell_type": "code",
   "execution_count": 35,
   "id": "067f1454",
   "metadata": {},
   "outputs": [
    {
     "data": {
      "text/plain": [
       "[1, 2, 3]"
      ]
     },
     "execution_count": 35,
     "metadata": {},
     "output_type": "execute_result"
    }
   ],
   "source": [
    "l = [1,2]\n",
    "l.append(3)\n",
    "l"
   ]
  },
  {
   "cell_type": "code",
   "execution_count": 37,
   "id": "42aad1ae",
   "metadata": {},
   "outputs": [
    {
     "data": {
      "text/plain": [
       "[1, 2, 'a', 4, 3]"
      ]
     },
     "execution_count": 37,
     "metadata": {},
     "output_type": "execute_result"
    }
   ],
   "source": [
    "l.insert(2, 'a')\n",
    "l"
   ]
  },
  {
   "cell_type": "markdown",
   "id": "e16a92a0",
   "metadata": {},
   "source": [
    "# 11. What are the two methods for removing items from a list?\n",
    "\n",
    "There are two methods for removing items from a list: remove() and pop().\n",
    "\n",
    "The remove() method is used to remove the first occurrence of a specific value from a list. It takes a single argument, which is the value we want to remove. If the value appears multiple times, only the first occurrence is removed.\n",
    "\n",
    "However, the pop() method is used to remove an element from a specific index in a list. It takes an optional argument, which is the index of the element we want to remove. If no index is specified, the pop() method removes the last element from the list."
   ]
  },
  {
   "cell_type": "code",
   "execution_count": 38,
   "id": "b056b37f",
   "metadata": {},
   "outputs": [
    {
     "data": {
      "text/plain": [
       "[1, 2, 4, 3]"
      ]
     },
     "execution_count": 38,
     "metadata": {},
     "output_type": "execute_result"
    }
   ],
   "source": [
    "l.remove('a')\n",
    "l"
   ]
  },
  {
   "cell_type": "code",
   "execution_count": 39,
   "id": "21a879ff",
   "metadata": {},
   "outputs": [
    {
     "data": {
      "text/plain": [
       "[1, 2, 2, 4, 3]"
      ]
     },
     "execution_count": 39,
     "metadata": {},
     "output_type": "execute_result"
    }
   ],
   "source": [
    "l.insert(2, 2)\n",
    "l"
   ]
  },
  {
   "cell_type": "code",
   "execution_count": 40,
   "id": "13142960",
   "metadata": {},
   "outputs": [
    {
     "data": {
      "text/plain": [
       "[1, 2, 4, 3]"
      ]
     },
     "execution_count": 40,
     "metadata": {},
     "output_type": "execute_result"
    }
   ],
   "source": [
    "l.remove(2)\n",
    "l"
   ]
  },
  {
   "cell_type": "code",
   "execution_count": 41,
   "id": "cfe9de57",
   "metadata": {},
   "outputs": [
    {
     "data": {
      "text/plain": [
       "[1, 2, 4]"
      ]
     },
     "execution_count": 41,
     "metadata": {},
     "output_type": "execute_result"
    }
   ],
   "source": [
    "l.pop()\n",
    "l"
   ]
  },
  {
   "cell_type": "code",
   "execution_count": 42,
   "id": "1318cb68",
   "metadata": {},
   "outputs": [
    {
     "data": {
      "text/plain": [
       "1"
      ]
     },
     "execution_count": 42,
     "metadata": {},
     "output_type": "execute_result"
    }
   ],
   "source": [
    "l.pop(0)"
   ]
  },
  {
   "cell_type": "code",
   "execution_count": 43,
   "id": "2f7fa3b3",
   "metadata": {},
   "outputs": [
    {
     "data": {
      "text/plain": [
       "[2, 4]"
      ]
     },
     "execution_count": 43,
     "metadata": {},
     "output_type": "execute_result"
    }
   ],
   "source": [
    "l"
   ]
  },
  {
   "cell_type": "markdown",
   "id": "d92ba84a",
   "metadata": {},
   "source": [
    "# 12. Describe how list values and string values are identical.\n",
    "\n",
    "The lists and strings are ordered sequences. Both lists and strings have elements in the same order in which it was defined. The order in which elements are defined are defined within is preserved.\n",
    "\n",
    "Both lists and strings support indexing and slicing operations. We can access individual elements of a list or string using their indices, and we can also extract a subsequence using slicing operation.\n",
    "\n",
    "Both lists and strings have a length that represents the number of elements or characters they contain. We can find the length using the len() function."
   ]
  },
  {
   "cell_type": "code",
   "execution_count": 45,
   "id": "508c72ea",
   "metadata": {},
   "outputs": [
    {
     "name": "stdout",
     "output_type": "stream",
     "text": [
      "1\n",
      "w\n",
      "[2, 3]\n",
      "world\n",
      "5\n",
      "13\n"
     ]
    }
   ],
   "source": [
    "l = [1, 2, 3, 4, 5]\n",
    "s = \"Hello, world!\"\n",
    "\n",
    "print(l[0])\n",
    "print(s[7])\n",
    "print(l[1:3])\n",
    "print(s[7:12])\n",
    "print(len(l))\n",
    "print(len(s))\n"
   ]
  },
  {
   "cell_type": "markdown",
   "id": "bfe9b873",
   "metadata": {},
   "source": [
    "# 13. What's the difference between tuples and lists?\n",
    "\n",
    "Tuples are immutable, means their elements cannot be modified once they are defined but the lists are mutable, allowing modifications such as adding, removing, or changing elements after defining a list.\n",
    "\n",
    "Tuples are defined using parentheses () or can be created without any delimiters by separating elements with commas. For example: (1, 2, 3) or 1, 2, 3. Lists are defined using square brackets []. For example: [1, 2, 3].\n",
    "\n",
    "Tuples are mostly used to store values that shouldn't be changed, such as coordinates, dates, or passwords. They are also used as keys in dictionaries. Lists are commonly used when the order and content need to be modified.\n",
    "\n",
    "Tuples generally have better performance than lists, primarily because tuples are immutable. Lists require more memory allocation and deallocation operations when modifying their size or elements.\n",
    "\n",
    "Lists have methods like append(), insert(), and remove(), which can modify the list. Tuples, being immutable, have a limited set of methods such as count() and index() that provide information about the tuple's content."
   ]
  },
  {
   "cell_type": "code",
   "execution_count": 46,
   "id": "109ac54f",
   "metadata": {},
   "outputs": [
    {
     "data": {
      "text/plain": [
       "(1, 2, 3)"
      ]
     },
     "execution_count": 46,
     "metadata": {},
     "output_type": "execute_result"
    }
   ],
   "source": [
    "1,2,3"
   ]
  },
  {
   "cell_type": "markdown",
   "id": "b71a6eb8",
   "metadata": {},
   "source": [
    "# 14. How do you type a tuple value that only contains the integer 42?\n",
    "\n",
    "Two methods are described below "
   ]
  },
  {
   "cell_type": "code",
   "execution_count": 51,
   "id": "2ad2cda8",
   "metadata": {},
   "outputs": [],
   "source": [
    "tuple = (42,)"
   ]
  },
  {
   "cell_type": "code",
   "execution_count": 53,
   "id": "82a268aa",
   "metadata": {},
   "outputs": [
    {
     "data": {
      "text/plain": [
       "(42,)"
      ]
     },
     "execution_count": 53,
     "metadata": {},
     "output_type": "execute_result"
    }
   ],
   "source": [
    "tuple"
   ]
  },
  {
   "cell_type": "code",
   "execution_count": 54,
   "id": "098c0f6b",
   "metadata": {},
   "outputs": [
    {
     "data": {
      "text/plain": [
       "(42,)"
      ]
     },
     "execution_count": 54,
     "metadata": {},
     "output_type": "execute_result"
    }
   ],
   "source": [
    "42,"
   ]
  },
  {
   "cell_type": "markdown",
   "id": "872c7def",
   "metadata": {},
   "source": [
    "# 15. How do you get a list value's tuple form? How do you get a tuple value's list form?"
   ]
  },
  {
   "cell_type": "code",
   "execution_count": 1,
   "id": "a12890aa",
   "metadata": {},
   "outputs": [],
   "source": [
    "l1 = [1, 42, 52, 53, 53, 'hey']"
   ]
  },
  {
   "cell_type": "code",
   "execution_count": 2,
   "id": "848cc40a",
   "metadata": {},
   "outputs": [],
   "source": [
    "t1 = tuple(l1)"
   ]
  },
  {
   "cell_type": "code",
   "execution_count": 3,
   "id": "d66ceb77",
   "metadata": {},
   "outputs": [
    {
     "data": {
      "text/plain": [
       "(1, 42, 52, 53, 53, 'hey')"
      ]
     },
     "execution_count": 3,
     "metadata": {},
     "output_type": "execute_result"
    }
   ],
   "source": [
    "t1"
   ]
  },
  {
   "cell_type": "code",
   "execution_count": 4,
   "id": "519fbb38",
   "metadata": {},
   "outputs": [
    {
     "name": "stdout",
     "output_type": "stream",
     "text": [
      "[1, 2, 3, 4, 5]\n"
     ]
    }
   ],
   "source": [
    "t2 = (1, 2, 3, 4, 5)\n",
    "l2 = list(t2)\n",
    "print(l2)"
   ]
  },
  {
   "cell_type": "markdown",
   "id": "6578a644",
   "metadata": {},
   "source": [
    "# 16. Variables that \"contain\" list values are not necessarily lists themselves. Instead, what do they contain?\n",
    "\n",
    "Variables that \"contain\" list values in Python actually contain references to the list objects, rather than the lists themselves.\n",
    "\n",
    "Variables are essentially names bound to objects in memory. When a list is assigned to a variable, the variable holds a reference to the memory location where the list object is stored. This reference allows the variable to access and manipulate the list's elements."
   ]
  },
  {
   "cell_type": "code",
   "execution_count": 6,
   "id": "98c17759",
   "metadata": {},
   "outputs": [
    {
     "data": {
      "text/plain": [
       "3028608580160"
      ]
     },
     "execution_count": 6,
     "metadata": {},
     "output_type": "execute_result"
    }
   ],
   "source": [
    "# id prints the address reference of the list\n",
    "l = [1,2,4,5,3,2]\n",
    "id(l)"
   ]
  },
  {
   "cell_type": "markdown",
   "id": "db9707ea",
   "metadata": {},
   "source": [
    "# 17. How do you distinguish between copy.copy() and copy.deepcopy()?\n",
    "\n",
    "The copy.copy() and copy.deepcopy() functions, both available in the copy module of python, are used to create copies of objects.\n",
    "\n",
    "copy.copy() function creates a shallow copy of an object. A shallow copy creates a new object but references the same elements as the original object. If the copied object contains mutable elements (such as lists or nested objects), changes to those mutable elements will be reflected in both the original and copied objects.\n",
    "\n",
    "copy.deepcopy() function creates a deep copy of an object. A deep copy creates a new object and recursively copies all the objects it references. This means that all nested objects and their elements are also copied, resulting in a completely independent object. Changes made to the copied object or any of its nested objects will not affect the original object or any other copies."
   ]
  },
  {
   "cell_type": "code",
   "execution_count": 4,
   "id": "f303810e",
   "metadata": {},
   "outputs": [
    {
     "name": "stdout",
     "output_type": "stream",
     "text": [
      "[1, [2, 3, [42, 5]], 6]\n",
      "[1, [2, 3, [42, 5]], 6]\n",
      "[1, [2, 3, [42, 5]], 6]\n"
     ]
    }
   ],
   "source": [
    "import copy\n",
    "\n",
    "original_list = [1, [2, 3, [4, 5]], 6]\n",
    "\n",
    "shallow_copy = copy.copy(original_list)\n",
    "deep_copy = copy.deepcopy(original_list)\n",
    "\n",
    "# Modify the nested list within the copied data structures\n",
    "shallow_copy[1][2][0] = 42\n",
    "deep_copy[1][2][0] = 42\n",
    "\n",
    "print(original_list)\n",
    "print(shallow_copy)\n",
    "print(deep_copy)"
   ]
  }
 ],
 "metadata": {
  "kernelspec": {
   "display_name": "Python 3 (ipykernel)",
   "language": "python",
   "name": "python3"
  },
  "language_info": {
   "codemirror_mode": {
    "name": "ipython",
    "version": 3
   },
   "file_extension": ".py",
   "mimetype": "text/x-python",
   "name": "python",
   "nbconvert_exporter": "python",
   "pygments_lexer": "ipython3",
   "version": "3.9.13"
  }
 },
 "nbformat": 4,
 "nbformat_minor": 5
}
