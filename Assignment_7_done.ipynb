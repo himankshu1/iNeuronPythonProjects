{
 "cells": [
  {
   "cell_type": "markdown",
   "id": "c4fdbb8c",
   "metadata": {},
   "source": [
    "# Q.1. Create two int type variables, apply addition, subtraction, division and multiplications and store the results in variables. Then print the data in the following format by calling the variables:\n",
    "\n",
    "First variable is __ & second variable is __.\n",
    "\n",
    "Addition: __ + __ = __\n",
    "\n",
    "Subtraction: __ - __ = __\n",
    "\n",
    "Multiplication: __ * __ = __\n",
    "\n",
    "Division: __ / __ = __"
   ]
  },
  {
   "cell_type": "code",
   "execution_count": 1,
   "id": "84dfb966",
   "metadata": {},
   "outputs": [
    {
     "name": "stdout",
     "output_type": "stream",
     "text": [
      "First variable is 10 & second variable is 5\n",
      "Addition: 10 + 5 = 15\n",
      "Subtraction: 10 - 5 = 5\n",
      "Multiplication: 10 * 5 = 50\n",
      "Division: 10 / 5 = 2.0\n"
     ]
    }
   ],
   "source": [
    "# Creating two integer variables\n",
    "num1 = 10\n",
    "num2 = 5\n",
    "\n",
    "# Perform arithmetic operations and store results in variables\n",
    "addition = num1 + num2\n",
    "subtraction = num1 - num2\n",
    "multiplication = num1 * num2\n",
    "division = num1 / num2\n",
    "\n",
    "# Print the data in the desired format\n",
    "print(\"First variable is\", num1, \"& second variable is\", num2)\n",
    "print(\"Addition:\", num1, \"+\", num2, \"=\", addition)\n",
    "print(\"Subtraction:\", num1, \"-\", num2, \"=\", subtraction)\n",
    "print(\"Multiplication:\", num1, \"*\", num2, \"=\", multiplication)\n",
    "print(\"Division:\", num1, \"/\", num2, \"=\", division)\n"
   ]
  },
  {
   "cell_type": "markdown",
   "id": "d12ff0f8",
   "metadata": {},
   "source": [
    "# Q.2. What is the difference between the following operators:\n",
    "    \n",
    "(i) ‘/’ & ‘//’\n",
    "\n",
    "(ii) ‘**’ & ‘^’\n",
    "\n",
    "\n",
    "The '/' operator performs the regular division and returns the quotient as a floating point number.\n",
    "\n",
    "The '//' operator performs floor division and returns the quotient as an integer(rounded figure to the nearest whole number)."
   ]
  },
  {
   "cell_type": "code",
   "execution_count": 2,
   "id": "6cbf4a90",
   "metadata": {},
   "outputs": [
    {
     "name": "stdout",
     "output_type": "stream",
     "text": [
      "20.0\n",
      "20\n"
     ]
    }
   ],
   "source": [
    "a = 100\n",
    "b = 5\n",
    "\n",
    "regular_division = a / b\n",
    "floor_division = a // b\n",
    "\n",
    "print(regular_division)\n",
    "print(floor_division)\n"
   ]
  },
  {
   "cell_type": "markdown",
   "id": "cacacbcc",
   "metadata": {},
   "source": [
    "# Q.3. List the logical operators\n",
    "\n",
    "\n",
    "and operator\n",
    "\n",
    "or operator\n",
    "\n",
    "not operator\n",
    "\n",
    "'and' operator: 'and' operator returns True if both operands are True, and False otherwise. It evaluates the second operand only if the first operand is True. If the first operand is False, it does not evaluate the second operand and returns False.\n",
    "\n",
    "'or' operator: 'or' operator returns True if at least one of the operands is True, and False if both operands are False. It evaluates the second operand only if the first operand is False. If the first operand is True, it does not evaluate the second operand and returns True.\n",
    "\n",
    "'not' operator: The 'not' operator is a unary operator that negates the truth value of the operand. It returns True if the operand is False, and False if the operand is True."
   ]
  },
  {
   "cell_type": "code",
   "execution_count": 5,
   "id": "d5b27407",
   "metadata": {},
   "outputs": [
    {
     "name": "stdout",
     "output_type": "stream",
     "text": [
      "True\n",
      "False\n",
      "False\n",
      "False\n"
     ]
    }
   ],
   "source": [
    "# Examples of the 'and' operator\n",
    "print(True and True)\n",
    "print(True and False)\n",
    "print(False and True)\n",
    "print(False and False)"
   ]
  },
  {
   "cell_type": "code",
   "execution_count": 4,
   "id": "125b8772",
   "metadata": {},
   "outputs": [
    {
     "name": "stdout",
     "output_type": "stream",
     "text": [
      "True\n",
      "True\n",
      "True\n",
      "False\n"
     ]
    }
   ],
   "source": [
    "# Examples of the 'or' operator\n",
    "print(True or True)\n",
    "print(True or False)\n",
    "print(False or True)\n",
    "print(False or False)"
   ]
  },
  {
   "cell_type": "code",
   "execution_count": 6,
   "id": "6d3cfdcd",
   "metadata": {},
   "outputs": [
    {
     "name": "stdout",
     "output_type": "stream",
     "text": [
      "False\n",
      "True\n"
     ]
    }
   ],
   "source": [
    "# Examples of the 'not' operator\n",
    "print(not True)\n",
    "print(not False)"
   ]
  },
  {
   "cell_type": "markdown",
   "id": "27877fb7",
   "metadata": {},
   "source": [
    "# Q.4. Explain right shift operator and left shift operator with examples.\n",
    "\n",
    "\n",
    "The right shift (>>) and left shift (<<) operators are used for bit manipulation. These operators allow you to shift the bits of a binary number to the right or left.\n",
    "\n",
    "The right shift operator shifts the bits of a number to the right by a specified number of positions and the left shift operator shifts the bits of a number to the left by a specified number of positions."
   ]
  },
  {
   "cell_type": "code",
   "execution_count": 10,
   "id": "50e7a0da",
   "metadata": {},
   "outputs": [
    {
     "name": "stdout",
     "output_type": "stream",
     "text": [
      "2\n"
     ]
    }
   ],
   "source": [
    "#Example ---\n",
    "\n",
    "# 8 4 2 1\n",
    "# 1 0 1 0\n",
    "\n",
    "num = 10  # Binary: 1010\n",
    "\n",
    "# Right shift by 2 positions\n",
    "result1 = num >> 2\n",
    "print(result1)"
   ]
  },
  {
   "cell_type": "code",
   "execution_count": 12,
   "id": "2efe54d9",
   "metadata": {},
   "outputs": [
    {
     "name": "stdout",
     "output_type": "stream",
     "text": [
      "12\n"
     ]
    }
   ],
   "source": [
    "num = 3  # Binary: 0011\n",
    "\n",
    "# Left shift by 2 positions\n",
    "result = num << 2\n",
    "\n",
    "print(result)\n"
   ]
  },
  {
   "cell_type": "markdown",
   "id": "82a8a4d2",
   "metadata": {},
   "source": [
    "# Q.5. Create a list containing int type data of length 15. Then write a code to check if 10 is present in the list or not."
   ]
  },
  {
   "cell_type": "code",
   "execution_count": 16,
   "id": "0a6b865e",
   "metadata": {},
   "outputs": [
    {
     "name": "stdout",
     "output_type": "stream",
     "text": [
      "10 is present in the list.\n"
     ]
    }
   ],
   "source": [
    "my_list = list(range(1, 16))\n",
    "\n",
    "if 10 in my_list:\n",
    "    print(\"10 is present in the list.\")\n",
    "else:\n",
    "    print(\"10 is not present in the list.\")"
   ]
  },
  {
   "cell_type": "code",
   "execution_count": 21,
   "id": "d88c795a",
   "metadata": {},
   "outputs": [
    {
     "name": "stdout",
     "output_type": "stream",
     "text": [
      "10 is present in the list.\n"
     ]
    }
   ],
   "source": [
    "#The same we can do by checking for a random number every time we execute the below code ---\n",
    "\n",
    "import random\n",
    "\n",
    "# Creating a list of random integers\n",
    "my_list = [random.randint(1, 20) for i in range(15)]\n",
    "\n",
    "\n",
    "if 10 in my_list:\n",
    "    print(\"10 is present in the list.\")\n",
    "else:\n",
    "    print(\"10 is not present in the list.\")\n"
   ]
  }
 ],
 "metadata": {
  "kernelspec": {
   "display_name": "Python 3 (ipykernel)",
   "language": "python",
   "name": "python3"
  },
  "language_info": {
   "codemirror_mode": {
    "name": "ipython",
    "version": 3
   },
   "file_extension": ".py",
   "mimetype": "text/x-python",
   "name": "python",
   "nbconvert_exporter": "python",
   "pygments_lexer": "ipython3",
   "version": "3.9.13"
  }
 },
 "nbformat": 4,
 "nbformat_minor": 5
}
