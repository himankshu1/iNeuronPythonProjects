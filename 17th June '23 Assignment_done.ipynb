{
 "cells": [
  {
   "cell_type": "markdown",
   "id": "ea04dfa9",
   "metadata": {},
   "source": [
    "# 1. What is the role of try and exception block?\n",
    "\n",
    "The try and except blocks are used for exception handling, allowing to handle and till process the program from errors or exceptional situations that may occur during program execution.\n",
    "\n"
   ]
  },
  {
   "cell_type": "markdown",
   "id": "2bbf9053",
   "metadata": {},
   "source": [
    "# 2. What is the syntax for a basic try-except block?"
   ]
  },
  {
   "cell_type": "raw",
   "id": "d03b3836",
   "metadata": {},
   "source": [
    "try:\n",
    "    # Code that may raise an exception\n",
    "except ExceptionType:\n",
    "    # Code to handle the exception"
   ]
  },
  {
   "cell_type": "markdown",
   "id": "550c6e73",
   "metadata": {},
   "source": [
    "# 3. What happens if an exception occurs inside a try block and there is no matching except block?\n",
    "\n",
    "If an exception occurs inside a try block and there is no matching except block to handle that specific exception, the exception will propagate to call stack, and starts searching for an appropriate exception handler. If no suitable handler is found, the program will terminate, and an error message, known as an 'unhandled exception traceback', will be displayed."
   ]
  },
  {
   "cell_type": "markdown",
   "id": "e3ec9822",
   "metadata": {},
   "source": [
    "# 4. What is the difference between using a bare except block and specifying a specific exception type?\n",
    "\n",
    "\n",
    "A bare except block catches any type of exception that occurs within the try block. It does not specify a specific exception type, which makes it less specific. It catches all exceptions, including system-level errors or unexpected exceptions. It can make it harder to debug issues since the specific type of exception is not known.\n",
    "\n",
    "Specifying a specific exception type in an except block allows to catch and handle a particular type of exception. By specifying a specific exception type, we have more control over which exceptions we can handle. It helps in providing more meaningful error messages and specific error handling logic based on the exception type. Using and handling specific exception types can enhance the readability and maintainability of the code."
   ]
  },
  {
   "cell_type": "markdown",
   "id": "631af427",
   "metadata": {},
   "source": [
    "# 5. Can you have nested try-except blocks in Python? If yes, then give an example.\n",
    "\n",
    "Yes, it is possible to have nested try-except blocks in Python. This means that we can have one try block inside another try block, and the corresponding except blocks will also be nested."
   ]
  },
  {
   "cell_type": "code",
   "execution_count": 2,
   "id": "7af124d2",
   "metadata": {},
   "outputs": [
    {
     "name": "stdout",
     "output_type": "stream",
     "text": [
      "Inner try-except block - Cannot divide by zero\n",
      "Result: None\n"
     ]
    }
   ],
   "source": [
    "try:\n",
    "    # Outer try block\n",
    "    a = 10\n",
    "    b = 0\n",
    "    result = None\n",
    "\n",
    "    try:\n",
    "        # Inner try block\n",
    "        result = a / b\n",
    "    except ZeroDivisionError:\n",
    "        print(\"Inner try-except block - Cannot divide by zero\")\n",
    "\n",
    "except ZeroDivisionError:\n",
    "    print(\"Outer try-except block - Cannot divide by zero\")\n",
    "\n",
    "print(\"Result:\", result)"
   ]
  },
  {
   "cell_type": "markdown",
   "id": "fe5b1030",
   "metadata": {},
   "source": [
    "# 6. Can we use multiple exception blocks, if yes then give an example."
   ]
  },
  {
   "cell_type": "code",
   "execution_count": 5,
   "id": "8fe497a2",
   "metadata": {},
   "outputs": [
    {
     "name": "stdout",
     "output_type": "stream",
     "text": [
      "enter a number: 2\n",
      "enter a number: %\n",
      "Only integer values are allowed. Please try again!\n"
     ]
    }
   ],
   "source": [
    "try:\n",
    "    # Code that may raise exceptions\n",
    "    a = int(input('enter a number: '))\n",
    "    a = int(input('enter a number: '))\n",
    "    result = a / b\n",
    "\n",
    "except ZeroDivisionError:\n",
    "    # Handling ZeroDivisionError exception\n",
    "    print(\"Cannot divide by zero\")\n",
    "\n",
    "except ValueError:\n",
    "    # Handling ValueError exception\n",
    "    print(\"Only integer values are allowed. Please try again!\")\n",
    "\n",
    "except Exception as e:\n",
    "    # Handling another exceptions\n",
    "    print(\"An error occurred:\", str(e))\n"
   ]
  },
  {
   "cell_type": "markdown",
   "id": "6e15cf92",
   "metadata": {},
   "source": [
    "# 7. Write the reason due to which following errors are raised:\n",
    "    \n",
    "    \n",
    "a. EOFError\n",
    "\n",
    "b. FloatingPointError\n",
    "\n",
    "c. IndexError\n",
    "\n",
    "d. MemoryError\n",
    "\n",
    "e. OverflowError\n",
    "\n",
    "f. TabError\n",
    "\n",
    "g. ValueError\n",
    "\n",
    "\n",
    "EOFError: This error is raised when the input() function hits the end-of-file condition. It occurs when there is no more data to be read from the input source but the program expects additional input.\n",
    "\n",
    "FloatingPointError: This error is raised when a floating-point operation fails to execute or results in an undefined or unsupported mathematical operation, such as division by zero or taking the square root of a negative number.\n",
    "\n",
    "IndexError: This error is raised when we try to access an element from a sequence (like a list or a string) using an invalid index.\n",
    "\n",
    "MemoryError: This error is raised when an operation fails to allocate the required memory due to insufficient memory resources. It typically occurs when the program exceeds the available memory limit and cannot allocate more memory for a specific operation"
   ]
  },
  {
   "cell_type": "markdown",
   "id": "da5c4537",
   "metadata": {},
   "source": [
    "# 8. Write code for the following given scenario and add try-exception block to it.\n",
    "\n",
    "\n",
    "a. Program to divide two numbers\n",
    "\n",
    "b. Program to convert a string to an integer\n",
    "\n",
    "c. Program to access an element in a list\n",
    "\n",
    "d. Program to handle a specific exception\n",
    "\n",
    "e. Program to handle any exception"
   ]
  },
  {
   "cell_type": "code",
   "execution_count": 6,
   "id": "be10acbf",
   "metadata": {},
   "outputs": [
    {
     "name": "stdout",
     "output_type": "stream",
     "text": [
      "Enter the numerator: 1\n",
      "Enter the denominator: f\n",
      "Error: Invalid input! Please enter integers only\n"
     ]
    }
   ],
   "source": [
    "# divide two numbers\n",
    "try:\n",
    "    a = int(input(\"Enter the numerator: \"))\n",
    "    b = int(input(\"Enter the denominator: \"))\n",
    "    result = a / b\n",
    "    print(\"Result:\", result)\n",
    "except ZeroDivisionError:\n",
    "    print(\"Error: Cannot divide by zero\")\n",
    "except ValueError:\n",
    "    print(\"Error: Invalid input! Please enter integers only\")"
   ]
  },
  {
   "cell_type": "code",
   "execution_count": 7,
   "id": "b6b79b76",
   "metadata": {},
   "outputs": [
    {
     "name": "stdout",
     "output_type": "stream",
     "text": [
      "Enter a number: d\n",
      "Error: Invalid input! Please enter a valid integer\n"
     ]
    }
   ],
   "source": [
    "# convert a string to an integer\n",
    "\n",
    "try:\n",
    "    num_str = input(\"Enter a number: \")\n",
    "    num = int(num_str)\n",
    "    print(\"Converted number:\", num)\n",
    "except ValueError:\n",
    "    print(\"Error: Invalid input! Please enter a valid integer\")"
   ]
  },
  {
   "cell_type": "code",
   "execution_count": 9,
   "id": "7003658d",
   "metadata": {},
   "outputs": [
    {
     "name": "stdout",
     "output_type": "stream",
     "text": [
      "Enter the index: 6\n",
      "Error: Index out of range\n"
     ]
    }
   ],
   "source": [
    "# access an element in a list\n",
    "\n",
    "try:\n",
    "    my_list = [1, 2, 3, 4, 5]\n",
    "    index = int(input(\"Enter the index: \"))\n",
    "    value = my_list[index]\n",
    "    print(\"Value at index\", index, \":\", value)\n",
    "except IndexError:\n",
    "    print(\"Error: Index out of range\")\n",
    "except ValueError:\n",
    "    print(\"Error: Invalid index! Please enter a valid integer.\")\n"
   ]
  },
  {
   "cell_type": "code",
   "execution_count": 10,
   "id": "85a9e718",
   "metadata": {},
   "outputs": [
    {
     "name": "stdout",
     "output_type": "stream",
     "text": [
      "Enter your age: -23\n",
      "Custom Exception: Age cannot be negative\n"
     ]
    }
   ],
   "source": [
    "# handle a specific exception\n",
    "\n",
    "class CustomException(Exception):\n",
    "    def __init__(self, message):\n",
    "        self.message = message\n",
    "\n",
    "try:\n",
    "    age = int(input(\"Enter your age: \"))\n",
    "\n",
    "    if age < 0:\n",
    "        raise CustomException(\"Age cannot be negative\")\n",
    "\n",
    "    print(\"Your age:\", age)\n",
    "\n",
    "except CustomException as ce:\n",
    "    print(\"Custom Exception:\", ce.message)\n",
    "except Exception as e:\n",
    "    print(\"An error occurred:\", str(e))"
   ]
  },
  {
   "cell_type": "code",
   "execution_count": 11,
   "id": "e14a085a",
   "metadata": {},
   "outputs": [
    {
     "name": "stdout",
     "output_type": "stream",
     "text": [
      "An error occurred: division by zero\n"
     ]
    }
   ],
   "source": [
    "# handle any exception\n",
    "\n",
    "try:\n",
    "    # Code that may raise exceptions\n",
    "    x = 10 / 0  # a ZeroDivisionError\n",
    "except Exception as e:\n",
    "    # Handling any exception\n",
    "    print(\"An error occurred:\", str(e))"
   ]
  },
  {
   "cell_type": "code",
   "execution_count": null,
   "id": "889308ae",
   "metadata": {},
   "outputs": [],
   "source": []
  }
 ],
 "metadata": {
  "kernelspec": {
   "display_name": "Python 3 (ipykernel)",
   "language": "python",
   "name": "python3"
  },
  "language_info": {
   "codemirror_mode": {
    "name": "ipython",
    "version": 3
   },
   "file_extension": ".py",
   "mimetype": "text/x-python",
   "name": "python",
   "nbconvert_exporter": "python",
   "pygments_lexer": "ipython3",
   "version": "3.9.13"
  }
 },
 "nbformat": 4,
 "nbformat_minor": 5
}
